{
  "nbformat": 4,
  "nbformat_minor": 0,
  "metadata": {
    "kernelspec": {
      "display_name": "Python 3",
      "language": "python",
      "name": "python3"
    },
    "language_info": {
      "codemirror_mode": {
        "name": "ipython",
        "version": 3
      },
      "file_extension": ".py",
      "mimetype": "text/x-python",
      "name": "python",
      "nbconvert_exporter": "python",
      "pygments_lexer": "ipython3",
      "version": "3.6.3"
    },
    "colab": {
      "name": "Operadores.ipynb",
      "provenance": [],
      "include_colab_link": true
    }
  },
  "cells": [
    {
      "cell_type": "markdown",
      "metadata": {
        "id": "view-in-github",
        "colab_type": "text"
      },
      "source": [
        "<a href=\"https://colab.research.google.com/github/mariaeduardagimenes/PythonTutorial/blob/master/Operadores.ipynb\" target=\"_parent\"><img src=\"https://colab.research.google.com/assets/colab-badge.svg\" alt=\"Open In Colab\"/></a>"
      ]
    },
    {
      "cell_type": "markdown",
      "metadata": {
        "id": "a-9wTriQPL8M",
        "colab_type": "text"
      },
      "source": [
        "# Operadores aritméticos\n",
        "\n",
        "\n",
        "| Operador | Significado   | Exemplo                    |\n",
        "|:---|:---|:---|\n",
        "|     +    | Adição        | a = 3 + 2                  |\n",
        "|     -    | Subtração     | b = 7 - a                  |\n",
        "|     *    | Multiplicação | c = a * b                  |\n",
        "|     /    | Divisão       | d = 10/3                   |\n",
        "|    //    | Quociente     | e = 10//3                  |\n",
        "|     %    | Resto         | f = 10%3                   |\n",
        "|    **    | Exponenciação | g = 2 ** 3                 |\n",
        "|    **    | Radiciação    | h = 16 ** (1/2)            |"
      ]
    },
    {
      "cell_type": "code",
      "metadata": {
        "id": "29qiTMHdPL8N",
        "colab_type": "code",
        "colab": {}
      },
      "source": [
        "a = 3 + 2\n",
        "print(a)"
      ],
      "execution_count": null,
      "outputs": []
    },
    {
      "cell_type": "code",
      "metadata": {
        "id": "aChvO18mPL8U",
        "colab_type": "code",
        "colab": {}
      },
      "source": [
        "b = 7 - a\n",
        "print(b)"
      ],
      "execution_count": null,
      "outputs": []
    },
    {
      "cell_type": "code",
      "metadata": {
        "id": "-8abQs6GPL8Z",
        "colab_type": "code",
        "colab": {}
      },
      "source": [
        "c = a * b\n",
        "print(c)"
      ],
      "execution_count": null,
      "outputs": []
    },
    {
      "cell_type": "code",
      "metadata": {
        "id": "ehzbRVP6PL8d",
        "colab_type": "code",
        "colab": {}
      },
      "source": [
        "d = 10 / 3\n",
        "print(d)"
      ],
      "execution_count": null,
      "outputs": []
    },
    {
      "cell_type": "code",
      "metadata": {
        "id": "_--E0fb6PL8g",
        "colab_type": "code",
        "colab": {}
      },
      "source": [
        "e = 10 // 3\n",
        "print(e)"
      ],
      "execution_count": null,
      "outputs": []
    },
    {
      "cell_type": "code",
      "metadata": {
        "id": "2kV5ySApPL8i",
        "colab_type": "code",
        "colab": {}
      },
      "source": [
        "f = 10 % 3\n",
        "print(f)"
      ],
      "execution_count": null,
      "outputs": []
    },
    {
      "cell_type": "code",
      "metadata": {
        "id": "TkrVnRt1PL8k",
        "colab_type": "code",
        "colab": {}
      },
      "source": [
        "g = 2 ** 3\n",
        "print(g)"
      ],
      "execution_count": null,
      "outputs": []
    },
    {
      "cell_type": "code",
      "metadata": {
        "id": "6gfBuk7GPL8m",
        "colab_type": "code",
        "colab": {}
      },
      "source": [
        "h = 16 ** (1/2)\n",
        "print(h)"
      ],
      "execution_count": null,
      "outputs": []
    },
    {
      "cell_type": "markdown",
      "metadata": {
        "id": "_szSPYdrPL8n",
        "colab_type": "text"
      },
      "source": [
        "# Operadores de atribuição do Python\n",
        "\n",
        "\n",
        "| Operador | Exemplo | Significado |\n",
        "|:---|:---|:---|\n",
        "|     =    | a = 5 | Atribuição simples |\n",
        "| += | a += 2 | a = a + 2 |\n",
        "| -= | a -= 2 | a = a - 2 |\n",
        "| \\*= | a \\*= 2 | a = a \\* 2 |\n",
        "| /= | a /= 2 | a = a / 2 |\n",
        "| //= | a //= 2 | a = a // 2 |\n",
        "| %= | a %= 2 | a = a % 2 |\n",
        "| \\*\\*= | a \\*\\*= 2 | a = a \\*\\* 2 |\n",
        "\n",
        "\n"
      ]
    },
    {
      "cell_type": "code",
      "metadata": {
        "id": "vrpZ9aAnPL8o",
        "colab_type": "code",
        "colab": {}
      },
      "source": [
        "a = 5\n",
        "print(a)"
      ],
      "execution_count": null,
      "outputs": []
    },
    {
      "cell_type": "code",
      "metadata": {
        "id": "leGoyMG5PL8p",
        "colab_type": "code",
        "colab": {}
      },
      "source": [
        "a += 2\n",
        "print(a)"
      ],
      "execution_count": null,
      "outputs": []
    },
    {
      "cell_type": "code",
      "metadata": {
        "id": "DNWtSjo6PL8q",
        "colab_type": "code",
        "colab": {}
      },
      "source": [
        "a -= 2\n",
        "print(a)"
      ],
      "execution_count": null,
      "outputs": []
    },
    {
      "cell_type": "code",
      "metadata": {
        "id": "aL46--YDPL8r",
        "colab_type": "code",
        "colab": {}
      },
      "source": [
        "a *= 2\n",
        "print(a)"
      ],
      "execution_count": null,
      "outputs": []
    },
    {
      "cell_type": "code",
      "metadata": {
        "id": "44qSajZXPL8t",
        "colab_type": "code",
        "colab": {}
      },
      "source": [
        "a /= 2\n",
        "print(a)"
      ],
      "execution_count": null,
      "outputs": []
    },
    {
      "cell_type": "code",
      "metadata": {
        "id": "muA8kw3PPL8u",
        "colab_type": "code",
        "colab": {}
      },
      "source": [
        "a = 7\n",
        "a //= 2\n",
        "print(a)"
      ],
      "execution_count": null,
      "outputs": []
    },
    {
      "cell_type": "code",
      "metadata": {
        "id": "o9rk2L0sPL8v",
        "colab_type": "code",
        "colab": {}
      },
      "source": [
        "a = 7\n",
        "a %= 2\n",
        "print(a)"
      ],
      "execution_count": null,
      "outputs": []
    },
    {
      "cell_type": "code",
      "metadata": {
        "id": "lBgKv9FZPL8x",
        "colab_type": "code",
        "colab": {}
      },
      "source": [
        "a = 3\n",
        "a **= 2\n",
        "print(a)"
      ],
      "execution_count": null,
      "outputs": []
    },
    {
      "cell_type": "markdown",
      "metadata": {
        "id": "GAREB8uaPL8y",
        "colab_type": "text"
      },
      "source": [
        "# Operadores relacionais (operadores de comparação)\n",
        "\n",
        "| Operador | Significado   | Exemplo                    |\n",
        "|:---|:---|:---|\n",
        "| == | Igualdade | a == b |\n",
        "| != | DesiIgualdade | a != b |\n",
        "| > | Maior que | a > b |\n",
        "| < | Menor que | a < b |\n",
        "| >= | Maior ou igual | a >= b |\n",
        "| <= | Menor ou igual | a <= b |"
      ]
    },
    {
      "cell_type": "code",
      "metadata": {
        "id": "SF_u53uGPL8y",
        "colab_type": "code",
        "colab": {}
      },
      "source": [
        "a = 5\n",
        "b = 3\n",
        "a == b"
      ],
      "execution_count": null,
      "outputs": []
    },
    {
      "cell_type": "code",
      "metadata": {
        "id": "aF8dvTDTPL8z",
        "colab_type": "code",
        "colab": {}
      },
      "source": [
        "a != b"
      ],
      "execution_count": null,
      "outputs": []
    },
    {
      "cell_type": "code",
      "metadata": {
        "id": "DIYvqBc1PL80",
        "colab_type": "code",
        "colab": {}
      },
      "source": [
        "a > b"
      ],
      "execution_count": null,
      "outputs": []
    },
    {
      "cell_type": "code",
      "metadata": {
        "id": "lJxjt6V0PL81",
        "colab_type": "code",
        "colab": {}
      },
      "source": [
        "a < b"
      ],
      "execution_count": null,
      "outputs": []
    },
    {
      "cell_type": "code",
      "metadata": {
        "id": "JtHV8r3pPL82",
        "colab_type": "code",
        "colab": {}
      },
      "source": [
        "a >= b"
      ],
      "execution_count": null,
      "outputs": []
    },
    {
      "cell_type": "code",
      "metadata": {
        "id": "pbgNPoP-PL83",
        "colab_type": "code",
        "colab": {}
      },
      "source": [
        "b <= a"
      ],
      "execution_count": null,
      "outputs": []
    },
    {
      "cell_type": "markdown",
      "metadata": {
        "id": "ZtstGX0JPL85",
        "colab_type": "text"
      },
      "source": [
        "# Operadores lógicos (conectivos lógicos)\n",
        "\n",
        "| Operador | Significado   | Exemplo                    |\n",
        "|:---|:---|:---|\n",
        "| and | **E** lógico | a == b and b == c |\n",
        "| or | **OU** lógico | a == b or b == c |\n",
        "| ^ | **OU** exclusivo (XOR) | a == b ^ b == c |\n",
        "| not | Negação (inverte o resultado lógico) | not(a == b and b == c) |\n",
        "\n",
        "### Tabela verdade (AND)\n",
        "\n",
        "| a | b | a and b |\n",
        "|:--:|:--:|:--:|\n",
        "| True  | True  | **True** |\n",
        "| True  | False | False |\n",
        "| False | True  | False |\n",
        "| False | False | False |\n",
        "\n",
        "| a | b | c | a and b and c |\n",
        "|:--:|:--:|:--:|:--:|\n",
        "| True  | True  | True  | **True** |\n",
        "| True  | True  | False | False |\n",
        "| True  | False | True  | False |\n",
        "| True  | False | False | False |\n",
        "| False | True  | True  | False |\n",
        "| False | True  | False | False |\n",
        "| False | False | True  | False |\n",
        "| False | False | False | False |\n",
        "\n",
        "### Tabela verdade (OR)\n",
        "\n",
        "| a | b | a and b |\n",
        "|:--:|:--:|:--:|\n",
        "| True  | True  | **True** |\n",
        "| True  | False | **True** |\n",
        "| False | True  | **True** |\n",
        "| False | False | False |\n",
        "\n",
        "### Tabela verdade (XOR)\n",
        "\n",
        "| a | b | a ^ b |\n",
        "|:--:|:--:|:--:|\n",
        "| True  | True  | False |\n",
        "| True  | False | **True** |\n",
        "| False | True  | **True** |\n",
        "| False | False | False |\n",
        "\n",
        "### Tabela verdade (NOT)\n",
        "| a | not(a) |\n",
        "|:--:|:--:|\n",
        "| True  | False |\n",
        "| False | **True** |"
      ]
    },
    {
      "cell_type": "code",
      "metadata": {
        "id": "tmvhtgQqPL85",
        "colab_type": "code",
        "colab": {}
      },
      "source": [
        "# TABELA DO AND (com 2 booleanos)\n",
        "print(\" x     | y     | x and y \")\n",
        "print(\"-------------------------\")\n",
        "print(\" True  | True  |\", True and True )\n",
        "print(\" True  | False |\", True and False )\n",
        "print(\" False | True  |\", False and True)\n",
        "print(\" False | False |\", False and False)"
      ],
      "execution_count": null,
      "outputs": []
    },
    {
      "cell_type": "code",
      "metadata": {
        "id": "TL-eZb2yPL86",
        "colab_type": "code",
        "colab": {}
      },
      "source": [
        "# TABELA DO AND (com 3 booleanos)\n",
        "print(\" x     | y     | z     |  x and y and z \")\n",
        "print(\"----------------------------------------\")\n",
        "print(\" True  | True  | True  |\",True and True and True)\n",
        "print(\" True  | True  | False |\",True and True and False)\n",
        "print(\" True  | False | True  |\",True and False and True)\n",
        "print(\" True  | False | False |\",True and False and False)\n",
        "print(\" False | True  | True  |\",False and True and True)\n",
        "print(\" False | True  | False |\",False and True and False)\n",
        "print(\" False | False | True  |\",False and False and True)\n",
        "print(\" False | False | False |\",False and False and False)"
      ],
      "execution_count": null,
      "outputs": []
    },
    {
      "cell_type": "code",
      "metadata": {
        "id": "shRrYahPPL87",
        "colab_type": "code",
        "colab": {}
      },
      "source": [
        "# TABELA DO OR\n",
        "print(\" x     | y     | x or y \")\n",
        "print(\"-------------------------\")\n",
        "print(\" True  | True  |\",True or True )\n",
        "print(\" True  | False |\",True or False )\n",
        "print(\" False | True  |\",False or True)\n",
        "print(\" False | False |\",False or False)"
      ],
      "execution_count": null,
      "outputs": []
    },
    {
      "cell_type": "code",
      "metadata": {
        "id": "9KnyTEZLPL88",
        "colab_type": "code",
        "colab": {}
      },
      "source": [
        "# TABELA DO XOR (EXCLUSIVE OR)\n",
        "print(\" x     | y     | x ^ y \")\n",
        "print(\"-------------------------\")\n",
        "print(\" True  | True  |\",True ^ True )\n",
        "print(\" True  | False |\",True ^ False )\n",
        "print(\" False | True  |\",False ^ True)\n",
        "print(\" False | False |\",False ^ False)"
      ],
      "execution_count": null,
      "outputs": []
    },
    {
      "cell_type": "code",
      "metadata": {
        "id": "7CKYxjccPL89",
        "colab_type": "code",
        "colab": {}
      },
      "source": [
        "# TABELA DO NOT\n",
        "print(\" x     | not(x) \")\n",
        "print(\"----------------\")\n",
        "print(\" True  |\",not(True))\n",
        "print(\" False |\",not(False))"
      ],
      "execution_count": null,
      "outputs": []
    },
    {
      "cell_type": "markdown",
      "metadata": {
        "id": "V2R_c3GKPL8-",
        "colab_type": "text"
      },
      "source": [
        "# Operadores de identidade\n",
        "\n",
        "| Operador | Significado   | Exemplo                    |\n",
        "|:---|:---|:---|\n",
        "| is | Verifica se duas referências apontam para o mesmo objeto | a is b |\n",
        "| is not | Verifica se duas referências apontam para diferentes objetos | a is not b |\n",
        "\n",
        "Veja um [exemplo](https://bit.ly/2YXrQAD) bem intuitivo que criei no Pythontutor."
      ]
    },
    {
      "cell_type": "code",
      "metadata": {
        "id": "kYVH9qVXPL8-",
        "colab_type": "code",
        "colab": {}
      },
      "source": [
        "a = 5\n",
        "b = 5\n",
        "c = a\n",
        "print(\"a is b = \", a is b)\n",
        "print(\"a is c = \", a is c)\n",
        "print(\"b is c = \", b is c)\n",
        "print(\"a is not b = \", a is not b)\n",
        "print(\"a is not c = \", a is not c)\n",
        "print(\"b is not c = \", b is not c)"
      ],
      "execution_count": null,
      "outputs": []
    },
    {
      "cell_type": "code",
      "metadata": {
        "id": "LXRiX_D6PL8_",
        "colab_type": "code",
        "colab": {}
      },
      "source": [
        "1015 // 60"
      ],
      "execution_count": null,
      "outputs": []
    },
    {
      "cell_type": "code",
      "metadata": {
        "id": "L8vxyUY7PL9A",
        "colab_type": "code",
        "colab": {}
      },
      "source": [
        "1015 % 60"
      ],
      "execution_count": null,
      "outputs": []
    },
    {
      "cell_type": "code",
      "metadata": {
        "collapsed": true,
        "id": "UPUF39BBPL9B",
        "colab_type": "code",
        "colab": {}
      },
      "source": [
        ""
      ],
      "execution_count": null,
      "outputs": []
    }
  ]
}