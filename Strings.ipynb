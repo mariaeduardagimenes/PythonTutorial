{
  "nbformat": 4,
  "nbformat_minor": 0,
  "metadata": {
    "kernelspec": {
      "display_name": "Python 3",
      "language": "python",
      "name": "python3"
    },
    "language_info": {
      "codemirror_mode": {
        "name": "ipython",
        "version": 3
      },
      "file_extension": ".py",
      "mimetype": "text/x-python",
      "name": "python",
      "nbconvert_exporter": "python",
      "pygments_lexer": "ipython3",
      "version": "3.7.2"
    },
    "colab": {
      "name": "Strings.ipynb",
      "provenance": [],
      "include_colab_link": true
    }
  },
  "cells": [
    {
      "cell_type": "markdown",
      "metadata": {
        "id": "view-in-github",
        "colab_type": "text"
      },
      "source": [
        "<a href=\"https://colab.research.google.com/github/mariaeduardagimenes/PythonTutorial/blob/master/Strings.ipynb\" target=\"_parent\"><img src=\"https://colab.research.google.com/assets/colab-badge.svg\" alt=\"Open In Colab\"/></a>"
      ]
    },
    {
      "cell_type": "markdown",
      "metadata": {
        "id": "7PFPjQuxQFlu",
        "colab_type": "text"
      },
      "source": [
        "# Strings\n",
        "\n",
        "Em Python, variáveis do tipo `str`, ou **strings**, são as variáveis que armazenam informações de texto (por exemplo: seu nome, seu endereço, o seu tipo sanguíneo, etc). Como em outras linguagens de programação, as strings em Python são uma sequência (ou uma cadeia) de caracteres. Por exemplo, a string `Jupyter Notebook`, cuja representação você pode ver na figura abaixo, é interpretada pelo Python como uma seqüência de caracteres em uma ordem específica. \n",
        "\n",
        "![Coloque a imagem String.png na mesma pasta que o notebook Strings.ipynb](String.png)\n",
        "\n",
        "Ou seja, da mesma forma que em uma lista, cada caractere em uma string possui um índice. Em nosso exemplo, a letra `J` está armazenada no índice 0, a letra `u` no índice 1, e assim por diante. Através da indexação, portanto, podemos acessar uma única posição, ou várias posições. \n",
        "\n",
        "Nessa aula veremos:\n",
        "\n",
        "1. Como criar strings\n",
        "2. Indexação\n",
        "3. Slicing (fatiamento)\n",
        "4. Operadores aplicados a strings\n",
        "5. Imutabilidade das strings\n",
        "6. Métodos do objeto string"
      ]
    },
    {
      "cell_type": "markdown",
      "metadata": {
        "id": "9j4rqE3NQFlv",
        "colab_type": "text"
      },
      "source": [
        "### 1. Criando strings\n",
        "\n",
        "Strings são criadas através de aspas simples (apóstrofos) ou aspas duplas (aspas). "
      ]
    },
    {
      "cell_type": "code",
      "metadata": {
        "id": "m9bJMVlKQFlw",
        "colab_type": "code",
        "colab": {}
      },
      "source": [
        "'Hello world!!!' # Usando apóstrofos para criar uma string"
      ],
      "execution_count": null,
      "outputs": []
    },
    {
      "cell_type": "code",
      "metadata": {
        "id": "b8ogzQRfQFl2",
        "colab_type": "code",
        "colab": {}
      },
      "source": [
        "\"Hello world!!!\" # Usando aspas para criar uma string"
      ],
      "execution_count": null,
      "outputs": []
    },
    {
      "cell_type": "code",
      "metadata": {
        "id": "qkgLz40oQFl6",
        "colab_type": "code",
        "colab": {}
      },
      "source": [
        "\"I'm a teacher.\" # Exemplo de uso de aspas e apóstrofos em um mesmo string"
      ],
      "execution_count": null,
      "outputs": []
    },
    {
      "cell_type": "code",
      "metadata": {
        "id": "7S5vfyj6QFl-",
        "colab_type": "code",
        "colab": {}
      },
      "source": [
        "'Ele é \"bonito\"... kkk' # Exemplo de uso de aspas e apóstrofos em um mesmo string"
      ],
      "execution_count": null,
      "outputs": []
    },
    {
      "cell_type": "code",
      "metadata": {
        "id": "YwddvZzDQFmB",
        "colab_type": "code",
        "colab": {}
      },
      "source": [
        "# Criando uma variável string\n",
        "nome = \"Joaquim\""
      ],
      "execution_count": null,
      "outputs": []
    },
    {
      "cell_type": "code",
      "metadata": {
        "id": "k9ye1bxMQFmD",
        "colab_type": "code",
        "colab": {}
      },
      "source": [
        "# Exibindo o conteúdo da variável nome\n",
        "nome"
      ],
      "execution_count": null,
      "outputs": []
    },
    {
      "cell_type": "code",
      "metadata": {
        "id": "t10TcFgQQFmF",
        "colab_type": "code",
        "colab": {}
      },
      "source": [
        "# Em outras IDE's, a forma correta de mostrar o conteúdo de uma variável é através do print\n",
        "print(nome)"
      ],
      "execution_count": null,
      "outputs": []
    },
    {
      "cell_type": "code",
      "metadata": {
        "id": "4BGfA9NJQFmG",
        "colab_type": "code",
        "colab": {}
      },
      "source": [
        "# Verificando o tipo da variável nome\n",
        "type(nome)"
      ],
      "execution_count": null,
      "outputs": []
    },
    {
      "cell_type": "code",
      "metadata": {
        "id": "-rIl_9W-QFmI",
        "colab_type": "code",
        "colab": {}
      },
      "source": [
        "# Retornando o tamanho do string\n",
        "len(nome)"
      ],
      "execution_count": null,
      "outputs": []
    },
    {
      "cell_type": "markdown",
      "metadata": {
        "id": "wztn9RIwQFmJ",
        "colab_type": "text"
      },
      "source": [
        "### 2. Indexação em strings\n",
        "\n",
        "Para acessarmos uma posição em particular, vamos utilizar os colchetes. Dentro de colchetes então colocamos o índice que desejamos acessar.\n",
        "\n",
        "s\\[índice\\] => Acessa uma única posição."
      ]
    },
    {
      "cell_type": "code",
      "metadata": {
        "id": "gVmOCkoQQFmJ",
        "colab_type": "code",
        "colab": {}
      },
      "source": [
        "\"\"\" \n",
        "Definindo a string s = \"Python\"\n",
        "\n",
        "+---+---+---+---+---+---+\n",
        "| P | y | t | h | o | n |\n",
        "+---+---+---+---+---+---+\n",
        "  0   1   2   3   4   5\n",
        "\"\"\"\n",
        "s = \"Python\"\n",
        "# Acessando cada caractere armazenado no string s\n",
        "print(s[0]) # P\n",
        "print(s[1]) # y\n",
        "print(s[2]) # t\n",
        "print(s[3]) # h\n",
        "print(s[4]) # o\n",
        "print(s[5]) # n"
      ],
      "execution_count": null,
      "outputs": []
    },
    {
      "cell_type": "code",
      "metadata": {
        "id": "dlCWqBKPQFmL",
        "colab_type": "code",
        "colab": {}
      },
      "source": [
        "\"\"\" \n",
        "+---+---+---+---+---+---+\n",
        "| P | y | t | h | o | n |\n",
        "+---+---+---+---+---+---+\n",
        " -6  -5  -4  -3  -2  -1\n",
        "\"\"\"\n",
        "# Acessando cada caractere armazenado no string s (utilizando índices decrescentes)\n",
        "print(s[-6]) # P\n",
        "print(s[-5]) # y\n",
        "print(s[-4]) # t\n",
        "print(s[-3]) # h\n",
        "print(s[-2]) # o\n",
        "print(s[-1]) # n"
      ],
      "execution_count": null,
      "outputs": []
    },
    {
      "cell_type": "code",
      "metadata": {
        "id": "WiDnj2V9QFmM",
        "colab_type": "code",
        "colab": {}
      },
      "source": [
        "# Acessando o caractere armazendo na última posição\n",
        "# 1a opção\n",
        "s[5]"
      ],
      "execution_count": null,
      "outputs": []
    },
    {
      "cell_type": "code",
      "metadata": {
        "id": "6bKlNcdLQFmO",
        "colab_type": "code",
        "colab": {}
      },
      "source": [
        "# Acessando o caractere armazendo na última posição\n",
        "# 2a opção\n",
        "s[len(s)-1]"
      ],
      "execution_count": null,
      "outputs": []
    },
    {
      "cell_type": "code",
      "metadata": {
        "id": "IVJ3pGGRQFmP",
        "colab_type": "code",
        "colab": {}
      },
      "source": [
        "# Acessando o caractere armazendo na última posição\n",
        "# 3a opção\n",
        "s[-1]"
      ],
      "execution_count": null,
      "outputs": []
    },
    {
      "cell_type": "markdown",
      "metadata": {
        "id": "13zdVqawQFmQ",
        "colab_type": "text"
      },
      "source": [
        "### 3. Slicing (fatiamento) em strings\n",
        "\n",
        "Caso você deseje acessar mais de uma posição, você deve utilizar a técnica de *slicing* (ou fatiamento). \n",
        "\n",
        "* `s[ind]` => Acessa uma única posição.\n",
        "* `s[inicial:final]` => Acessa os caracteres armazenados entre os índices *ind_inicial* e *ind_inicial-1*\n",
        "* `s[inicial:final:inc]` => Acessa os caracteres armazenados entre os índices *inicial* e *ind_inicial-1* com incremento *inc*\n",
        "\n",
        "Em nosso exemplo vamos utilizar o string `Jupyter Notebook`.\n",
        "\n",
        "![Coloque a imagem String.png na mesma pasta que o notebook Strings.ipynb](String.png)"
      ]
    },
    {
      "cell_type": "code",
      "metadata": {
        "id": "ye0nZTwWQFmQ",
        "colab_type": "code",
        "colab": {}
      },
      "source": [
        "# Redefinindo a string s\n",
        "s = \"Jupyter Notebook\""
      ],
      "execution_count": null,
      "outputs": []
    },
    {
      "cell_type": "code",
      "metadata": {
        "id": "ydSIXQ87QFmR",
        "colab_type": "code",
        "colab": {}
      },
      "source": [
        "# Retornando apenas a palavra Jupyter - 1a opção\n",
        "s[0:7] # Estamos acessando o string s a partir do índice 0 até o índice 6"
      ],
      "execution_count": null,
      "outputs": []
    },
    {
      "cell_type": "code",
      "metadata": {
        "id": "1pIOugjTQFmT",
        "colab_type": "code",
        "colab": {}
      },
      "source": [
        "# Retornando apenas a palavra Jupyter - 2a opção\n",
        "s[-16:-9] # Estamos acessando o string s a partir do índice -16 até o índice -10"
      ],
      "execution_count": null,
      "outputs": []
    },
    {
      "cell_type": "code",
      "metadata": {
        "id": "Vo0Rk9DiQFmU",
        "colab_type": "code",
        "colab": {}
      },
      "source": [
        "# Retornando apenas a palavra Jupyter - 3a opção\n",
        "s[:7] # Estamos acessando o string s a partir do início até o índice 6"
      ],
      "execution_count": null,
      "outputs": []
    },
    {
      "cell_type": "code",
      "metadata": {
        "id": "_Ynp_0NWQFmV",
        "colab_type": "code",
        "colab": {}
      },
      "source": [
        "# Retornando apenas a palavra Jupyter - 4a opção\n",
        "s[:-9] # Estamos acessando o string s a partir do início até o índice -10"
      ],
      "execution_count": null,
      "outputs": []
    },
    {
      "cell_type": "code",
      "metadata": {
        "id": "oTdxVFBGQFmW",
        "colab_type": "code",
        "colab": {}
      },
      "source": [
        "# Retornando apenas a palavra Notebook - 1a opção\n",
        "s[8:16] # Estamos acessando o string s a partir do índice 8 até o índice 15"
      ],
      "execution_count": null,
      "outputs": []
    },
    {
      "cell_type": "code",
      "metadata": {
        "id": "A3zVue2CQFmX",
        "colab_type": "code",
        "colab": {}
      },
      "source": [
        "# Retornando apenas a palavra Notebook - 2a opção\n",
        "s[-8:] # Estamos acessando o string s a partir do índice -16 até o índice -9"
      ],
      "execution_count": null,
      "outputs": []
    },
    {
      "cell_type": "code",
      "metadata": {
        "id": "shUgmyUMQFmY",
        "colab_type": "code",
        "colab": {}
      },
      "source": [
        "# Retornando apenas a palavra Notebook - 3a opção\n",
        "s[8:] # Estamos acessando o string s a partir do início até o índice 6"
      ],
      "execution_count": null,
      "outputs": []
    },
    {
      "cell_type": "code",
      "metadata": {
        "id": "ue01qttvQFmZ",
        "colab_type": "code",
        "colab": {}
      },
      "source": [
        "# Nós podemos acessar posições não contínuas\n",
        "s[0:7:2] # Serão acessados os caracteres armazenados nas posiçõs 0, 2, 4 e 6 (o incremento informado foi 2)"
      ],
      "execution_count": null,
      "outputs": []
    },
    {
      "cell_type": "code",
      "metadata": {
        "id": "hb-dNJcuQFma",
        "colab_type": "code",
        "colab": {}
      },
      "source": [
        "# Serão acessadas os caracteres armazenados desde o início até o final, com incremento de 3 (posições 0,3,6,9,12,15)\n",
        "s[::3] "
      ],
      "execution_count": null,
      "outputs": []
    },
    {
      "cell_type": "code",
      "metadata": {
        "id": "eOQLLipbQFmb",
        "colab_type": "code",
        "colab": {}
      },
      "source": [
        "# Com incrementos negativos, podemos acessar o string em ordem invertida - 1a opçao\n",
        "s[-1::-1] # da posição -1 até o início, com incremento -1"
      ],
      "execution_count": null,
      "outputs": []
    },
    {
      "cell_type": "code",
      "metadata": {
        "id": "VnhwzxN1QFmc",
        "colab_type": "code",
        "colab": {}
      },
      "source": [
        "# Com incrementos negativos, podemos acessar o string em ordem invertida - 2a opçao\n",
        "s[-1:-17:-1] # da posição -1 até a posição -16, com incremento -1"
      ],
      "execution_count": null,
      "outputs": []
    },
    {
      "cell_type": "code",
      "metadata": {
        "id": "oMvMYL1LQFmd",
        "colab_type": "code",
        "colab": {}
      },
      "source": [
        "# Com incrementos negativos, podemos acessar o string em ordem invertida - 3a opçao\n",
        "s[16::-1] # da posição 16 até p início, com incremento -1"
      ],
      "execution_count": null,
      "outputs": []
    },
    {
      "cell_type": "code",
      "metadata": {
        "id": "1EQ9VUcNQFme",
        "colab_type": "code",
        "colab": {}
      },
      "source": [
        "# Com incrementos negativos, podemos acessar o string em ordem invertida - 4a opçao\n",
        "s[::-1] # do final até o início, com incremento -1"
      ],
      "execution_count": null,
      "outputs": []
    },
    {
      "cell_type": "code",
      "metadata": {
        "id": "X9y2yP4vQFmf",
        "colab_type": "code",
        "colab": {}
      },
      "source": [
        "# Acessando partes do string, a partir do início\n",
        "p = \"Python\"\n",
        "print(p[:0]) # ''\n",
        "print(p[:1]) # 'P'\n",
        "print(p[:2]) # 'Py'\n",
        "print(p[:3]) # 'Pyt'\n",
        "print(p[:4]) # 'Pyth'\n",
        "print(p[:5]) # 'Pytho'\n",
        "print(p[:6]) # 'Python'\n",
        "print(p[:])  # 'Python'"
      ],
      "execution_count": null,
      "outputs": []
    },
    {
      "cell_type": "code",
      "metadata": {
        "id": "5d1lkzG-QFmg",
        "colab_type": "code",
        "colab": {}
      },
      "source": [
        "print(p[0:1]) # 'P'\n",
        "print(p[0:2]) # 'Py'\n",
        "print(p[0:3]) # 'Pyt'\n",
        "print(p[0:4]) # 'Pyth'\n",
        "print(p[0:5]) # 'Pytho'\n",
        "print(p[0:6]) # 'Python'\n",
        "print(p[0:])  # 'Python'"
      ],
      "execution_count": null,
      "outputs": []
    },
    {
      "cell_type": "code",
      "metadata": {
        "id": "D87W6JPkQFmh",
        "colab_type": "code",
        "colab": {}
      },
      "source": [
        "# Acessando partes do string, de uma posição qualquer até o final\n",
        "print(p[:])  # 'Python'\n",
        "print(p[0:]) # 'Python'\n",
        "print(p[1:]) # 'ython'\n",
        "print(p[2:]) # 'thon'\n",
        "print(p[3:]) # 'hon'\n",
        "print(p[4:]) # 'on'\n",
        "print(p[5:]) # 'n'\n",
        "print(p[6:]) # ''"
      ],
      "execution_count": null,
      "outputs": []
    },
    {
      "cell_type": "markdown",
      "metadata": {
        "id": "auWYnZ3vQFmi",
        "colab_type": "text"
      },
      "source": [
        "### 4. Operadores aplicados a strings\n",
        "\n",
        "| Operador | Significado   | Exemplo                    |\n",
        "|:---|:---|:---|\n",
        "| s\\[ind\\] | Acesso a uma posição | `s[0]` |\n",
        "| s\\[i:f\\] | Acesso a uma faixa de posições | `s[1:3]` |\n",
        "| s\\[i:f:inc\\] | Acesso a uma faixa de posições com incremento | `s[0:15:3]` |\n",
        "| s1 + s2 | Concatenação de strings | `novastr = s1 + s2` |\n",
        "| s\\*n | Retorna um string contendo n repetições de s | `s = 'ABC'*10` |\n",
        "| s1 in s2 | Retorna True se o substring *s1* está contido em *s2* | `'ABC' in 'ABCDEFGH'` |\n",
        "| s1 not in s2 | Retorna True se o substring *s1* não está contido em *s2* | `'XYZ' not in 'ABCDEFGH'` |"
      ]
    },
    {
      "cell_type": "code",
      "metadata": {
        "id": "0cy4lWjQQFmi",
        "colab_type": "code",
        "colab": {}
      },
      "source": [
        "s = \"A linguagem Python é demais!\"\n",
        "s1 = \"Python\"\n",
        "print(s[0])  # \"A\"\n",
        "print(s[2:11]) # \"linguagem\"\n",
        "print(s[::-1]) # \"\"!siamed é nohtyP megaugnil A\"\n",
        "s2 = s + \" Sensacional!!!\" # Concatenação\n",
        "print(s2)\n",
        "s3 = s1*3 # Concatenando o string s1 3 vezes\n",
        "print(s3)\n",
        "print(\"O substring '{}' está contindo em '{}' => {}\".format(s1, s, s1 in s))\n",
        "print(\"O substring '{}' não está contindo em '{}' => {}\".format(s3, s2, s3 not in s2))"
      ],
      "execution_count": null,
      "outputs": []
    },
    {
      "cell_type": "markdown",
      "metadata": {
        "id": "IXyw0v3OQFmj",
        "colab_type": "text"
      },
      "source": [
        "### 5. Strings são imutáveis\n",
        "\n",
        "Vamos supor que queremos trocar um único caractere digitado errado em um string."
      ]
    },
    {
      "cell_type": "code",
      "metadata": {
        "id": "mzakDSm9QFmj",
        "colab_type": "code",
        "colab": {}
      },
      "source": [
        "s = \"PythoM\" # Python digitado com erro\n",
        "s[5] = \"n\" # tentando corrigir, substituindo o caractere M armazenado no índice pelo n"
      ],
      "execution_count": null,
      "outputs": []
    },
    {
      "cell_type": "code",
      "metadata": {
        "id": "JKNUFfcMQFmk",
        "colab_type": "code",
        "colab": {}
      },
      "source": [
        "# Para corrigir vamos precisar redefinir o string\n",
        "s = \"Python\"\n",
        "s"
      ],
      "execution_count": null,
      "outputs": []
    },
    {
      "cell_type": "markdown",
      "metadata": {
        "id": "tSVTlo2JQFml",
        "colab_type": "text"
      },
      "source": [
        "### 6. Métodos do objeto String\n",
        "\n",
        "| Método | Descrição | Exemplo |\n",
        "|:------------|:---------------------------------------------------------------------------------------------|:--------------|\n",
        "| [capitalize()](https://www.programiz.com/python-programming/methods/string/capitalize) | Retorna uma cópia da string com primeiro caractere maiúsculo e os caracteres restantes em minúsculo | `s.capitalize()`|\n",
        "| [casefold()](https://www.programiz.com/python-programming/methods/string/casefold) | Retorna uma cópia da string convertido para letras minúsculas | `s.casefold()` |\n",
        "| [center()](https://www.programiz.com/python-programming/methods/string/center) | Retorna uma cópia da string centralizada e preenchida com o caractere especificado (*default* = espaço em branco) | `s.center(20)` |\n",
        "| [center()](https://www.programiz.com/python-programming/methods/string/center) | Retorna uma cópia da string centralizada e preenchida com o caractere especificado (*default* = espaço em branco) | `s.center(20, '*')` |\n",
        "| [count()](https://www.programiz.com/python-programming/methods/string/count) | Retorna o número de ocorrências de um determinado substring | `s.count('abc')` |\n",
        "| [encode()](https://www.programiz.com/python-programming/methods/string/encode) | Retorna uma cópia da string utilizando um determinando *encoding* (*default* = UTF-8)| `s.encode()`|\n",
        "| [endswith()](https://www.programiz.com/python-programming/methods/string/endswith) | Retorna `True` se uma string terminar com o sufixo especificado | `s.endswith(\"python\")` |\n",
        "| [expandtabs()](https://www.programiz.com/python-programming/methods/string/expandtabs) | Retorna uma cópia da string no qual os caracteres de tabulação `\\t` são substituídos por caracteres de espaço em branco | s.expandtabs(3)\n",
        "| [find()](https://www.programiz.com/python-programming/methods/string/find) | Retorna o índice da primeira ocorrência da substring. Se não encontrado, retorna -1 | `s.find('python')` |\n",
        "| [format()](https://www.programiz.com/python-programming/methods/string/format) | Formata a string de entrada em uma string de saída | `\"{} é {}\".format(\"Python\", \"demais!\")` |\n",
        "| [index()](https://www.programiz.com/python-programming/methods/string/index) | Retorna o índice da primeira ocorrência de uma substring dentro da string. Se a substring não for encontrada, levanta uma exceção | `s.index('python')`|\n",
        "| [isalnum()](https://www.programiz.com/python-programming/methods/string/isalnum) | Retorna `True` se todos os caracteres na string forem alfanuméricos (letras ou números) | `s.isalnum()`|\n",
        "| [isalpha()](https://www.programiz.com/python-programming/methods/string/isalpha) | Retorna `True` se a string tiver apenas letras |`s.isalpha()`|\n",
        "| isascii() | Retorna True se todos os caracteres na string forem ASCII | `s.isascii()`|\n",
        "| [isdecimal()](https://www.programiz.com/python-programming/methods/string/isdecimal) | Retorna `True` se todos os caracteres na string forem decimais (0 a 9) | `s.isdecimal()` |\n",
        "| [isdigit()](https://www.programiz.com/python-programming/methods/string/isdigit) | Retorna `True` se todos os caracteres na string forem dígitos (ex: 3²) | `s.isdigit()`|\n",
        "| [isidentifier()](https://www.programiz.com/python-programming/methods/string/isidentifier) | Retorna `True` se a string for um identificador válido em Python | `s.isidentifier()`|\n",
        "| [islower()](https://www.programiz.com/python-programming/methods/string/islower) | Retorna `True` se todos as letras da string forem letras minúsculas | `s.islower()` |\n",
        "| [isnumeric()](https://www.programiz.com/python-programming/methods/string/isnumeric) | Retorna `True` se todos os caracteres na string forem numéricos (ex: ½) | `s.isnumeric()`|\n",
        "| [isprintable()](https://www.programiz.com/python-programming/methods/string/isprintable) | Retorna `True` se todos os caracteres da string podem ser impressos | `s.isprintable()`|\n",
        "| [isspace()](https://www.programiz.com/python-programming/methods/string/isspace) | Retorna `True` se houverem apenas espaços em branco na string | `s.isspace()` |\n",
        "| [istitle()](https://www.programiz.com/python-programming/methods/string/istitle) | Retorna `True` se a string estiver em formato de *título*, ou seja, se cada palavra da string começa com letra maiúscula e tem o restante das letras minúsculas | `s.istitle()`|\n",
        "| [isupper()](https://www.programiz.com/python-programming/methods/string/isupper) | Retorna `True` se todos as letras do string forem letras maiúsculas | `s.isupper()` |\n",
        "| [ljust()](https://www.programiz.com/python-programming/methods/string/ljust) | Retorna uma cópia da string justificada à esquerda| `s.ljust(20)`|\n",
        "| [lower()](https://www.programiz.com/python-programming/methods/string/lower) | Retorna uma cópia da string com as letras maiúsculas convertidas em minúsculas | `s.lower()`|\n",
        "| [lstrip()](https://www.programiz.com/python-programming/methods/string/lstrip) | Retorna uma cópia da string com os caracteres passados por parâmetro removidos do início da string | `s.lstrip(' *@')` |\n",
        "| [partition()](https://www.programiz.com/python-programming/methods/string/partition) | Divide a string e retorna uma tupla contendo a parte antes do separador (primeira ocorrência), a string de argumento (separador) e a parte após o separador | `s.partition('@')`|\n",
        "| [replace()](https://www.programiz.com/python-programming/methods/string/replace) | Retorna uma cópia da string onde todas as ocorrências de uma substring são substituídas por outra | `s.partition('@',' at ')`|\n",
        "| [rfind()](https://www.programiz.com/python-programming/methods/string/rfind) | Retorna o índice da última ocorrência da substring. Se não encontrado, retorna -1 | `s.rfind('python')` |\n",
        "| [rindex()](https://www.programiz.com/python-programming/methods/string/rindex) | Retorna o índice da última ocorrência da substring dentro da string. Se a substring não for encontrada, levanta uma exceção | `s.rindex('python')`|\n",
        "| [rjust()](https://www.programiz.com/python-programming/methods/string/rjust) | Retorna uma cópia da string justificada à direita | `s.rjust(20)`|\n",
        "| [rpartition()](https://www.programiz.com/python-programming/methods/string/partition) | Divide a string e retorna uma tupla contendo a parte antes do separador (última ocorrência), a string de argumento (separador) e a parte após o separador | `s.rpartition('@')`|\n",
        "| [rsplit()](https://www.programiz.com/python-programming/methods/string/rsplit) | Divide a string à partir da direita (última posição), usando um separador passado por parâmetro, e retorna uma lista de strings| `s.rsplit(';')`|\n",
        "| [rstrip()](https://www.programiz.com/python-programming/methods/string/rstrip) | Retorna uma cópia da string com os caracteres passados por parâmetro removidos do final da string | `s.rstrip('!?.')` |\n",
        "| [split()](https://www.programiz.com/python-programming/methods/string/split) | Divide a string à partir da esquerda (primeira posição), usando um separador passado por parâmetro, e retorna uma lista de strings| `s.split(';')`|\n",
        "| [splitlines()](https://www.programiz.com/python-programming/methods/string/splitlines) | Divide e retorna as linhas contidas em uma string  | `s.splitlines()`|\n",
        "| [starstwith()](https://www.programiz.com/python-programming/methods/string/startswith) | Retorna `True` se uma string começar com o prefixo especificado | `s.starstwith(\"Python\")` |\n",
        "| [strip()](https://www.programiz.com/python-programming/methods/string/strip) | Retorna uma cópia da string com os caracteres passados por parâmetro removidos do início e do final da string | `s.strip(' *@')` |\n",
        "| [swapcase()](https://www.w3schools.com/python/ref_string_swapcase.asp) | Retorna uma cópia da string com letras minúsculas convertidas em maiúsculas e vice-versa | `s.swapcase()`|\n",
        "| [title()](https://www.programiz.com/python-programming/methods/string/title) | Retorna uma cópia da string com a primeira letra de cada palavra convertida para maiúscula | `s.title()` |\n",
        "| [upper()](https://www.programiz.com/python-programming/methods/string/upper) | Retorna uma cópia da string com as letras minúsculas convertidas em maiúsculas | `s.upper()`|\n",
        "| [zfill()](https://www.programiz.com/python-programming/methods/string/zfill) | Retorna uma cópia da string preenchida com 0s (zeros) à esquerda | `s.zfill(8)`|"
      ]
    },
    {
      "cell_type": "markdown",
      "metadata": {
        "id": "Lu-8j2R7QFml",
        "colab_type": "text"
      },
      "source": [
        "### Exemplo do método capitalize()"
      ]
    },
    {
      "cell_type": "code",
      "metadata": {
        "id": "tEs2QmBsQFml",
        "colab_type": "code",
        "colab": {}
      },
      "source": [
        "s = \"a linguagem python é demais!\"\n",
        "s.capitalize()"
      ],
      "execution_count": null,
      "outputs": []
    },
    {
      "cell_type": "code",
      "metadata": {
        "id": "04YyuQ1xQFmm",
        "colab_type": "code",
        "colab": {}
      },
      "source": [
        "# Importante ressaltar que a string s não foi alterada\n",
        "s"
      ],
      "execution_count": null,
      "outputs": []
    },
    {
      "cell_type": "code",
      "metadata": {
        "id": "1ChP1sL8QFmn",
        "colab_type": "code",
        "colab": {}
      },
      "source": [
        "s1 = s.capitalize()\n",
        "print(s)\n",
        "print(s1)"
      ],
      "execution_count": null,
      "outputs": []
    },
    {
      "cell_type": "markdown",
      "metadata": {
        "id": "PQj_w0O9QFmo",
        "colab_type": "text"
      },
      "source": [
        "### Exemplo dos métodos casefold(),  lower() e upper()"
      ]
    },
    {
      "cell_type": "code",
      "metadata": {
        "id": "22WYWX86QFmo",
        "colab_type": "code",
        "colab": {}
      },
      "source": [
        "s = \"AbCdEf\"\n",
        "s1 = s.casefold()\n",
        "s1"
      ],
      "execution_count": null,
      "outputs": []
    },
    {
      "cell_type": "code",
      "metadata": {
        "id": "rRmb5-WrQFmp",
        "colab_type": "code",
        "colab": {}
      },
      "source": [
        "s2 = s.lower()\n",
        "s2"
      ],
      "execution_count": null,
      "outputs": []
    },
    {
      "cell_type": "code",
      "metadata": {
        "id": "srlbFv9cQFmq",
        "colab_type": "code",
        "colab": {}
      },
      "source": [
        "s3 = s.upper()\n",
        "s3"
      ],
      "execution_count": null,
      "outputs": []
    },
    {
      "cell_type": "code",
      "metadata": {
        "id": "UIGAP5vEQFmr",
        "colab_type": "code",
        "colab": {}
      },
      "source": [
        "# casefold() é mais agressivo em sua conversão se comparado ao lower()\n",
        "s4 = \"Der Fluß\"\n",
        "s5 = s4.casefold()\n",
        "s5"
      ],
      "execution_count": null,
      "outputs": []
    },
    {
      "cell_type": "code",
      "metadata": {
        "id": "87YsiS8uQFms",
        "colab_type": "code",
        "colab": {}
      },
      "source": [
        "s6 = s4.lower()\n",
        "s6"
      ],
      "execution_count": null,
      "outputs": []
    },
    {
      "cell_type": "markdown",
      "metadata": {
        "id": "OTqxnApwQFmt",
        "colab_type": "text"
      },
      "source": [
        "### Exemplo do método center()"
      ]
    },
    {
      "cell_type": "code",
      "metadata": {
        "id": "SLNoHx67QFmt",
        "colab_type": "code",
        "colab": {}
      },
      "source": [
        "s = \"PYTHON\"\n",
        "s"
      ],
      "execution_count": null,
      "outputs": []
    },
    {
      "cell_type": "code",
      "metadata": {
        "id": "GAqgM9AXQFmu",
        "colab_type": "code",
        "colab": {}
      },
      "source": [
        "s1 = s.center(20) # Centralizar s em um string de tamanho 20 - completa com espaços a esquerda e direita\n",
        "s1"
      ],
      "execution_count": null,
      "outputs": []
    },
    {
      "cell_type": "code",
      "metadata": {
        "id": "kxSZT0ncQFmu",
        "colab_type": "code",
        "colab": {}
      },
      "source": [
        "s2 = s.center(30, \"*\") # Centralizar s em um string de tamanho 30 - completa com espaços a esquerda e direita\n",
        "s2"
      ],
      "execution_count": null,
      "outputs": []
    },
    {
      "cell_type": "markdown",
      "metadata": {
        "id": "FYeK2EKQQFmv",
        "colab_type": "text"
      },
      "source": [
        "### Exemplo do método count()"
      ]
    },
    {
      "cell_type": "code",
      "metadata": {
        "id": "gI-NEFXfQFmv",
        "colab_type": "code",
        "colab": {}
      },
      "source": [
        "s = \"A linguagem Python é demais!\"\n",
        "s.count(\"a\")"
      ],
      "execution_count": null,
      "outputs": []
    },
    {
      "cell_type": "code",
      "metadata": {
        "id": "C4VfCz5dQFmw",
        "colab_type": "code",
        "colab": {}
      },
      "source": [
        "s.count(\"A\")"
      ],
      "execution_count": null,
      "outputs": []
    },
    {
      "cell_type": "code",
      "metadata": {
        "id": "IFdGNxo1QFmw",
        "colab_type": "code",
        "colab": {}
      },
      "source": [
        "s.count(\"b\")"
      ],
      "execution_count": null,
      "outputs": []
    },
    {
      "cell_type": "code",
      "metadata": {
        "id": "PU1jAyMeQFmx",
        "colab_type": "code",
        "colab": {}
      },
      "source": [
        "s.count(\"demais\")"
      ],
      "execution_count": null,
      "outputs": []
    },
    {
      "cell_type": "markdown",
      "metadata": {
        "id": "9QM1OIA7QFmy",
        "colab_type": "text"
      },
      "source": [
        "### Exemplo do método encode()"
      ]
    },
    {
      "cell_type": "code",
      "metadata": {
        "id": "nZcWbOngQFmy",
        "colab_type": "code",
        "colab": {}
      },
      "source": [
        "s = \"Mоето име е Päivi\"\n",
        "s1 = s.encode() # Codifica usando o UTF-8 por padrão\n",
        "s1"
      ],
      "execution_count": null,
      "outputs": []
    },
    {
      "cell_type": "markdown",
      "metadata": {
        "id": "WfG9WUJdQFmz",
        "colab_type": "text"
      },
      "source": [
        "### Exemplo dos métodos endswith() e startswith()"
      ]
    },
    {
      "cell_type": "code",
      "metadata": {
        "id": "qmwR-2p-QFmz",
        "colab_type": "code",
        "colab": {}
      },
      "source": [
        "s = \"A linguagem Python é demais!\"\n",
        "s.endswith(\"demais\") # False"
      ],
      "execution_count": null,
      "outputs": []
    },
    {
      "cell_type": "code",
      "metadata": {
        "id": "zmt-xG31QFm0",
        "colab_type": "code",
        "colab": {}
      },
      "source": [
        "s.endswith(\"demais!\") # True"
      ],
      "execution_count": null,
      "outputs": []
    },
    {
      "cell_type": "code",
      "metadata": {
        "id": "W0DjOPi9QFm1",
        "colab_type": "code",
        "colab": {}
      },
      "source": [
        "s.endswith(\"demais!\", 12) # True - Verifica se o substring a partir da posição 12 terminar com \"demais!\""
      ],
      "execution_count": null,
      "outputs": []
    },
    {
      "cell_type": "code",
      "metadata": {
        "id": "qGeSTibeQFm2",
        "colab_type": "code",
        "colab": {}
      },
      "source": [
        "s[2:18] # Substring formado da posição 2 à 17"
      ],
      "execution_count": null,
      "outputs": []
    },
    {
      "cell_type": "code",
      "metadata": {
        "id": "wWaq7XvUQFm2",
        "colab_type": "code",
        "colab": {}
      },
      "source": [
        "s.endswith(\"Python\", 2, 18) # True"
      ],
      "execution_count": null,
      "outputs": []
    },
    {
      "cell_type": "code",
      "metadata": {
        "id": "1we4zkWaQFm3",
        "colab_type": "code",
        "colab": {}
      },
      "source": [
        "s.startswith(\"A l\") # True"
      ],
      "execution_count": null,
      "outputs": []
    },
    {
      "cell_type": "code",
      "metadata": {
        "id": "RB70-N3MQFm4",
        "colab_type": "code",
        "colab": {}
      },
      "source": [
        "s.startswith(\"Python\") # False"
      ],
      "execution_count": null,
      "outputs": []
    },
    {
      "cell_type": "code",
      "metadata": {
        "id": "r0ef_QvuQFm5",
        "colab_type": "code",
        "colab": {}
      },
      "source": [
        "s.startswith(\"Python\", 12) # True"
      ],
      "execution_count": null,
      "outputs": []
    },
    {
      "cell_type": "markdown",
      "metadata": {
        "id": "dENAV9COQFm5",
        "colab_type": "text"
      },
      "source": [
        "### Exemplo do método expandtabs()"
      ]
    },
    {
      "cell_type": "code",
      "metadata": {
        "id": "5fRz4-_ZQFm5",
        "colab_type": "code",
        "colab": {}
      },
      "source": [
        "s = \"col1\\tcol2\\tcol3\"\n",
        "print(s)"
      ],
      "execution_count": null,
      "outputs": []
    },
    {
      "cell_type": "code",
      "metadata": {
        "id": "URTgW_UIQFm6",
        "colab_type": "code",
        "colab": {}
      },
      "source": [
        "s1 = s.expandtabs() # Substitui as tabulações por espaços (default = 8)\n",
        "print(s1)"
      ],
      "execution_count": null,
      "outputs": []
    },
    {
      "cell_type": "code",
      "metadata": {
        "id": "wpv9XGbQQFm7",
        "colab_type": "code",
        "colab": {}
      },
      "source": [
        "print(\"Tabsize =  5\",s.expandtabs(5))\n",
        "print(\"Tabsize =  6\",s.expandtabs(6))\n",
        "print(\"Tabsize =  7\",s.expandtabs(7))\n",
        "print(\"Tabsize =  8\",s.expandtabs())\n",
        "print(\"Tabsize =  9\",s.expandtabs(9))\n",
        "print(\"Tabsize = 10\",s.expandtabs(10))"
      ],
      "execution_count": null,
      "outputs": []
    },
    {
      "cell_type": "markdown",
      "metadata": {
        "id": "zPP6f8m9QFm7",
        "colab_type": "text"
      },
      "source": [
        "### Exemplo dos métodos find(), rfind(), index() e rindex()"
      ]
    },
    {
      "cell_type": "code",
      "metadata": {
        "id": "XRtHI4b-QFm8",
        "colab_type": "code",
        "colab": {}
      },
      "source": [
        "s = \"A linguagem Python é demais! Python é sensacional.\"\n",
        "s.find(\"Python\") # Procura pelo substring \"Python\" no string s usando o método find()"
      ],
      "execution_count": null,
      "outputs": []
    },
    {
      "cell_type": "code",
      "metadata": {
        "id": "ru472fH-QFm8",
        "colab_type": "code",
        "colab": {}
      },
      "source": [
        "s.rfind(\"Python\") # Procura pelo substring \"Python\" no string s usando o método rfind()"
      ],
      "execution_count": null,
      "outputs": []
    },
    {
      "cell_type": "code",
      "metadata": {
        "id": "wRFN1U8iQFm9",
        "colab_type": "code",
        "colab": {}
      },
      "source": [
        "s.index(\"Python\") # Procura pelo substring \"Python\" no string s usando o método index()"
      ],
      "execution_count": null,
      "outputs": []
    },
    {
      "cell_type": "code",
      "metadata": {
        "id": "3PDmdXfAQFm9",
        "colab_type": "code",
        "colab": {}
      },
      "source": [
        "s.rindex(\"Python\") # Procura pelo substring \"Python\" no string s usando o método rindex()"
      ],
      "execution_count": null,
      "outputs": []
    },
    {
      "cell_type": "code",
      "metadata": {
        "id": "RJfKB1BWQFm-",
        "colab_type": "code",
        "colab": {}
      },
      "source": [
        "s.find(\"python\") # Procura pelo substring \"python\" no string s usando o método find()"
      ],
      "execution_count": null,
      "outputs": []
    },
    {
      "cell_type": "code",
      "metadata": {
        "id": "Y-9u4DB9QFm_",
        "colab_type": "code",
        "colab": {}
      },
      "source": [
        "s.rfind(\"python\") # Procura pelo substring \"python\" no string s usando o método rfind()"
      ],
      "execution_count": null,
      "outputs": []
    },
    {
      "cell_type": "code",
      "metadata": {
        "id": "r9z3EDyDQFnA",
        "colab_type": "code",
        "colab": {}
      },
      "source": [
        "s.index(\"python\") # Procura pelo substring \"python\" no string s usando o método index()"
      ],
      "execution_count": null,
      "outputs": []
    },
    {
      "cell_type": "code",
      "metadata": {
        "id": "AgszUJbtQFnA",
        "colab_type": "code",
        "colab": {}
      },
      "source": [
        "s.rindex(\"python\") # Procura pelo substring \"python\" no string s usando o método rindex()"
      ],
      "execution_count": null,
      "outputs": []
    },
    {
      "cell_type": "code",
      "metadata": {
        "id": "qggxRz3kQFnB",
        "colab_type": "code",
        "colab": {}
      },
      "source": [
        "s1 = \"Olá! Este é um exemplo. Este é outro exemplo.\"\n",
        "s1.find(\"Este\") # Procura pelo substring \"Este\" no string s usando o método find()"
      ],
      "execution_count": null,
      "outputs": []
    },
    {
      "cell_type": "code",
      "metadata": {
        "id": "oRSzRv4_QFnC",
        "colab_type": "code",
        "colab": {}
      },
      "source": [
        "s1.rfind(\"Este\") # Procura pelo substring \"Este\" no string s usando o método rfind()"
      ],
      "execution_count": null,
      "outputs": []
    },
    {
      "cell_type": "code",
      "metadata": {
        "id": "6KiEO2iWQFnD",
        "colab_type": "code",
        "colab": {}
      },
      "source": [
        "s1.index(\"Este\") # Procura pelo substring \"Este\" no string s usando o método index()"
      ],
      "execution_count": null,
      "outputs": []
    },
    {
      "cell_type": "code",
      "metadata": {
        "id": "atNTqOX-QFnE",
        "colab_type": "code",
        "colab": {}
      },
      "source": [
        "s1.rindex(\"Este\") # Procura pelo substring \"Este\" no string s usando o método rindex()"
      ],
      "execution_count": null,
      "outputs": []
    },
    {
      "cell_type": "code",
      "metadata": {
        "id": "AZK-njCuQFnF",
        "colab_type": "code",
        "colab": {}
      },
      "source": [
        "s1.find(\"Este\", 15) # Procura pelo substring \"Este\" no string s, a partir do índice 15 usando o método find()"
      ],
      "execution_count": null,
      "outputs": []
    },
    {
      "cell_type": "code",
      "metadata": {
        "id": "fDfcZx3JQFnG",
        "colab_type": "code",
        "colab": {}
      },
      "source": [
        "s1.index(\"Este\", 15) # Procura pelo substring \"Este\" no string s, a partir do índice 15 usando o método index()"
      ],
      "execution_count": null,
      "outputs": []
    },
    {
      "cell_type": "code",
      "metadata": {
        "id": "wto1Bx4MQFnH",
        "colab_type": "code",
        "colab": {}
      },
      "source": [
        "s1.find(\"Este\", 10, 20) # Procura pelo substring \"Este\" no string s, entre os índices 10 e 19 usando o método find()"
      ],
      "execution_count": null,
      "outputs": []
    },
    {
      "cell_type": "code",
      "metadata": {
        "id": "ic75CY5uQFnH",
        "colab_type": "code",
        "colab": {}
      },
      "source": [
        "s1.index(\"Este\", 10, 20) # Procura pelo substring \"Este\" no string s, entre os índices 10 e 19 usando o método index()"
      ],
      "execution_count": null,
      "outputs": []
    },
    {
      "cell_type": "markdown",
      "metadata": {
        "id": "jyKAX1m_QFnI",
        "colab_type": "text"
      },
      "source": [
        "### Exemplo do método format()"
      ]
    },
    {
      "cell_type": "code",
      "metadata": {
        "id": "fbShAP_CQFnI",
        "colab_type": "code",
        "colab": {}
      },
      "source": [
        "nome = \"Joaquim\"\n",
        "idade = 60\n",
        "print(\"Meu nome é {} e tenho {} anos.\".format(nome, idade))"
      ],
      "execution_count": null,
      "outputs": []
    },
    {
      "cell_type": "code",
      "metadata": {
        "id": "lVYcGzeCQFnJ",
        "colab_type": "code",
        "colab": {}
      },
      "source": [
        "print(\"Meu nome é {0} e tenho {1} anos.\".format(nome, idade))"
      ],
      "execution_count": null,
      "outputs": []
    },
    {
      "cell_type": "code",
      "metadata": {
        "id": "4USKuJoBQFnK",
        "colab_type": "code",
        "colab": {}
      },
      "source": [
        "print(\"Meu nome é {} e tenho {} anos.\\nRepetindo... Meu nome é {} e tenho {} anos.\".format(nome, idade, nome, idade))"
      ],
      "execution_count": null,
      "outputs": []
    },
    {
      "cell_type": "code",
      "metadata": {
        "id": "KkByZaIUQFnL",
        "colab_type": "code",
        "colab": {}
      },
      "source": [
        "print(\"Meu nome é {0} e tenho {1} anos.\\nRepetindo... Eu tenho {1} anos e meu nome é {0}.\".format(nome, idade))"
      ],
      "execution_count": null,
      "outputs": []
    },
    {
      "cell_type": "code",
      "metadata": {
        "id": "T4GKYN28QFnM",
        "colab_type": "code",
        "colab": {}
      },
      "source": [
        "print(\"Meu nome é {name} e tenho {age} anos.\".format(age=18, name=\"Pedro\"))"
      ],
      "execution_count": null,
      "outputs": []
    },
    {
      "cell_type": "markdown",
      "metadata": {
        "id": "pNOc8M2fQFnM",
        "colab_type": "text"
      },
      "source": [
        "### Exemplo do método isalnum()"
      ]
    },
    {
      "cell_type": "code",
      "metadata": {
        "id": "ABOYF9wdQFnN",
        "colab_type": "code",
        "colab": {}
      },
      "source": [
        "s = \"D3C1FR4NDO\"\n",
        "s.isalnum() "
      ],
      "execution_count": null,
      "outputs": []
    },
    {
      "cell_type": "code",
      "metadata": {
        "id": "obgtgDU6QFnN",
        "colab_type": "code",
        "colab": {}
      },
      "source": [
        "s1 = \"D3C1FR4NDO 0 CÓD1G0\" \n",
        "s1.isalnum() # Falso por causa da presença de espaços"
      ],
      "execution_count": null,
      "outputs": []
    },
    {
      "cell_type": "markdown",
      "metadata": {
        "id": "tKxLCsslQFnO",
        "colab_type": "text"
      },
      "source": [
        "### Exemplo do método isalpha()"
      ]
    },
    {
      "cell_type": "code",
      "metadata": {
        "id": "YfCSoXw1QFnO",
        "colab_type": "code",
        "colab": {}
      },
      "source": [
        "s = \"D3C1FR4NDO\"\n",
        "s.isalpha()"
      ],
      "execution_count": null,
      "outputs": []
    },
    {
      "cell_type": "code",
      "metadata": {
        "id": "gWem9QWYQFnP",
        "colab_type": "code",
        "colab": {}
      },
      "source": [
        "s1 = \"CÓDIGO\"\n",
        "s1.isalpha()"
      ],
      "execution_count": null,
      "outputs": []
    },
    {
      "cell_type": "code",
      "metadata": {
        "id": "ugOThLd5QFnQ",
        "colab_type": "code",
        "colab": {}
      },
      "source": [
        "s2 = \"DECIFRANDO O CODIGO\"\n",
        "s2.isalpha()"
      ],
      "execution_count": null,
      "outputs": []
    },
    {
      "cell_type": "markdown",
      "metadata": {
        "id": "imAwpjioQFnR",
        "colab_type": "text"
      },
      "source": [
        "### Exemplo do método isascii()"
      ]
    },
    {
      "cell_type": "code",
      "metadata": {
        "id": "IahhlLGeQFnR",
        "colab_type": "code",
        "colab": {}
      },
      "source": [
        "cidade = 'ӓmsterdӓm'\n",
        "cidade.isascii()"
      ],
      "execution_count": null,
      "outputs": []
    },
    {
      "cell_type": "code",
      "metadata": {
        "id": "PIAUUmy7QFnR",
        "colab_type": "code",
        "colab": {}
      },
      "source": [
        "cidade = 'amsterdam'\n",
        "cidade.isascii()"
      ],
      "execution_count": null,
      "outputs": []
    },
    {
      "cell_type": "markdown",
      "metadata": {
        "id": "dox3rBVmQFnS",
        "colab_type": "text"
      },
      "source": [
        "A tabela [ASCII](https://pt.wikipedia.org/wiki/ASCII) é composta por 128 \"caracteres\" (sendo a maioria caracteres \"imprimíveis\") e não contempla caracteres acentuados."
      ]
    },
    {
      "cell_type": "markdown",
      "metadata": {
        "id": "4fQLpy-LQFnS",
        "colab_type": "text"
      },
      "source": [
        "### Exemplo dos métodos isdecimal(), isdigit() e isnumeric()\n",
        "\n",
        "* isdecimal() => 0, 1, 2, 3, 4, 5, 6, 7, 8, 9\n",
        "* isdigit()   => caracteres decimais + subscrito e sobrescrito\n",
        "* isnumeric   => caracteres decimais + subscrito e sobrescrito + caracteres UNICODE que representem frações, números romanos, etc"
      ]
    },
    {
      "cell_type": "code",
      "metadata": {
        "id": "CHvZBVQQQFnS",
        "colab_type": "code",
        "colab": {}
      },
      "source": [
        "a = \"12345\"\n",
        "b = \"1234²\"\n",
        "c = \"123²½\"\n",
        "print(\"a.isdecimal() = \", a.isdecimal())\n",
        "print(\"b.isdecimal() = \", b.isdecimal())\n",
        "print(\"c.isdecimal() = \", c.isdecimal())\n",
        "print(\"=\"*25)\n",
        "print(\"a.isdigit() = \", a.isdigit())\n",
        "print(\"b.isdigit() = \", b.isdigit())\n",
        "print(\"c.isdigit() = \", c.isdigit())\n",
        "print(\"=\"*25)\n",
        "print(\"a.isnumeric() = \", a.isnumeric())\n",
        "print(\"b.isnumeric() = \", b.isnumeric())\n",
        "print(\"c.isnumeric() = \", c.isnumeric())"
      ],
      "execution_count": null,
      "outputs": []
    },
    {
      "cell_type": "markdown",
      "metadata": {
        "id": "8fd9eEVIQFnT",
        "colab_type": "text"
      },
      "source": [
        "### Exemplo do método isidentifier()"
      ]
    },
    {
      "cell_type": "code",
      "metadata": {
        "id": "isB6xdltQFnU",
        "colab_type": "code",
        "colab": {}
      },
      "source": [
        "s = \"i23ER21\"\n",
        "s.isidentifier()"
      ],
      "execution_count": null,
      "outputs": []
    },
    {
      "cell_type": "code",
      "metadata": {
        "id": "ptkIJtzNQFnU",
        "colab_type": "code",
        "colab": {}
      },
      "source": [
        "s = \"_i23ER21\"\n",
        "s.isidentifier()"
      ],
      "execution_count": null,
      "outputs": []
    },
    {
      "cell_type": "code",
      "metadata": {
        "id": "cWr3XxFRQFnV",
        "colab_type": "code",
        "colab": {}
      },
      "source": [
        "s = \"nome-aluno\"\n",
        "s.isidentifier()"
      ],
      "execution_count": null,
      "outputs": []
    },
    {
      "cell_type": "code",
      "metadata": {
        "id": "THzzaAsaQFnW",
        "colab_type": "code",
        "colab": {}
      },
      "source": [
        "s = \"nome aluno\"\n",
        "s.isidentifier()"
      ],
      "execution_count": null,
      "outputs": []
    },
    {
      "cell_type": "code",
      "metadata": {
        "id": "2kEUS2BRQFnW",
        "colab_type": "code",
        "colab": {}
      },
      "source": [
        "s = \"nome_aluno\"\n",
        "s.isidentifier()"
      ],
      "execution_count": null,
      "outputs": []
    },
    {
      "cell_type": "markdown",
      "metadata": {
        "id": "qHj3EOSAQFnX",
        "colab_type": "text"
      },
      "source": [
        "### Exemplo dos métodos islower() e isupper()"
      ]
    },
    {
      "cell_type": "code",
      "metadata": {
        "id": "_QXZayh_QFnX",
        "colab_type": "code",
        "colab": {}
      },
      "source": [
        "s = \"nome_aluno\"\n",
        "s.islower()"
      ],
      "execution_count": null,
      "outputs": []
    },
    {
      "cell_type": "code",
      "metadata": {
        "id": "oUEvIiSbQFnY",
        "colab_type": "code",
        "colab": {}
      },
      "source": [
        "s.isupper()"
      ],
      "execution_count": null,
      "outputs": []
    },
    {
      "cell_type": "code",
      "metadata": {
        "id": "LPVUCPOlQFnY",
        "colab_type": "code",
        "colab": {}
      },
      "source": [
        "s1 = \"nomeAluno\"\n",
        "s1.islower()"
      ],
      "execution_count": null,
      "outputs": []
    },
    {
      "cell_type": "code",
      "metadata": {
        "id": "KSP61hv7QFnZ",
        "colab_type": "code",
        "colab": {}
      },
      "source": [
        "s1.isupper()"
      ],
      "execution_count": null,
      "outputs": []
    },
    {
      "cell_type": "code",
      "metadata": {
        "id": "94o-Md0kQFna",
        "colab_type": "code",
        "colab": {}
      },
      "source": [
        "s2 = \"minha senh@ é 1234\"\n",
        "s2.islower()"
      ],
      "execution_count": null,
      "outputs": []
    },
    {
      "cell_type": "code",
      "metadata": {
        "id": "sB0o-K_LQFnb",
        "colab_type": "code",
        "colab": {}
      },
      "source": [
        "s2.isupper()"
      ],
      "execution_count": null,
      "outputs": []
    },
    {
      "cell_type": "code",
      "metadata": {
        "id": "CZukVqrnQFnb",
        "colab_type": "code",
        "colab": {}
      },
      "source": [
        "s3 = \"TUDO MAIÚSCULO!!!\"\n",
        "s3.islower()"
      ],
      "execution_count": null,
      "outputs": []
    },
    {
      "cell_type": "code",
      "metadata": {
        "id": "mSgOnV_kQFnc",
        "colab_type": "code",
        "colab": {}
      },
      "source": [
        "s3.isupper()"
      ],
      "execution_count": null,
      "outputs": []
    },
    {
      "cell_type": "markdown",
      "metadata": {
        "id": "_BwX3ErWQFnd",
        "colab_type": "text"
      },
      "source": [
        "### Exemplo do método isprintable()"
      ]
    },
    {
      "cell_type": "code",
      "metadata": {
        "id": "gl24-7URQFnd",
        "colab_type": "code",
        "colab": {}
      },
      "source": [
        "s = \"col1\\tcol2\"\n",
        "s.isprintable()"
      ],
      "execution_count": null,
      "outputs": []
    },
    {
      "cell_type": "code",
      "metadata": {
        "id": "gi4Ow8_tQFne",
        "colab_type": "code",
        "colab": {}
      },
      "source": [
        "s1 = s.expandtabs()\n",
        "s1.isprintable()"
      ],
      "execution_count": null,
      "outputs": []
    },
    {
      "cell_type": "code",
      "metadata": {
        "id": "0zQ6LuOXQFne",
        "colab_type": "code",
        "colab": {}
      },
      "source": [
        "s2 = \"linha1\\nlinha2\"\n",
        "s2.isprintable()"
      ],
      "execution_count": null,
      "outputs": []
    },
    {
      "cell_type": "markdown",
      "metadata": {
        "id": "4zXWwsXRQFnf",
        "colab_type": "text"
      },
      "source": [
        "### Exemplo do método isspace()"
      ]
    },
    {
      "cell_type": "code",
      "metadata": {
        "id": "lm02aQPOQFnf",
        "colab_type": "code",
        "colab": {}
      },
      "source": [
        "s1 = \"A B\"\n",
        "s1[0].isspace()"
      ],
      "execution_count": null,
      "outputs": []
    },
    {
      "cell_type": "code",
      "metadata": {
        "id": "lL9I6TGXQFng",
        "colab_type": "code",
        "colab": {}
      },
      "source": [
        "s1[1].isspace()"
      ],
      "execution_count": null,
      "outputs": []
    },
    {
      "cell_type": "code",
      "metadata": {
        "id": "zYUil7CZQFng",
        "colab_type": "code",
        "colab": {}
      },
      "source": [
        "s1[2].isspace()"
      ],
      "execution_count": null,
      "outputs": []
    },
    {
      "cell_type": "markdown",
      "metadata": {
        "id": "RKvf7zNwQFnh",
        "colab_type": "text"
      },
      "source": [
        "### Exemplo do método istitle()"
      ]
    },
    {
      "cell_type": "code",
      "metadata": {
        "id": "RQ_MRbSrQFnh",
        "colab_type": "code",
        "colab": {}
      },
      "source": [
        "titulo = \"A Linguagem Python\"\n",
        "titulo.istitle()"
      ],
      "execution_count": null,
      "outputs": []
    },
    {
      "cell_type": "code",
      "metadata": {
        "id": "8xN9NmvmQFni",
        "colab_type": "code",
        "colab": {}
      },
      "source": [
        "titulo = \"A Linguagem de Programação Python\" # de => False\n",
        "titulo.istitle()"
      ],
      "execution_count": null,
      "outputs": []
    },
    {
      "cell_type": "code",
      "metadata": {
        "id": "smgEG96eQFni",
        "colab_type": "code",
        "colab": {}
      },
      "source": [
        "titulo = \"A Linguagem DE Programação Python\" # DE => False\n",
        "titulo.istitle()"
      ],
      "execution_count": null,
      "outputs": []
    },
    {
      "cell_type": "code",
      "metadata": {
        "id": "wzyk-u6jQFnj",
        "colab_type": "code",
        "colab": {}
      },
      "source": [
        "titulo = \"A Linguagem De Programação Python\"\n",
        "titulo.istitle()"
      ],
      "execution_count": null,
      "outputs": []
    },
    {
      "cell_type": "markdown",
      "metadata": {
        "id": "obHoVon7QFnj",
        "colab_type": "text"
      },
      "source": [
        "### Exemplo dos métodos ljust() e rjust()"
      ]
    },
    {
      "cell_type": "code",
      "metadata": {
        "id": "PqF-SV9AQFnk",
        "colab_type": "code",
        "colab": {}
      },
      "source": [
        "s = \"Esquerda\".ljust(20)\n",
        "s"
      ],
      "execution_count": null,
      "outputs": []
    },
    {
      "cell_type": "code",
      "metadata": {
        "id": "XTVrdpjyQFnk",
        "colab_type": "code",
        "colab": {}
      },
      "source": [
        "s1 = \"Direita\".rjust(20)\n",
        "s1"
      ],
      "execution_count": null,
      "outputs": []
    },
    {
      "cell_type": "code",
      "metadata": {
        "id": "jxzU3bw_QFnl",
        "colab_type": "code",
        "colab": {}
      },
      "source": [
        "s2 = \"Esquerda\".ljust(20,\"<\")\n",
        "s2"
      ],
      "execution_count": null,
      "outputs": []
    },
    {
      "cell_type": "code",
      "metadata": {
        "id": "bFZfpHTKQFnm",
        "colab_type": "code",
        "colab": {}
      },
      "source": [
        "s3 = \"Direita\".rjust(20,\">\")\n",
        "s3"
      ],
      "execution_count": null,
      "outputs": []
    },
    {
      "cell_type": "markdown",
      "metadata": {
        "id": "l8X1Gz-iQFnm",
        "colab_type": "text"
      },
      "source": [
        "### Exemplo dos métodos lstrip(), rstrip() e strip()"
      ]
    },
    {
      "cell_type": "code",
      "metadata": {
        "id": "6A7T4PdaQFnm",
        "colab_type": "code",
        "colab": {}
      },
      "source": [
        "s = \"      ABC   \"\n",
        "s1 = s.lstrip()\n",
        "s1"
      ],
      "execution_count": null,
      "outputs": []
    },
    {
      "cell_type": "code",
      "metadata": {
        "id": "FT6FHqCRQFnn",
        "colab_type": "code",
        "colab": {}
      },
      "source": [
        "s2 = s.rstrip()\n",
        "s2"
      ],
      "execution_count": null,
      "outputs": []
    },
    {
      "cell_type": "code",
      "metadata": {
        "id": "Ge4t5G7KQFnn",
        "colab_type": "code",
        "colab": {}
      },
      "source": [
        "s3 = s.strip()\n",
        "s3"
      ],
      "execution_count": null,
      "outputs": []
    },
    {
      "cell_type": "code",
      "metadata": {
        "id": "4VIwgr_lQFno",
        "colab_type": "code",
        "colab": {}
      },
      "source": [
        "link = \"https://www.python.org/\"\n",
        "s4 = link.lstrip(\"hpst:/\")\n",
        "s4"
      ],
      "execution_count": null,
      "outputs": []
    },
    {
      "cell_type": "code",
      "metadata": {
        "id": "OOU2474pQFnp",
        "colab_type": "code",
        "colab": {}
      },
      "source": [
        "s5 = link.rstrip(\"hpst:/\")\n",
        "s5"
      ],
      "execution_count": null,
      "outputs": []
    },
    {
      "cell_type": "code",
      "metadata": {
        "id": "KVWKdKmDQFnp",
        "colab_type": "code",
        "colab": {}
      },
      "source": [
        "s6 = link.strip(\"hpst:/\")\n",
        "s6"
      ],
      "execution_count": null,
      "outputs": []
    },
    {
      "cell_type": "markdown",
      "metadata": {
        "id": "lnLitRnMQFnq",
        "colab_type": "text"
      },
      "source": [
        "### Exemplo dos métodos partition(), rpartition(), split() e rsplit()"
      ]
    },
    {
      "cell_type": "code",
      "metadata": {
        "id": "bp7w1QzlQFnq",
        "colab_type": "code",
        "colab": {}
      },
      "source": [
        "email = \"pessoa@dominio.com.br\""
      ],
      "execution_count": null,
      "outputs": []
    },
    {
      "cell_type": "code",
      "metadata": {
        "id": "Soebn1TjQFnq",
        "colab_type": "code",
        "colab": {}
      },
      "source": [
        "t1 = email.partition(\"@\")\n",
        "t1"
      ],
      "execution_count": null,
      "outputs": []
    },
    {
      "cell_type": "code",
      "metadata": {
        "id": "SxHMFGl6QFnr",
        "colab_type": "code",
        "colab": {}
      },
      "source": [
        "type(t1)"
      ],
      "execution_count": null,
      "outputs": []
    },
    {
      "cell_type": "code",
      "metadata": {
        "id": "Ohzc0PHNQFns",
        "colab_type": "code",
        "colab": {}
      },
      "source": [
        "l1 = email.split(\"@\")\n",
        "l1"
      ],
      "execution_count": null,
      "outputs": []
    },
    {
      "cell_type": "code",
      "metadata": {
        "id": "1XdsLVK5QFns",
        "colab_type": "code",
        "colab": {}
      },
      "source": [
        "type(l1)"
      ],
      "execution_count": null,
      "outputs": []
    },
    {
      "cell_type": "code",
      "metadata": {
        "id": "8RBjClgOQFnt",
        "colab_type": "code",
        "colab": {}
      },
      "source": [
        "l2 = email.rsplit(\"@\")\n",
        "l2"
      ],
      "execution_count": null,
      "outputs": []
    },
    {
      "cell_type": "code",
      "metadata": {
        "id": "oSHmS8M3QFnt",
        "colab_type": "code",
        "colab": {}
      },
      "source": [
        "t2 = email.partition(\".\")\n",
        "t2"
      ],
      "execution_count": null,
      "outputs": []
    },
    {
      "cell_type": "code",
      "metadata": {
        "id": "NZ_R4RHaQFnu",
        "colab_type": "code",
        "colab": {}
      },
      "source": [
        "l3 = email.split(\".\")\n",
        "l3"
      ],
      "execution_count": null,
      "outputs": []
    },
    {
      "cell_type": "code",
      "metadata": {
        "id": "J3zDmpNiQFnv",
        "colab_type": "code",
        "colab": {}
      },
      "source": [
        "l4 = email.rsplit(\".\")\n",
        "l4"
      ],
      "execution_count": null,
      "outputs": []
    },
    {
      "cell_type": "code",
      "metadata": {
        "id": "5AQDaLkaQFnv",
        "colab_type": "code",
        "colab": {}
      },
      "source": [
        "l5 = email.split(\".\", 1)\n",
        "l5"
      ],
      "execution_count": null,
      "outputs": []
    },
    {
      "cell_type": "code",
      "metadata": {
        "id": "gCSCtEW7QFnw",
        "colab_type": "code",
        "colab": {}
      },
      "source": [
        "l6 = email.rsplit(\".\", 1)\n",
        "l6"
      ],
      "execution_count": null,
      "outputs": []
    },
    {
      "cell_type": "code",
      "metadata": {
        "id": "THf7ULZUQFnw",
        "colab_type": "code",
        "colab": {}
      },
      "source": [
        "seq = \"012.345.678.910\"\n",
        "t3 = seq.partition(\".\")\n",
        "t3"
      ],
      "execution_count": null,
      "outputs": []
    },
    {
      "cell_type": "code",
      "metadata": {
        "id": "zmwm4tB9QFnx",
        "colab_type": "code",
        "colab": {}
      },
      "source": [
        "t4 = seq.rpartition(\".\")\n",
        "t4"
      ],
      "execution_count": null,
      "outputs": []
    },
    {
      "cell_type": "code",
      "metadata": {
        "id": "Q1xIbMfzQFny",
        "colab_type": "code",
        "colab": {}
      },
      "source": [
        "print(seq.split(\".\"))\n",
        "print(seq.split(\".\", 1))\n",
        "print(seq.split(\".\", 2))\n",
        "print(seq.split(\".\", 3))"
      ],
      "execution_count": null,
      "outputs": []
    },
    {
      "cell_type": "code",
      "metadata": {
        "id": "Vc8qGXeOQFny",
        "colab_type": "code",
        "colab": {}
      },
      "source": [
        "print(seq.rsplit(\".\"))\n",
        "print(seq.rsplit(\".\", 1))\n",
        "print(seq.rsplit(\".\", 2))\n",
        "print(seq.rsplit(\".\", 3))"
      ],
      "execution_count": null,
      "outputs": []
    },
    {
      "cell_type": "markdown",
      "metadata": {
        "id": "lwDmR8U5QFnz",
        "colab_type": "text"
      },
      "source": [
        "### Exemplo do método replace()"
      ]
    },
    {
      "cell_type": "code",
      "metadata": {
        "id": "bC2HJ7wLQFnz",
        "colab_type": "code",
        "colab": {}
      },
      "source": [
        "msg = \"Minha biblioteca favorita é numpy.\"\n",
        "print(msg)\n",
        "msg2 = msg.replace(\"numpy\", \"pandas\")\n",
        "print(msg2)"
      ],
      "execution_count": null,
      "outputs": []
    },
    {
      "cell_type": "code",
      "metadata": {
        "id": "pksCQdpNQFn0",
        "colab_type": "code",
        "colab": {}
      },
      "source": [
        "msg3 = \"Eu gosto de cães. Os cães são muito legais. Os cães são companheiros.\"\n",
        "print(msg3)\n",
        "msg4 = msg3.replace(\"cães\", \"labradores\", 2)\n",
        "print(msg4)"
      ],
      "execution_count": null,
      "outputs": []
    },
    {
      "cell_type": "markdown",
      "metadata": {
        "id": "ni_wIOcCQFn0",
        "colab_type": "text"
      },
      "source": [
        "### Exemplo do método splitlines()"
      ]
    },
    {
      "cell_type": "code",
      "metadata": {
        "id": "EyMY6nwQQFn0",
        "colab_type": "code",
        "colab": {}
      },
      "source": [
        "s = \"Essa é\\numa\\nstring\\n\\ncom várias\\nlinhas\"\n",
        "print(s)"
      ],
      "execution_count": null,
      "outputs": []
    },
    {
      "cell_type": "code",
      "metadata": {
        "id": "ObDk_vHmQFn1",
        "colab_type": "code",
        "colab": {}
      },
      "source": [
        "linhas = s.splitlines()"
      ],
      "execution_count": null,
      "outputs": []
    },
    {
      "cell_type": "code",
      "metadata": {
        "id": "UHbfVWd7QFn2",
        "colab_type": "code",
        "colab": {}
      },
      "source": [
        "linhas"
      ],
      "execution_count": null,
      "outputs": []
    },
    {
      "cell_type": "code",
      "metadata": {
        "id": "H1M3_ARAQFn2",
        "colab_type": "code",
        "colab": {}
      },
      "source": [
        "type(linhas)"
      ],
      "execution_count": null,
      "outputs": []
    },
    {
      "cell_type": "markdown",
      "metadata": {
        "id": "RWvv9ilpQFn3",
        "colab_type": "text"
      },
      "source": [
        "### Exemplo do método swapcase()"
      ]
    },
    {
      "cell_type": "code",
      "metadata": {
        "id": "mSV2L6eUQFn3",
        "colab_type": "code",
        "colab": {}
      },
      "source": [
        "s = \"MAIÚSCULO | minúsculo!\"\n",
        "s1 = s.swapcase()\n",
        "print(s)\n",
        "print(s1)"
      ],
      "execution_count": null,
      "outputs": []
    },
    {
      "cell_type": "markdown",
      "metadata": {
        "id": "K4nILYBqQFn4",
        "colab_type": "text"
      },
      "source": [
        "### Exemplo do método title()"
      ]
    },
    {
      "cell_type": "code",
      "metadata": {
        "id": "aiDqUTBNQFn4",
        "colab_type": "code",
        "colab": {}
      },
      "source": [
        "titulo = \"a linguagEm de programação pyThon\"\n",
        "novo_titulo = titulo.title()\n",
        "print(novo_titulo)"
      ],
      "execution_count": null,
      "outputs": []
    },
    {
      "cell_type": "markdown",
      "metadata": {
        "id": "BMzUt0xlQFn4",
        "colab_type": "text"
      },
      "source": [
        "### Exemplo do método zfill()"
      ]
    },
    {
      "cell_type": "code",
      "metadata": {
        "id": "q1nJqebRQFn5",
        "colab_type": "code",
        "colab": {}
      },
      "source": [
        "cod_prod1 = \"123\".zfill(6)\n",
        "cod_prod1"
      ],
      "execution_count": null,
      "outputs": []
    },
    {
      "cell_type": "code",
      "metadata": {
        "id": "VbtzL9_bQFn5",
        "colab_type": "code",
        "colab": {}
      },
      "source": [
        "cod_prod2 = \"234\".zfill(8)\n",
        "cod_prod2"
      ],
      "execution_count": null,
      "outputs": []
    },
    {
      "cell_type": "code",
      "metadata": {
        "id": "xVl6nbR5QFn6",
        "colab_type": "code",
        "colab": {}
      },
      "source": [
        "cod_prod3 = \"123456\".zfill(5)\n",
        "cod_prod3"
      ],
      "execution_count": null,
      "outputs": []
    },
    {
      "cell_type": "code",
      "metadata": {
        "id": "zkpMtEGnQFn6",
        "colab_type": "code",
        "colab": {}
      },
      "source": [
        ""
      ],
      "execution_count": null,
      "outputs": []
    }
  ]
}