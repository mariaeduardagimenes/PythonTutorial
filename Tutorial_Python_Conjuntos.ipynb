{
  "nbformat": 4,
  "nbformat_minor": 0,
  "metadata": {
    "kernelspec": {
      "display_name": "Python 3",
      "language": "python",
      "name": "python3"
    },
    "language_info": {
      "codemirror_mode": {
        "name": "ipython",
        "version": 3
      },
      "file_extension": ".py",
      "mimetype": "text/x-python",
      "name": "python",
      "nbconvert_exporter": "python",
      "pygments_lexer": "ipython3",
      "version": "3.8.5"
    },
    "colab": {
      "name": "Tutorial Python Conjuntos.ipynb",
      "provenance": [],
      "include_colab_link": true
    }
  },
  "cells": [
    {
      "cell_type": "markdown",
      "metadata": {
        "id": "view-in-github",
        "colab_type": "text"
      },
      "source": [
        "<a href=\"https://colab.research.google.com/github/mariaeduardagimenes/PythonTutorial/blob/master/Tutorial_Python_Conjuntos.ipynb\" target=\"_parent\"><img src=\"https://colab.research.google.com/assets/colab-badge.svg\" alt=\"Open In Colab\"/></a>"
      ]
    },
    {
      "cell_type": "markdown",
      "metadata": {
        "id": "3GLqdPc3Ks22",
        "colab_type": "text"
      },
      "source": [
        "# Conjuntos\n",
        "\n",
        "* Conjuntos são coleções de elementos únicos\n",
        "* Principais características:\n",
        "   * Os elementos não são armazenados em uma ordem específica\n",
        "   * Conjuntos não contém elementos repetidos\n",
        "* Conjuntos não suportam indexação como as listas e tuplas\n",
        "\n",
        "O que veremos nessa aula:\n",
        "1. Como criar conjuntos\n",
        "2. Como acessar elementos de um conjunto\n",
        "3. Como modificar elementos de um conjunto\n",
        "4. Principais métodos de um objeto conjunto\n",
        "5. Funções aplicáveis a um conjunto\n",
        "6. Curiosidade (conversão de uma lista em um conjunto)"
      ]
    },
    {
      "cell_type": "markdown",
      "metadata": {
        "id": "mpj-kS7fKs24",
        "colab_type": "text"
      },
      "source": [
        "### 1. Como criar conjuntos"
      ]
    },
    {
      "cell_type": "code",
      "metadata": {
        "id": "TzsWPuakKs25",
        "colab_type": "code",
        "colab": {}
      },
      "source": [
        "# Criando conjuntos vazios\n",
        "conj_vazio1 = set() # Essa é a única forma de se criar um conjunto vazio\n",
        "conj_vazio2 = {} # As chaves são utilizadas para construir um dicionário vazio."
      ],
      "execution_count": null,
      "outputs": []
    },
    {
      "cell_type": "code",
      "metadata": {
        "id": "OZo42SCVKs3A",
        "colab_type": "code",
        "colab": {},
        "outputId": "4727b65a-c1a5-4d97-be62-2538643821b6"
      },
      "source": [
        "type(conj_vazio1)"
      ],
      "execution_count": null,
      "outputs": [
        {
          "output_type": "execute_result",
          "data": {
            "text/plain": [
              "set"
            ]
          },
          "metadata": {
            "tags": []
          },
          "execution_count": 2
        }
      ]
    },
    {
      "cell_type": "code",
      "metadata": {
        "id": "Ckw1FODrKs3G",
        "colab_type": "code",
        "colab": {},
        "outputId": "12fa89cb-ddba-4c04-844a-4664914d790c"
      },
      "source": [
        "type(conj_vazio2)"
      ],
      "execution_count": null,
      "outputs": [
        {
          "output_type": "execute_result",
          "data": {
            "text/plain": [
              "dict"
            ]
          },
          "metadata": {
            "tags": []
          },
          "execution_count": 3
        }
      ]
    },
    {
      "cell_type": "code",
      "metadata": {
        "id": "YQrL3iRUKs3J",
        "colab_type": "code",
        "colab": {}
      },
      "source": [
        "# Criando conjuntos com elementos\n",
        "conj1 = {1, 2, 3, 4, 5}\n",
        "conj2 = {\"A\", \"B\", \"C\", \"D\"}\n",
        "conj3 = {\"ABC\", 123, 3.14}"
      ],
      "execution_count": null,
      "outputs": []
    },
    {
      "cell_type": "code",
      "metadata": {
        "id": "QsXpSWRhKs3M",
        "colab_type": "code",
        "colab": {},
        "outputId": "8e1007cd-442d-455b-b25f-eec7006e144d"
      },
      "source": [
        "# Conjuntos não podem conter outras estruturas aninhadas\n",
        "conj3 = {1, \"ABC\", [1,2,3]} # Provoca um erro por causa da lista"
      ],
      "execution_count": null,
      "outputs": [
        {
          "output_type": "error",
          "ename": "TypeError",
          "evalue": "unhashable type: 'list'",
          "traceback": [
            "\u001b[0;31m---------------------------------------------------------------------------\u001b[0m",
            "\u001b[0;31mTypeError\u001b[0m                                 Traceback (most recent call last)",
            "\u001b[0;32m<ipython-input-5-1d06311af28d>\u001b[0m in \u001b[0;36m<module>\u001b[0;34m\u001b[0m\n\u001b[1;32m      1\u001b[0m \u001b[0;31m# Conjuntos não podem conter outras estruturas aninhadas\u001b[0m\u001b[0;34m\u001b[0m\u001b[0;34m\u001b[0m\u001b[0;34m\u001b[0m\u001b[0m\n\u001b[0;32m----> 2\u001b[0;31m \u001b[0mconj3\u001b[0m \u001b[0;34m=\u001b[0m \u001b[0;34m{\u001b[0m\u001b[0;36m1\u001b[0m\u001b[0;34m,\u001b[0m \u001b[0;34m\"ABC\"\u001b[0m\u001b[0;34m,\u001b[0m \u001b[0;34m[\u001b[0m\u001b[0;36m1\u001b[0m\u001b[0;34m,\u001b[0m\u001b[0;36m2\u001b[0m\u001b[0;34m,\u001b[0m\u001b[0;36m3\u001b[0m\u001b[0;34m]\u001b[0m\u001b[0;34m}\u001b[0m \u001b[0;31m# Provoca um erro por causa da lista\u001b[0m\u001b[0;34m\u001b[0m\u001b[0;34m\u001b[0m\u001b[0m\n\u001b[0m",
            "\u001b[0;31mTypeError\u001b[0m: unhashable type: 'list'"
          ]
        }
      ]
    },
    {
      "cell_type": "markdown",
      "metadata": {
        "id": "Jwh2TfKTKs3P",
        "colab_type": "text"
      },
      "source": [
        "### 2. Como acessar elementos de um conjunto"
      ]
    },
    {
      "cell_type": "code",
      "metadata": {
        "id": "PiyaR031Ks3P",
        "colab_type": "code",
        "colab": {},
        "outputId": "36668dcf-6a1a-4c4d-e266-9f28bc7f0fb8"
      },
      "source": [
        "# Conjuntos não suportam indexação. Então vamos precisar do comando for para acessar os elementos de um conjunto\n",
        "for elem in conj1:\n",
        "    print(elem)"
      ],
      "execution_count": null,
      "outputs": [
        {
          "output_type": "stream",
          "text": [
            "1\n",
            "2\n",
            "3\n",
            "4\n",
            "5\n"
          ],
          "name": "stdout"
        }
      ]
    },
    {
      "cell_type": "code",
      "metadata": {
        "id": "uAWpVShGKs3S",
        "colab_type": "code",
        "colab": {},
        "outputId": "b2b7ec35-5e9f-48f8-8f89-eaa1da93cbfe"
      },
      "source": [
        "# Tentar acessar uma posição em um conjunto provoca um erro\n",
        "conj1[0]"
      ],
      "execution_count": null,
      "outputs": [
        {
          "output_type": "error",
          "ename": "TypeError",
          "evalue": "'set' object is not subscriptable",
          "traceback": [
            "\u001b[0;31m---------------------------------------------------------------------------\u001b[0m",
            "\u001b[0;31mTypeError\u001b[0m                                 Traceback (most recent call last)",
            "\u001b[0;32m<ipython-input-7-121b22130e28>\u001b[0m in \u001b[0;36m<module>\u001b[0;34m\u001b[0m\n\u001b[1;32m      1\u001b[0m \u001b[0;31m# Tentar acessar uma posição em um conjunto provoca um erro\u001b[0m\u001b[0;34m\u001b[0m\u001b[0;34m\u001b[0m\u001b[0;34m\u001b[0m\u001b[0m\n\u001b[0;32m----> 2\u001b[0;31m \u001b[0mconj1\u001b[0m\u001b[0;34m[\u001b[0m\u001b[0;36m0\u001b[0m\u001b[0;34m]\u001b[0m\u001b[0;34m\u001b[0m\u001b[0;34m\u001b[0m\u001b[0m\n\u001b[0m",
            "\u001b[0;31mTypeError\u001b[0m: 'set' object is not subscriptable"
          ]
        }
      ]
    },
    {
      "cell_type": "markdown",
      "metadata": {
        "id": "snGUv0X2Ks3V",
        "colab_type": "text"
      },
      "source": [
        "### 3. Como modificar elementos de um conjunto"
      ]
    },
    {
      "cell_type": "code",
      "metadata": {
        "id": "Ts4rNEILKs3V",
        "colab_type": "code",
        "colab": {}
      },
      "source": [
        "# Nâo existe uma maneira de modificar elementos em um conjunto. \n",
        "# O que pode ser feito é a exclusão de um elemento, seguida da inserção de outro elemento"
      ],
      "execution_count": null,
      "outputs": []
    },
    {
      "cell_type": "markdown",
      "metadata": {
        "id": "Ik6j20SkKs3X",
        "colab_type": "text"
      },
      "source": [
        "### 4. Principais métodos de um objeto conjunto\n",
        "\n",
        "Método | Descrição | Exemplo\n",
        ":----- | :-------- | :------\n",
        "add | Adiciona um elemento ao conjunto | `conj1.add(5)`\n",
        "clear  | Apaga todos os elementos de um conjunto | `conj1.clear()`\n",
        "copy | Retorna uma cópia dos elementos de um conjunto | `conj_copia = conj1.copy()`\n",
        "difference | Retorna o conjunto de elementos de conj1 que não pertencem a conj2 | `conj1.difference(conj2)`\n",
        "intersection | Retorna o conjunto de elementos presentes tanto em conj1 quanto em conj2 | `conj1.intersection(conj2)`\n",
        "isdisjoint | Retorna True se conj1 e conj2 forem disjuntos (ou seja, não possuem elementos em comum) | `conj1.isdisjoint(conj2)`\n",
        "issubset | Retorna True se conj1 for um subconjunto de conj2 (conj1 está contido em conj2) | `conj1.issubset(conj2)`\n",
        "issuperset | Retorna True se conj1 for um superconjunto de conj2 (conj1 contém conj2) | `conj1.issuperset(conj2)`\n",
        "remove e discard| Removem um elemento do conjunto | `conj1.remove(5)` ou `conj1.discard(5)`\n",
        "symmetric_difference | Retorna o conjunto de elementos que não são comuns aos dois conjuntos (o contrário da interseção)| `conj1.symmetric_difference(conj2)`\n",
        "union | Retorna a união entre 2 conjuntos | `conj1.union(conj2)`"
      ]
    },
    {
      "cell_type": "markdown",
      "metadata": {
        "collapsed": true,
        "id": "CCPV9_oKKs3X",
        "colab_type": "text"
      },
      "source": [
        "#### 4.1 - add()"
      ]
    },
    {
      "cell_type": "code",
      "metadata": {
        "id": "ji_iVe8nKs3Y",
        "colab_type": "code",
        "colab": {},
        "outputId": "e3046965-22dc-456f-aa79-77407f9fc65d"
      },
      "source": [
        "# Visualizando os elementos de conj1\n",
        "conj1"
      ],
      "execution_count": null,
      "outputs": [
        {
          "output_type": "execute_result",
          "data": {
            "text/plain": [
              "{1, 2, 3, 4, 5}"
            ]
          },
          "metadata": {
            "tags": []
          },
          "execution_count": 9
        }
      ]
    },
    {
      "cell_type": "code",
      "metadata": {
        "id": "kDIUJvnkKs3a",
        "colab_type": "code",
        "colab": {},
        "outputId": "0a02ad15-392d-4afb-81eb-5482066d093f"
      },
      "source": [
        "# Adicionando o elemento 6\n",
        "conj1.add(6)\n",
        "conj1"
      ],
      "execution_count": null,
      "outputs": [
        {
          "output_type": "execute_result",
          "data": {
            "text/plain": [
              "{1, 2, 3, 4, 5, 6}"
            ]
          },
          "metadata": {
            "tags": []
          },
          "execution_count": 10
        }
      ]
    },
    {
      "cell_type": "markdown",
      "metadata": {
        "id": "53j8Wq1YKs3b",
        "colab_type": "text"
      },
      "source": [
        "#### 4.2 - clear()"
      ]
    },
    {
      "cell_type": "code",
      "metadata": {
        "id": "zXRdqZrhKs3c",
        "colab_type": "code",
        "colab": {},
        "outputId": "fa247058-3371-4f29-fab8-ae6fffe88699"
      },
      "source": [
        "# Visualizando os elementos de conj3\n",
        "conj3"
      ],
      "execution_count": null,
      "outputs": [
        {
          "output_type": "execute_result",
          "data": {
            "text/plain": [
              "{123, 3.14, 'ABC'}"
            ]
          },
          "metadata": {
            "tags": []
          },
          "execution_count": 11
        }
      ]
    },
    {
      "cell_type": "code",
      "metadata": {
        "id": "TITrQ8OBKs3e",
        "colab_type": "code",
        "colab": {},
        "outputId": "521f5167-0c9b-46ed-f6c7-f1e99547fcd0"
      },
      "source": [
        "conj3.clear()\n",
        "conj3"
      ],
      "execution_count": null,
      "outputs": [
        {
          "output_type": "execute_result",
          "data": {
            "text/plain": [
              "set()"
            ]
          },
          "metadata": {
            "tags": []
          },
          "execution_count": 12
        }
      ]
    },
    {
      "cell_type": "markdown",
      "metadata": {
        "collapsed": true,
        "id": "AJkHN3YXKs3g",
        "colab_type": "text"
      },
      "source": [
        "#### 4.3 - copy()"
      ]
    },
    {
      "cell_type": "code",
      "metadata": {
        "id": "ad9dO9tQKs3g",
        "colab_type": "code",
        "colab": {},
        "outputId": "a64b4ba9-3289-46ab-a3d5-e77b45ce3281"
      },
      "source": [
        "conj3 = conj1.copy()\n",
        "conj3"
      ],
      "execution_count": null,
      "outputs": [
        {
          "output_type": "execute_result",
          "data": {
            "text/plain": [
              "{1, 2, 3, 4, 5, 6}"
            ]
          },
          "metadata": {
            "tags": []
          },
          "execution_count": 13
        }
      ]
    },
    {
      "cell_type": "markdown",
      "metadata": {
        "id": "urEU3bgLKs3i",
        "colab_type": "text"
      },
      "source": [
        "#### 4.4 - difference()"
      ]
    },
    {
      "cell_type": "code",
      "metadata": {
        "id": "6K2ktFZRKs3i",
        "colab_type": "code",
        "colab": {}
      },
      "source": [
        "# Criando os conjuntos s1 e s2\n",
        "s1 = {1,2,3,4,5}\n",
        "s2 = {4,5,6,7}"
      ],
      "execution_count": null,
      "outputs": []
    },
    {
      "cell_type": "code",
      "metadata": {
        "id": "G4gfgK60Ks3j",
        "colab_type": "code",
        "colab": {},
        "outputId": "4dcc690e-e904-47ec-c542-596eb62a0f98"
      },
      "source": [
        "# Atribui a s3 a diferença do conjunto s1 em relação a s2\n",
        "s3 = s1.difference(s2)\n",
        "s3"
      ],
      "execution_count": null,
      "outputs": [
        {
          "output_type": "execute_result",
          "data": {
            "text/plain": [
              "{1, 2, 3}"
            ]
          },
          "metadata": {
            "tags": []
          },
          "execution_count": 15
        }
      ]
    },
    {
      "cell_type": "markdown",
      "metadata": {
        "id": "ldsaHi0sKs3l",
        "colab_type": "text"
      },
      "source": [
        "#### 4.5 - intersection()"
      ]
    },
    {
      "cell_type": "code",
      "metadata": {
        "id": "ETu4cRQlKs3l",
        "colab_type": "code",
        "colab": {},
        "outputId": "af503b80-4439-479d-b67f-c6868e3f5296"
      },
      "source": [
        "s4 = s1.intersection(s2)\n",
        "s4"
      ],
      "execution_count": null,
      "outputs": [
        {
          "output_type": "execute_result",
          "data": {
            "text/plain": [
              "{4, 5}"
            ]
          },
          "metadata": {
            "tags": []
          },
          "execution_count": 16
        }
      ]
    },
    {
      "cell_type": "markdown",
      "metadata": {
        "collapsed": true,
        "id": "JQ6ESNDLKs3m",
        "colab_type": "text"
      },
      "source": [
        "#### 4.6 - isdisjoint()"
      ]
    },
    {
      "cell_type": "code",
      "metadata": {
        "id": "9EGY0SLDKs3n",
        "colab_type": "code",
        "colab": {},
        "outputId": "fa1bc1e8-a24f-4c5e-b84b-6fd449813544"
      },
      "source": [
        "# Verificando se s1 e s2 são disjuntos\n",
        "s1.isdisjoint(s2)"
      ],
      "execution_count": null,
      "outputs": [
        {
          "output_type": "execute_result",
          "data": {
            "text/plain": [
              "False"
            ]
          },
          "metadata": {
            "tags": []
          },
          "execution_count": 17
        }
      ]
    },
    {
      "cell_type": "code",
      "metadata": {
        "id": "h_njkSKiKs3o",
        "colab_type": "code",
        "colab": {},
        "outputId": "eea0861e-69fb-4311-bd1f-4ccd412f8bca"
      },
      "source": [
        "# Verificando se s3 e s3 são disjuntos\n",
        "s3.isdisjoint(s4)"
      ],
      "execution_count": null,
      "outputs": [
        {
          "output_type": "execute_result",
          "data": {
            "text/plain": [
              "True"
            ]
          },
          "metadata": {
            "tags": []
          },
          "execution_count": 18
        }
      ]
    },
    {
      "cell_type": "markdown",
      "metadata": {
        "collapsed": true,
        "id": "ODXqbTXsKs3q",
        "colab_type": "text"
      },
      "source": [
        "#### 4.7 - issubset()"
      ]
    },
    {
      "cell_type": "code",
      "metadata": {
        "id": "VpxQY_uBKs3q",
        "colab_type": "code",
        "colab": {},
        "outputId": "09aa9a48-16eb-410a-80a6-dd33e6c64ea1"
      },
      "source": [
        "# verificando se s1 é um subconjunto de s2\n",
        "s1.issubset(s2)"
      ],
      "execution_count": null,
      "outputs": [
        {
          "output_type": "execute_result",
          "data": {
            "text/plain": [
              "False"
            ]
          },
          "metadata": {
            "tags": []
          },
          "execution_count": 19
        }
      ]
    },
    {
      "cell_type": "code",
      "metadata": {
        "id": "VKR6xz9iKs3r",
        "colab_type": "code",
        "colab": {},
        "outputId": "1c46fafe-4e3a-4473-a23b-d660cea179af"
      },
      "source": [
        "# verificando se s3 é um subconjunto de s1\n",
        "s3.issubset(s1)"
      ],
      "execution_count": null,
      "outputs": [
        {
          "output_type": "execute_result",
          "data": {
            "text/plain": [
              "True"
            ]
          },
          "metadata": {
            "tags": []
          },
          "execution_count": 20
        }
      ]
    },
    {
      "cell_type": "markdown",
      "metadata": {
        "id": "0TSsAVxkKs3s",
        "colab_type": "text"
      },
      "source": [
        "#### 4.8 - issuperset()"
      ]
    },
    {
      "cell_type": "code",
      "metadata": {
        "id": "ajuQq2uuKs3s",
        "colab_type": "code",
        "colab": {},
        "outputId": "f89fcec8-54e4-47a9-cead-c6fa754f5069"
      },
      "source": [
        "# verificando se s1 é um superconjunto de s2\n",
        "s1.issuperset(s2)"
      ],
      "execution_count": null,
      "outputs": [
        {
          "output_type": "execute_result",
          "data": {
            "text/plain": [
              "False"
            ]
          },
          "metadata": {
            "tags": []
          },
          "execution_count": 21
        }
      ]
    },
    {
      "cell_type": "code",
      "metadata": {
        "id": "aCTx3FIYKs3t",
        "colab_type": "code",
        "colab": {},
        "outputId": "f42803d4-19a6-475f-886e-bf89cf355d3c"
      },
      "source": [
        "# verificando se s1 é um superconjunto de s3\n",
        "s1.issuperset(s3)"
      ],
      "execution_count": null,
      "outputs": [
        {
          "output_type": "execute_result",
          "data": {
            "text/plain": [
              "True"
            ]
          },
          "metadata": {
            "tags": []
          },
          "execution_count": 22
        }
      ]
    },
    {
      "cell_type": "markdown",
      "metadata": {
        "id": "NHLCziJzKs3u",
        "colab_type": "text"
      },
      "source": [
        "#### 4.9 - remove() e discard()"
      ]
    },
    {
      "cell_type": "code",
      "metadata": {
        "id": "m-nNOASPKs3u",
        "colab_type": "code",
        "colab": {},
        "outputId": "125edba7-1dfa-4d27-d954-38924b0b5ab8"
      },
      "source": [
        "# Visualizando os elementos de conj1\n",
        "conj1"
      ],
      "execution_count": null,
      "outputs": [
        {
          "output_type": "execute_result",
          "data": {
            "text/plain": [
              "{1, 2, 3, 4, 5, 6}"
            ]
          },
          "metadata": {
            "tags": []
          },
          "execution_count": 23
        }
      ]
    },
    {
      "cell_type": "code",
      "metadata": {
        "id": "3HSX9baQKs3v",
        "colab_type": "code",
        "colab": {}
      },
      "source": [
        "# Removendo o 3 de conj1 usando o remove()\n",
        "conj1.remove(3)"
      ],
      "execution_count": null,
      "outputs": []
    },
    {
      "cell_type": "code",
      "metadata": {
        "id": "e99uqDh8Ks3w",
        "colab_type": "code",
        "colab": {},
        "outputId": "e61bb35e-9549-48a4-ccff-cd8ca6c41847"
      },
      "source": [
        "# Visualizando os elementos de conj1 após remove(3)\n",
        "conj1"
      ],
      "execution_count": null,
      "outputs": [
        {
          "output_type": "execute_result",
          "data": {
            "text/plain": [
              "{1, 2, 4, 5, 6}"
            ]
          },
          "metadata": {
            "tags": []
          },
          "execution_count": 25
        }
      ]
    },
    {
      "cell_type": "code",
      "metadata": {
        "id": "4D_a70SgKs3x",
        "colab_type": "code",
        "colab": {},
        "outputId": "e6dd5f03-11f8-4aad-c46e-76aa4c66743f"
      },
      "source": [
        "# Tentar remover um elemento inexistente com remove provoca um erro\n",
        "conj1.remove(7)"
      ],
      "execution_count": null,
      "outputs": [
        {
          "output_type": "error",
          "ename": "KeyError",
          "evalue": "7",
          "traceback": [
            "\u001b[0;31m---------------------------------------------------------------------------\u001b[0m",
            "\u001b[0;31mKeyError\u001b[0m                                  Traceback (most recent call last)",
            "\u001b[0;32m<ipython-input-26-feca38fc04ed>\u001b[0m in \u001b[0;36m<module>\u001b[0;34m\u001b[0m\n\u001b[1;32m      1\u001b[0m \u001b[0;31m# Tentar remover um elemento inexistente com remove provoca um erro\u001b[0m\u001b[0;34m\u001b[0m\u001b[0;34m\u001b[0m\u001b[0;34m\u001b[0m\u001b[0m\n\u001b[0;32m----> 2\u001b[0;31m \u001b[0mconj1\u001b[0m\u001b[0;34m.\u001b[0m\u001b[0mremove\u001b[0m\u001b[0;34m(\u001b[0m\u001b[0;36m7\u001b[0m\u001b[0;34m)\u001b[0m\u001b[0;34m\u001b[0m\u001b[0;34m\u001b[0m\u001b[0m\n\u001b[0m",
            "\u001b[0;31mKeyError\u001b[0m: 7"
          ]
        }
      ]
    },
    {
      "cell_type": "code",
      "metadata": {
        "id": "QMgH_nPrKs3y",
        "colab_type": "code",
        "colab": {}
      },
      "source": [
        "# Removendo o 6 de conj1 usando o discard()\n",
        "conj1.discard(6)"
      ],
      "execution_count": null,
      "outputs": []
    },
    {
      "cell_type": "code",
      "metadata": {
        "id": "PT3HvFejKs3z",
        "colab_type": "code",
        "colab": {},
        "outputId": "1aaac581-3028-47f4-a98a-afada5c416f6"
      },
      "source": [
        "# Visualizando os elementos de conj1 após discard(6)\n",
        "conj1"
      ],
      "execution_count": null,
      "outputs": [
        {
          "output_type": "execute_result",
          "data": {
            "text/plain": [
              "{1, 2, 4, 5}"
            ]
          },
          "metadata": {
            "tags": []
          },
          "execution_count": 28
        }
      ]
    },
    {
      "cell_type": "code",
      "metadata": {
        "id": "ffxjdABjKs30",
        "colab_type": "code",
        "colab": {}
      },
      "source": [
        "# Tentar remover um elemento inexistente com discard NÃO provoca um erro\n",
        "conj1.discard(7)"
      ],
      "execution_count": null,
      "outputs": []
    },
    {
      "cell_type": "markdown",
      "metadata": {
        "id": "USgm3LIJKs31",
        "colab_type": "text"
      },
      "source": [
        "#### 4.10 - symmetric_difference()"
      ]
    },
    {
      "cell_type": "code",
      "metadata": {
        "id": "H5W5wkDMKs31",
        "colab_type": "code",
        "colab": {},
        "outputId": "324abd33-61ec-40e3-973c-e20c755ff56a"
      },
      "source": [
        "# Na seção 4.5 foi realizada a interseção de s1 e s2. Agora vamos calcular a diferença simétrica\n",
        "s5 = s1.symmetric_difference(s2)\n",
        "s5"
      ],
      "execution_count": null,
      "outputs": [
        {
          "output_type": "execute_result",
          "data": {
            "text/plain": [
              "{1, 2, 3, 6, 7}"
            ]
          },
          "metadata": {
            "tags": []
          },
          "execution_count": 30
        }
      ]
    },
    {
      "cell_type": "markdown",
      "metadata": {
        "id": "hgaKEGF6Ks32",
        "colab_type": "text"
      },
      "source": [
        "#### 4.11 - union()"
      ]
    },
    {
      "cell_type": "code",
      "metadata": {
        "id": "8RKU6pvmKs32",
        "colab_type": "code",
        "colab": {},
        "outputId": "3e0f4502-01fa-4d87-ef06-1b1c4194a2c5"
      },
      "source": [
        "# Calculando o conjunto união. Veja que elementos repetidos só aparecem uma única vez no conjunto resultante\n",
        "s6 = s1.union(s2)\n",
        "s6"
      ],
      "execution_count": null,
      "outputs": [
        {
          "output_type": "execute_result",
          "data": {
            "text/plain": [
              "{1, 2, 3, 4, 5, 6, 7}"
            ]
          },
          "metadata": {
            "tags": []
          },
          "execution_count": 31
        }
      ]
    },
    {
      "cell_type": "markdown",
      "metadata": {
        "id": "FEaB7mP-Ks33",
        "colab_type": "text"
      },
      "source": [
        "### 5. Funções aplicáveis a um conjunto"
      ]
    },
    {
      "cell_type": "code",
      "metadata": {
        "id": "nk4sN6tzKs33",
        "colab_type": "code",
        "colab": {},
        "outputId": "00a08c9c-32ae-4aae-999f-41b32be65abc"
      },
      "source": [
        "len(s1)"
      ],
      "execution_count": null,
      "outputs": [
        {
          "output_type": "execute_result",
          "data": {
            "text/plain": [
              "5"
            ]
          },
          "metadata": {
            "tags": []
          },
          "execution_count": 32
        }
      ]
    },
    {
      "cell_type": "code",
      "metadata": {
        "id": "A55bF3vbKs34",
        "colab_type": "code",
        "colab": {},
        "outputId": "a291b3bb-4ef2-4474-b931-a93cb5a6a217"
      },
      "source": [
        "max(s1)"
      ],
      "execution_count": null,
      "outputs": [
        {
          "output_type": "execute_result",
          "data": {
            "text/plain": [
              "5"
            ]
          },
          "metadata": {
            "tags": []
          },
          "execution_count": 33
        }
      ]
    },
    {
      "cell_type": "code",
      "metadata": {
        "id": "ClzZRAB2Ks34",
        "colab_type": "code",
        "colab": {},
        "outputId": "7e80bd14-007b-4e0f-b309-a512b2ddc945"
      },
      "source": [
        "min(s1)"
      ],
      "execution_count": null,
      "outputs": [
        {
          "output_type": "execute_result",
          "data": {
            "text/plain": [
              "1"
            ]
          },
          "metadata": {
            "tags": []
          },
          "execution_count": 34
        }
      ]
    },
    {
      "cell_type": "code",
      "metadata": {
        "id": "bRJwQlwEKs35",
        "colab_type": "code",
        "colab": {},
        "outputId": "c3341b9e-6440-4248-ddee-eccf5990d111"
      },
      "source": [
        "sum(s1)"
      ],
      "execution_count": null,
      "outputs": [
        {
          "output_type": "execute_result",
          "data": {
            "text/plain": [
              "15"
            ]
          },
          "metadata": {
            "tags": []
          },
          "execution_count": 35
        }
      ]
    },
    {
      "cell_type": "markdown",
      "metadata": {
        "id": "6ZA-Whg8Ks36",
        "colab_type": "text"
      },
      "source": [
        "### 6. Curiosidade (conversão de uma lista em um conjunto)"
      ]
    },
    {
      "cell_type": "code",
      "metadata": {
        "id": "PSbPtQ-wKs36",
        "colab_type": "code",
        "colab": {}
      },
      "source": [
        "# O que acontece se convertermos uma lista que contém elementos repetidos em um conjunto?\n",
        "lista = [1, 2, 4, 3, 2, 1, 5, 2, 3, 1, 6, 3, 4, 2]"
      ],
      "execution_count": null,
      "outputs": []
    },
    {
      "cell_type": "code",
      "metadata": {
        "id": "v_LpNDEdKs37",
        "colab_type": "code",
        "colab": {}
      },
      "source": [
        "# Convertendo a lista em um conjunto\n",
        "conj_lista = set(lista)"
      ],
      "execution_count": null,
      "outputs": []
    },
    {
      "cell_type": "code",
      "metadata": {
        "id": "bqmzF-_OKs38",
        "colab_type": "code",
        "colab": {},
        "outputId": "853a1755-1bbe-403d-a431-fdf51781f0d5"
      },
      "source": [
        "# Ao visualizar o conjunto obtido através da conversão da lista, vemos que não existem mais elementos repetidos\n",
        "conj_lista"
      ],
      "execution_count": null,
      "outputs": [
        {
          "output_type": "execute_result",
          "data": {
            "text/plain": [
              "{1, 2, 3, 4, 5, 6}"
            ]
          },
          "metadata": {
            "tags": []
          },
          "execution_count": 38
        }
      ]
    },
    {
      "cell_type": "code",
      "metadata": {
        "id": "PVCbBXJfKs39",
        "colab_type": "code",
        "colab": {}
      },
      "source": [
        ""
      ],
      "execution_count": null,
      "outputs": []
    },
    {
      "cell_type": "code",
      "metadata": {
        "id": "4L9uATa7Ks39",
        "colab_type": "code",
        "colab": {}
      },
      "source": [
        ""
      ],
      "execution_count": null,
      "outputs": []
    }
  ]
}