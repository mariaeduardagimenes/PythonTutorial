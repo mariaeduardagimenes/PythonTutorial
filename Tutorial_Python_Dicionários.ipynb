{
  "nbformat": 4,
  "nbformat_minor": 0,
  "metadata": {
    "kernelspec": {
      "display_name": "Python 3",
      "language": "python",
      "name": "python3"
    },
    "language_info": {
      "codemirror_mode": {
        "name": "ipython",
        "version": 3
      },
      "file_extension": ".py",
      "mimetype": "text/x-python",
      "name": "python",
      "nbconvert_exporter": "python",
      "pygments_lexer": "ipython3",
      "version": "3.8.5"
    },
    "colab": {
      "name": "Tutorial_Python_Dicionários.ipynb",
      "provenance": [],
      "include_colab_link": true
    }
  },
  "cells": [
    {
      "cell_type": "markdown",
      "metadata": {
        "id": "view-in-github",
        "colab_type": "text"
      },
      "source": [
        "<a href=\"https://colab.research.google.com/github/mariaeduardagimenes/PythonTutorial/blob/master/Tutorial_Python_Dicion%C3%A1rios.ipynb\" target=\"_parent\"><img src=\"https://colab.research.google.com/assets/colab-badge.svg\" alt=\"Open In Colab\"/></a>"
      ]
    },
    {
      "cell_type": "markdown",
      "metadata": {
        "id": "ph7SUUZBLBRB",
        "colab_type": "text"
      },
      "source": [
        "# Dicionários\n",
        "\n",
        "* Um dicionário é uma coleção de elementos que possuem uma *chave* e um *valor*\n",
        "* Ao invés de um índice, usamos a *chave* para recuperar um *valor*\n",
        "\n",
        "O que veremos nessa aula:\n",
        "\n",
        "1. Como criar dicionários\n",
        "2. Acessando um valor em um dicionário através de uma chave\n",
        "3. Modificando valores em um dicionário\n",
        "4. Principais métodos de um objeto dicionário"
      ]
    },
    {
      "cell_type": "markdown",
      "metadata": {
        "id": "iq57brBgLBRD",
        "colab_type": "text"
      },
      "source": [
        "### 1. Como criar dicionários"
      ]
    },
    {
      "cell_type": "code",
      "metadata": {
        "id": "6rch4WD0LBRF",
        "colab_type": "code",
        "colab": {}
      },
      "source": [
        "# Criando dicionários vazios\n",
        "dic_vazio1 = {}\n",
        "dic_vazio2 = dict()"
      ],
      "execution_count": null,
      "outputs": []
    },
    {
      "cell_type": "code",
      "metadata": {
        "id": "lOALjtzrLBRK",
        "colab_type": "code",
        "colab": {},
        "outputId": "13a635c0-ad21-4c7f-c35b-3250ceb6b8a7"
      },
      "source": [
        "# Visualizando o tipo de dic_vazio1\n",
        "type(dic_vazio1)"
      ],
      "execution_count": null,
      "outputs": [
        {
          "output_type": "execute_result",
          "data": {
            "text/plain": [
              "dict"
            ]
          },
          "metadata": {
            "tags": []
          },
          "execution_count": 2
        }
      ]
    },
    {
      "cell_type": "code",
      "metadata": {
        "id": "explUBkOLBRO",
        "colab_type": "code",
        "colab": {},
        "outputId": "2a373ad2-4655-4205-a0e0-128cd3909c35"
      },
      "source": [
        "# Verificando se dic_vazio2 é uma instância de dict\n",
        "isinstance(dic_vazio2, dict)"
      ],
      "execution_count": null,
      "outputs": [
        {
          "output_type": "execute_result",
          "data": {
            "text/plain": [
              "True"
            ]
          },
          "metadata": {
            "tags": []
          },
          "execution_count": 3
        }
      ]
    },
    {
      "cell_type": "code",
      "metadata": {
        "id": "MKF3m2RQLBRR",
        "colab_type": "code",
        "colab": {},
        "outputId": "5197a934-c6aa-414b-80ab-2ce26b91ed24"
      },
      "source": [
        "# Criando dicionários com pares chave/valor\n",
        "\n",
        "# Dicionário de estados: chave é a sigla do estado e valor é o nome completo\n",
        "dic_estados = { \"MG\":\"Minas Gerais\", \"PR\": \"Paraná\", \"BA\": \"Bahia\", \"RN\": \"Rio Grande do Norte\", \"AM\": \"Amzonas\"}\n",
        "# Obs: o nome do estado Amazonas foi digitado errado de forma intencional\n",
        "dic_estados"
      ],
      "execution_count": null,
      "outputs": [
        {
          "output_type": "execute_result",
          "data": {
            "text/plain": [
              "{'MG': 'Minas Gerais',\n",
              " 'PR': 'Paraná',\n",
              " 'BA': 'Bahia',\n",
              " 'RN': 'Rio Grande do Norte',\n",
              " 'AM': 'Amzonas'}"
            ]
          },
          "metadata": {
            "tags": []
          },
          "execution_count": 6
        }
      ]
    },
    {
      "cell_type": "code",
      "metadata": {
        "id": "tQ8DMlsQLBRU",
        "colab_type": "code",
        "colab": {},
        "outputId": "9f4a045c-6abc-4fa0-cbb9-a25c96b44fb6"
      },
      "source": [
        "# Dicionário de produtos: chave é o código e valor é a descrição do produto\n",
        "dic_produtos = {1215:\"Lápis\", 3221:\"Caneta\", 2329:\"Borracha\", 1092:\"Caderno\", 7633:\"Cola\"}\n",
        "dic_produtos"
      ],
      "execution_count": null,
      "outputs": [
        {
          "output_type": "execute_result",
          "data": {
            "text/plain": [
              "{1215: 'Lápis',\n",
              " 3221: 'Caneta',\n",
              " 2329: 'Borracha',\n",
              " 1092: 'Caderno',\n",
              " 7633: 'Cola'}"
            ]
          },
          "metadata": {
            "tags": []
          },
          "execution_count": 7
        }
      ]
    },
    {
      "cell_type": "code",
      "metadata": {
        "id": "UFEDeOyYLBRX",
        "colab_type": "code",
        "colab": {},
        "outputId": "c847eaa2-4549-4f60-9306-9ae976575c95"
      },
      "source": [
        "# Dicionário de alunos: chave é o nome e valor é uma lista com 3 notas do aluno\n",
        "dic_notas_alunos = {\"João\":[30, 12, 21], \"Maria\": [20, 30, 29], \"José\": [20, 23, 19]}\n",
        "dic_notas_alunos"
      ],
      "execution_count": null,
      "outputs": [
        {
          "output_type": "execute_result",
          "data": {
            "text/plain": [
              "{'João': [30, 12, 21], 'Maria': [20, 30, 29], 'José': [20, 23, 19]}"
            ]
          },
          "metadata": {
            "tags": []
          },
          "execution_count": 8
        }
      ]
    },
    {
      "cell_type": "code",
      "metadata": {
        "id": "N24Zk_phLBRZ",
        "colab_type": "code",
        "colab": {},
        "outputId": "c442f18d-c04d-435f-81ac-cf28f69fe042"
      },
      "source": [
        "# Dicionário de alunos 2: chave é o nome e valor é um outro dicionário contendo as 3 notas do aluno\n",
        "dic_notas_alunos2 = {\"João\": {\"nota1\": 30, \"nota2\": 12, \"nota3\": 21}, \n",
        "                     \"Maria\": {\"nota1\": 20, \"nota2\": 30, \"nota3\": 29}, \n",
        "                     \"José\": {\"nota1\": 20, \"nota2\": 23, \"nota3\": 19}, \n",
        "                    }\n",
        "dic_notas_alunos2"
      ],
      "execution_count": null,
      "outputs": [
        {
          "output_type": "execute_result",
          "data": {
            "text/plain": [
              "{'João': {'nota1': 30, 'nota2': 12, 'nota3': 21},\n",
              " 'Maria': {'nota1': 20, 'nota2': 30, 'nota3': 29},\n",
              " 'José': {'nota1': 20, 'nota2': 23, 'nota3': 19}}"
            ]
          },
          "metadata": {
            "tags": []
          },
          "execution_count": 9
        }
      ]
    },
    {
      "cell_type": "markdown",
      "metadata": {
        "id": "H_yic1wvLBRc",
        "colab_type": "text"
      },
      "source": [
        "### 2. Acessando um valor em um dicionário através de uma chave"
      ]
    },
    {
      "cell_type": "code",
      "metadata": {
        "id": "syFnLoCmLBRd",
        "colab_type": "code",
        "colab": {},
        "outputId": "f10f27dd-0d52-4d9a-a85c-e203e2ccbc4d"
      },
      "source": [
        "# Acessando o valor associado à chave \"PR\"\n",
        "dic_estados[\"PR\"]"
      ],
      "execution_count": null,
      "outputs": [
        {
          "output_type": "execute_result",
          "data": {
            "text/plain": [
              "'Paraná'"
            ]
          },
          "metadata": {
            "tags": []
          },
          "execution_count": 10
        }
      ]
    },
    {
      "cell_type": "code",
      "metadata": {
        "id": "7VT6F04KLBRf",
        "colab_type": "code",
        "colab": {},
        "outputId": "644d61be-15d8-4e9a-9fd4-869279cfed66"
      },
      "source": [
        "# Acessando o valor associado à chave \"MG\" dentro de um comando print\n",
        "print(\"Eu nasci em \"+dic_estados[\"MG\"]+\".\")"
      ],
      "execution_count": null,
      "outputs": [
        {
          "output_type": "stream",
          "text": [
            "Eu nasci em Minas Gerais.\n"
          ],
          "name": "stdout"
        }
      ]
    },
    {
      "cell_type": "code",
      "metadata": {
        "id": "hUcrJmUbLBRh",
        "colab_type": "code",
        "colab": {},
        "outputId": "60840e36-07f3-4227-f45c-66b6aa39801f"
      },
      "source": [
        "# Se a chave não existir, é retornado um erro\n",
        "dic_estados[\"XYZ\"]"
      ],
      "execution_count": null,
      "outputs": [
        {
          "output_type": "error",
          "ename": "KeyError",
          "evalue": "'XYZ'",
          "traceback": [
            "\u001b[0;31m---------------------------------------------------------------------------\u001b[0m",
            "\u001b[0;31mKeyError\u001b[0m                                  Traceback (most recent call last)",
            "\u001b[0;32m<ipython-input-12-ab322d84b7c4>\u001b[0m in \u001b[0;36m<module>\u001b[0;34m\u001b[0m\n\u001b[1;32m      1\u001b[0m \u001b[0;31m# Se a chave não existir, é retornado um erro\u001b[0m\u001b[0;34m\u001b[0m\u001b[0;34m\u001b[0m\u001b[0;34m\u001b[0m\u001b[0m\n\u001b[0;32m----> 2\u001b[0;31m \u001b[0mdic_estados\u001b[0m\u001b[0;34m[\u001b[0m\u001b[0;34m\"XYZ\"\u001b[0m\u001b[0;34m]\u001b[0m\u001b[0;34m\u001b[0m\u001b[0;34m\u001b[0m\u001b[0m\n\u001b[0m",
            "\u001b[0;31mKeyError\u001b[0m: 'XYZ'"
          ]
        }
      ]
    },
    {
      "cell_type": "code",
      "metadata": {
        "id": "8Q-K15VdLBRj",
        "colab_type": "code",
        "colab": {},
        "outputId": "216bbce8-f749-4016-a61d-57dbf64e9565"
      },
      "source": [
        "# Acessando o valor associado à chave 2329\n",
        "dic_produtos[2329]"
      ],
      "execution_count": null,
      "outputs": [
        {
          "output_type": "execute_result",
          "data": {
            "text/plain": [
              "'Borracha'"
            ]
          },
          "metadata": {
            "tags": []
          },
          "execution_count": 13
        }
      ]
    },
    {
      "cell_type": "code",
      "metadata": {
        "id": "V8FL8JHELBRk",
        "colab_type": "code",
        "colab": {},
        "outputId": "57a5d775-fb73-4e93-9e92-e5ea57834263"
      },
      "source": [
        "# Acessando o valor associado à chave \"Maria\" no dicionário dic_notas_aluno\n",
        "nome_aluno = \"Maria\"\n",
        "print(\"As notas de \"+nome_aluno+\" foram: \"+str(dic_notas_alunos[nome_aluno])+\".\")"
      ],
      "execution_count": null,
      "outputs": [
        {
          "output_type": "stream",
          "text": [
            "As notas de Maria foram: [20, 30, 29].\n"
          ],
          "name": "stdout"
        }
      ]
    },
    {
      "cell_type": "code",
      "metadata": {
        "id": "gS4fCYnbLBRm",
        "colab_type": "code",
        "colab": {},
        "outputId": "98c21dbe-56b3-4535-b9bf-2ec3a941268c"
      },
      "source": [
        "print(nome_aluno+\" tirou \"+str(dic_notas_alunos[nome_aluno][0])+\" pontos na 1a prova.\")"
      ],
      "execution_count": null,
      "outputs": [
        {
          "output_type": "stream",
          "text": [
            "Maria tirou 20 pontos na 1a prova.\n"
          ],
          "name": "stdout"
        }
      ]
    },
    {
      "cell_type": "code",
      "metadata": {
        "id": "pS81pXvlLBRo",
        "colab_type": "code",
        "colab": {},
        "outputId": "e5878d8f-a205-4d35-90ac-b50d101abdf0"
      },
      "source": [
        "# Acessando a nota da primeira prova do João no dicionário dic_notas_alunos2\n",
        "dic_notas_alunos2[\"João\"][\"nota1\"]"
      ],
      "execution_count": null,
      "outputs": [
        {
          "output_type": "execute_result",
          "data": {
            "text/plain": [
              "30"
            ]
          },
          "metadata": {
            "tags": []
          },
          "execution_count": 16
        }
      ]
    },
    {
      "cell_type": "markdown",
      "metadata": {
        "id": "EAKhw6ehLBRq",
        "colab_type": "text"
      },
      "source": [
        "### 3. Modificando valores em um dicionário"
      ]
    },
    {
      "cell_type": "code",
      "metadata": {
        "id": "E7UVRqX7LBRq",
        "colab_type": "code",
        "colab": {},
        "outputId": "f55d05e4-b8a1-48fd-9942-5c03870b5769"
      },
      "source": [
        "# Visualizando o dicionário dic_estados\n",
        "dic_estados"
      ],
      "execution_count": null,
      "outputs": [
        {
          "output_type": "execute_result",
          "data": {
            "text/plain": [
              "{'MG': 'Minas Gerais',\n",
              " 'PR': 'Paraná',\n",
              " 'BA': 'Bahia',\n",
              " 'RN': 'Rio Grande do Norte',\n",
              " 'AM': 'Amzonas'}"
            ]
          },
          "metadata": {
            "tags": []
          },
          "execution_count": 17
        }
      ]
    },
    {
      "cell_type": "code",
      "metadata": {
        "id": "uwWgxjwnLBRs",
        "colab_type": "code",
        "colab": {},
        "outputId": "2fe58ba7-507f-4146-fae8-07bda6ab6a68"
      },
      "source": [
        "# Corrigindo o nome do estado Amazonas\n",
        "dic_estados[\"AM\"] = \"Amazonas\"\n",
        "dic_estados"
      ],
      "execution_count": null,
      "outputs": [
        {
          "output_type": "execute_result",
          "data": {
            "text/plain": [
              "{'MG': 'Minas Gerais',\n",
              " 'PR': 'Paraná',\n",
              " 'BA': 'Bahia',\n",
              " 'RN': 'Rio Grande do Norte',\n",
              " 'AM': 'Amazonas'}"
            ]
          },
          "metadata": {
            "tags": []
          },
          "execution_count": 18
        }
      ]
    },
    {
      "cell_type": "code",
      "metadata": {
        "id": "GnyB1omOLBRt",
        "colab_type": "code",
        "colab": {},
        "outputId": "7e5a706d-d84c-48e7-a177-afe6663f6a6a"
      },
      "source": [
        "# Visualizando o dicionário dic_notas_alunos\n",
        "dic_notas_alunos"
      ],
      "execution_count": null,
      "outputs": [
        {
          "output_type": "execute_result",
          "data": {
            "text/plain": [
              "{'João': [30, 12, 21], 'Maria': [20, 30, 29], 'José': [20, 23, 19]}"
            ]
          },
          "metadata": {
            "tags": []
          },
          "execution_count": 19
        }
      ]
    },
    {
      "cell_type": "code",
      "metadata": {
        "id": "Og-QNkXZLBRv",
        "colab_type": "code",
        "colab": {},
        "outputId": "98415e11-46c7-4f77-8978-25cf6e5f6548"
      },
      "source": [
        "# Alterando a segunda nota de João para 22\n",
        "dic_notas_alunos[\"João\"][1] = 22\n",
        "dic_notas_alunos"
      ],
      "execution_count": null,
      "outputs": [
        {
          "output_type": "execute_result",
          "data": {
            "text/plain": [
              "{'João': [30, 22, 21], 'Maria': [20, 30, 29], 'José': [20, 23, 19]}"
            ]
          },
          "metadata": {
            "tags": []
          },
          "execution_count": 20
        }
      ]
    },
    {
      "cell_type": "code",
      "metadata": {
        "id": "0I_AT2s5LBRw",
        "colab_type": "code",
        "colab": {},
        "outputId": "61dcc638-0e45-4ea4-8516-6943101501d3"
      },
      "source": [
        "# Alterando todas as notas de Maria. \n",
        "# Essa alteração não será feita nota a nota, mas atribuindo uma nova lista com as notas corretas\n",
        "dic_notas_alunos[\"Maria\"] = [25, 20, 22]\n",
        "dic_notas_alunos"
      ],
      "execution_count": null,
      "outputs": [
        {
          "output_type": "execute_result",
          "data": {
            "text/plain": [
              "{'João': [30, 22, 21], 'Maria': [25, 20, 22], 'José': [20, 23, 19]}"
            ]
          },
          "metadata": {
            "tags": []
          },
          "execution_count": 21
        }
      ]
    },
    {
      "cell_type": "code",
      "metadata": {
        "id": "GvumvjqdLBRx",
        "colab_type": "code",
        "colab": {},
        "outputId": "fcc15429-83e8-43e2-ec81-aa03e3513220"
      },
      "source": [
        "# Visualizando o dicionário dic_notas_alunos2\n",
        "dic_notas_alunos2"
      ],
      "execution_count": null,
      "outputs": [
        {
          "output_type": "execute_result",
          "data": {
            "text/plain": [
              "{'João': {'nota1': 30, 'nota2': 12, 'nota3': 21},\n",
              " 'Maria': {'nota1': 20, 'nota2': 30, 'nota3': 29},\n",
              " 'José': {'nota1': 20, 'nota2': 23, 'nota3': 19}}"
            ]
          },
          "metadata": {
            "tags": []
          },
          "execution_count": 22
        }
      ]
    },
    {
      "cell_type": "code",
      "metadata": {
        "id": "MsECSUu-LBRz",
        "colab_type": "code",
        "colab": {},
        "outputId": "634ee66f-0f19-49d5-a957-9feec1cd3fb6"
      },
      "source": [
        "# Alterando a terceira nota do José para 25\n",
        "dic_notas_alunos2[\"José\"][\"nota3\"] = 25\n",
        "dic_notas_alunos2"
      ],
      "execution_count": null,
      "outputs": [
        {
          "output_type": "execute_result",
          "data": {
            "text/plain": [
              "{'João': {'nota1': 30, 'nota2': 12, 'nota3': 21},\n",
              " 'Maria': {'nota1': 20, 'nota2': 30, 'nota3': 29},\n",
              " 'José': {'nota1': 20, 'nota2': 23, 'nota3': 25}}"
            ]
          },
          "metadata": {
            "tags": []
          },
          "execution_count": 23
        }
      ]
    },
    {
      "cell_type": "markdown",
      "metadata": {
        "id": "ZOig962HLBR0",
        "colab_type": "text"
      },
      "source": [
        "### 4. Principais métodos de um objeto dicionário\n",
        "\n",
        "Método | Descrição | Exemplo\n",
        ":----- | :-------- | :------\n",
        "clear  | Apaga todos os elementos de um dicionário | `dic.clear()`\n",
        "copy | Retorna uma cópia dos elementos de um dicionário | `dic_copia = dic.copy()`\n",
        "fromkeys | Retorna um dicionário a partir de uma sequência de chaves | `exemplo = dic.fromkeys({\"k1\", \"k4\", \"k5\"})`\n",
        "get | Retorna o valor associado a uma chave | `dic.get(\"k1\")`\n",
        " |  | `dic.get(\"k1\", 0)`\n",
        "items | Retorna uma visão dos pares chave/valor de um dicionário | `dic.items()`\n",
        "keys | Retorna uma visão das chaves de um dicionário | `dic.keys()`\n",
        "pop | Remove e retorna o elemento associado à chave passada por parâmetro (provoca erro se a chave não existir) | `dic.pop(2)`\n",
        "popitem | Remove e retorna o último elemento adicionado ao dicionário | `dic.popitem()`\n",
        "setdefault | Retorna o valor associado a uma chave (se a chave existir). Caso não exista, insere a chave com o valor (opcional) no dicionário | `dic.setdefault(2, \"dois\")`\n",
        "update | Adiciona ao dicionário os pares de chave/valor de outro dicionário passado por parâmetro | `dic.update(dic2)`\n",
        "values | Retorna uma visão dos valores de um dicionário | `dic.values`"
      ]
    },
    {
      "cell_type": "code",
      "metadata": {
        "id": "WOoeaqVYLBR0",
        "colab_type": "code",
        "colab": {},
        "outputId": "19472259-f730-4a1c-e15f-e143d9c23929"
      },
      "source": [
        "# Criando um dicionário exemplo\n",
        "dic_exemplo = {1:\"um\", 2:\"dois\", 3:\"três\", 4:\"quatro\"}\n",
        "dic_exemplo"
      ],
      "execution_count": null,
      "outputs": [
        {
          "output_type": "execute_result",
          "data": {
            "text/plain": [
              "{1: 'um', 2: 'dois', 3: 'três', 4: 'quatro'}"
            ]
          },
          "metadata": {
            "tags": []
          },
          "execution_count": 24
        }
      ]
    },
    {
      "cell_type": "markdown",
      "metadata": {
        "id": "bAkzvugSLBR1",
        "colab_type": "text"
      },
      "source": [
        "#### 4.1 - clear()"
      ]
    },
    {
      "cell_type": "code",
      "metadata": {
        "id": "kjvn_M9eLBR2",
        "colab_type": "code",
        "colab": {},
        "outputId": "b7e8f534-d46c-4fa7-96a1-e76094a17f29"
      },
      "source": [
        "# Removendo os elementos de dic_exemplo\n",
        "dic_exemplo.clear()\n",
        "dic_exemplo"
      ],
      "execution_count": null,
      "outputs": [
        {
          "output_type": "execute_result",
          "data": {
            "text/plain": [
              "{}"
            ]
          },
          "metadata": {
            "tags": []
          },
          "execution_count": 25
        }
      ]
    },
    {
      "cell_type": "markdown",
      "metadata": {
        "id": "_rEnRC0sLBR3",
        "colab_type": "text"
      },
      "source": [
        "#### 4.2 - copy()"
      ]
    },
    {
      "cell_type": "code",
      "metadata": {
        "id": "BjRfD3bTLBR3",
        "colab_type": "code",
        "colab": {},
        "outputId": "6630281e-c248-4652-92df-ad1bb94e6d02"
      },
      "source": [
        "# Redefinido dic_exemplo\n",
        "dic_exemplo = {1:\"um\", 2:\"dois\", 3:\"três\", 4:\"quatro\"}\n",
        "dic_exemplo"
      ],
      "execution_count": null,
      "outputs": [
        {
          "output_type": "execute_result",
          "data": {
            "text/plain": [
              "{1: 'um', 2: 'dois', 3: 'três', 4: 'quatro'}"
            ]
          },
          "metadata": {
            "tags": []
          },
          "execution_count": 26
        }
      ]
    },
    {
      "cell_type": "code",
      "metadata": {
        "id": "uU8GfgjhLBR4",
        "colab_type": "code",
        "colab": {},
        "outputId": "62353e78-6b32-4f9e-8763-da013b8e8f7d"
      },
      "source": [
        "# Criando uma cópia de dic_exemplo usando o método copy()\n",
        "dic_exemplo2 = dic_exemplo.copy()\n",
        "dic_exemplo2"
      ],
      "execution_count": null,
      "outputs": [
        {
          "output_type": "execute_result",
          "data": {
            "text/plain": [
              "{1: 'um', 2: 'dois', 3: 'três', 4: 'quatro'}"
            ]
          },
          "metadata": {
            "tags": []
          },
          "execution_count": 27
        }
      ]
    },
    {
      "cell_type": "markdown",
      "metadata": {
        "id": "W29F_WT4LBR5",
        "colab_type": "text"
      },
      "source": [
        "Obs: Isso já foi discutido na aula sobre listas. Se simplesmente atribuirmos dic_exemplo a dic_exemplo2 (**`dic_exemplo2 = dic_exemplo`**), não estaremos copiando seus elementos, mas criando uma referência (ou um apelido)."
      ]
    },
    {
      "cell_type": "markdown",
      "metadata": {
        "id": "NBG_-Kt5LBR5",
        "colab_type": "text"
      },
      "source": [
        "#### 4.3 - fromkeys()"
      ]
    },
    {
      "cell_type": "code",
      "metadata": {
        "id": "v1QS4o7DLBR5",
        "colab_type": "code",
        "colab": {},
        "outputId": "4e2200c9-c7e9-4eeb-fee8-4eef0abe6802"
      },
      "source": [
        "# Criando um novo dicionário a partir da seleção das chaves que desejamos\n",
        "dic_num_pares = dict.fromkeys([2, 4, 6, 8, 10])\n",
        "dic_num_pares"
      ],
      "execution_count": null,
      "outputs": [
        {
          "output_type": "execute_result",
          "data": {
            "text/plain": [
              "{2: None, 4: None, 6: None, 8: None, 10: None}"
            ]
          },
          "metadata": {
            "tags": []
          },
          "execution_count": 28
        }
      ]
    },
    {
      "cell_type": "code",
      "metadata": {
        "id": "sLY4-BPZLBR6",
        "colab_type": "code",
        "colab": {},
        "outputId": "cd25a50e-b0b0-42a0-bda8-93f64ef1faf7"
      },
      "source": [
        "# Se desejarmos atribuir um valor default, basta informar após a lista com as chaves\n",
        "dic_num_pares = dict.fromkeys([2, 4, 6, 8, 10], \"par\")\n",
        "dic_num_pares"
      ],
      "execution_count": null,
      "outputs": [
        {
          "output_type": "execute_result",
          "data": {
            "text/plain": [
              "{2: 'par', 4: 'par', 6: 'par', 8: 'par', 10: 'par'}"
            ]
          },
          "metadata": {
            "tags": []
          },
          "execution_count": 29
        }
      ]
    },
    {
      "cell_type": "markdown",
      "metadata": {
        "id": "8wQBcu4TLBR7",
        "colab_type": "text"
      },
      "source": [
        "#### 4.4 - get()"
      ]
    },
    {
      "cell_type": "code",
      "metadata": {
        "id": "-3zbezkWLBR7",
        "colab_type": "code",
        "colab": {},
        "outputId": "09e0e297-123f-44b5-f9e6-296d7a90dfda"
      },
      "source": [
        "# O método get retorna o valor associado a uma chave\n",
        "# Visualizando o valor associado à chave 2\n",
        "dic_exemplo.get(2)"
      ],
      "execution_count": null,
      "outputs": [
        {
          "output_type": "execute_result",
          "data": {
            "text/plain": [
              "'dois'"
            ]
          },
          "metadata": {
            "tags": []
          },
          "execution_count": 30
        }
      ]
    },
    {
      "cell_type": "markdown",
      "metadata": {
        "id": "LHeX3PMxLBR8",
        "colab_type": "text"
      },
      "source": [
        "#### 4.5 - items()"
      ]
    },
    {
      "cell_type": "code",
      "metadata": {
        "id": "Sci2KIJ-LBR9",
        "colab_type": "code",
        "colab": {},
        "outputId": "5d93aa92-dff9-410c-cb85-2e40a59dd879"
      },
      "source": [
        "# Visualizando os pares chave/valor do dicionário \n",
        "dic_exemplo.items()"
      ],
      "execution_count": null,
      "outputs": [
        {
          "output_type": "execute_result",
          "data": {
            "text/plain": [
              "dict_items([(1, 'um'), (2, 'dois'), (3, 'três'), (4, 'quatro')])"
            ]
          },
          "metadata": {
            "tags": []
          },
          "execution_count": 31
        }
      ]
    },
    {
      "cell_type": "markdown",
      "metadata": {
        "id": "HlBhZMHVLBR-",
        "colab_type": "text"
      },
      "source": [
        "#### 4.6 - keys()"
      ]
    },
    {
      "cell_type": "code",
      "metadata": {
        "id": "yJwfjYWMLBR-",
        "colab_type": "code",
        "colab": {},
        "outputId": "19887f5e-44a3-4908-bc90-a2b07d009182"
      },
      "source": [
        "# Visualizando as chaves de um dicionário\n",
        "dic_exemplo.keys()"
      ],
      "execution_count": null,
      "outputs": [
        {
          "output_type": "execute_result",
          "data": {
            "text/plain": [
              "dict_keys([1, 2, 3, 4])"
            ]
          },
          "metadata": {
            "tags": []
          },
          "execution_count": 32
        }
      ]
    },
    {
      "cell_type": "markdown",
      "metadata": {
        "id": "MwwdFN_yLBR_",
        "colab_type": "text"
      },
      "source": [
        "#### 4.7 - pop()"
      ]
    },
    {
      "cell_type": "code",
      "metadata": {
        "id": "PQId0CQdLBR_",
        "colab_type": "code",
        "colab": {},
        "outputId": "0dbbece6-a9b7-49f0-a900-fd6e84e724b8"
      },
      "source": [
        "# Removendo o par chave/valor associado à chave 1\n",
        "dic_exemplo.pop(1)\n",
        "dic_exemplo"
      ],
      "execution_count": null,
      "outputs": [
        {
          "output_type": "execute_result",
          "data": {
            "text/plain": [
              "{2: 'dois', 3: 'três', 4: 'quatro'}"
            ]
          },
          "metadata": {
            "tags": []
          },
          "execution_count": 33
        }
      ]
    },
    {
      "cell_type": "code",
      "metadata": {
        "id": "7JRop15cLBSA",
        "colab_type": "code",
        "colab": {},
        "outputId": "d2cdaca0-6065-46bc-9d06-7ee72eb026a3"
      },
      "source": [
        "# Podemos remover e armazenar o valor removido em uma variável\n",
        "valor = dic_exemplo.pop(4)\n",
        "dic_exemplo"
      ],
      "execution_count": null,
      "outputs": [
        {
          "output_type": "execute_result",
          "data": {
            "text/plain": [
              "{2: 'dois', 3: 'três'}"
            ]
          },
          "metadata": {
            "tags": []
          },
          "execution_count": 34
        }
      ]
    },
    {
      "cell_type": "code",
      "metadata": {
        "id": "WGsl89gkLBSB",
        "colab_type": "code",
        "colab": {},
        "outputId": "e06ff5de-1105-4993-d80e-cad2fa16ced4"
      },
      "source": [
        "# Visualizando o conteúdo armazenado na variável valor\n",
        "valor"
      ],
      "execution_count": null,
      "outputs": [
        {
          "output_type": "execute_result",
          "data": {
            "text/plain": [
              "'quatro'"
            ]
          },
          "metadata": {
            "tags": []
          },
          "execution_count": 35
        }
      ]
    },
    {
      "cell_type": "markdown",
      "metadata": {
        "id": "udOuHJJ3LBSC",
        "colab_type": "text"
      },
      "source": [
        "#### 4.8 - popitem()"
      ]
    },
    {
      "cell_type": "code",
      "metadata": {
        "id": "OE3MFEICLBSD",
        "colab_type": "code",
        "colab": {}
      },
      "source": [
        "# Removendo o último par chave/valor adicionado ao dicionário\n",
        "removido = dic_num_pares.popitem()"
      ],
      "execution_count": null,
      "outputs": []
    },
    {
      "cell_type": "code",
      "metadata": {
        "id": "Wwd25BoTLBSE",
        "colab_type": "code",
        "colab": {},
        "outputId": "dd4afa2b-6911-40b6-cd65-66e91408540f"
      },
      "source": [
        "# Visualizando o valor removido\n",
        "removido"
      ],
      "execution_count": null,
      "outputs": [
        {
          "output_type": "execute_result",
          "data": {
            "text/plain": [
              "(10, 'par')"
            ]
          },
          "metadata": {
            "tags": []
          },
          "execution_count": 37
        }
      ]
    },
    {
      "cell_type": "code",
      "metadata": {
        "id": "IXk34ODnLBSF",
        "colab_type": "code",
        "colab": {},
        "outputId": "25e7fa04-999a-4b14-f1c1-a496e17a09ba"
      },
      "source": [
        "# Visualizando o dicionário após a remoção do último par chave/valor\n",
        "dic_num_pares"
      ],
      "execution_count": null,
      "outputs": [
        {
          "output_type": "execute_result",
          "data": {
            "text/plain": [
              "{2: 'par', 4: 'par', 6: 'par', 8: 'par'}"
            ]
          },
          "metadata": {
            "tags": []
          },
          "execution_count": 38
        }
      ]
    },
    {
      "cell_type": "markdown",
      "metadata": {
        "id": "_6a6xlrPLBSG",
        "colab_type": "text"
      },
      "source": [
        "#### 4.9 - setdefault()"
      ]
    },
    {
      "cell_type": "code",
      "metadata": {
        "id": "eeWAwjk6LBSG",
        "colab_type": "code",
        "colab": {},
        "outputId": "1381da4b-78f0-4c51-b516-81f32084df93"
      },
      "source": [
        "# Verificando o valor associado à chave \"MG\"\n",
        "dic_estados.setdefault(\"MG\")"
      ],
      "execution_count": null,
      "outputs": [
        {
          "output_type": "execute_result",
          "data": {
            "text/plain": [
              "'Minas Gerais'"
            ]
          },
          "metadata": {
            "tags": []
          },
          "execution_count": 39
        }
      ]
    },
    {
      "cell_type": "code",
      "metadata": {
        "id": "zdzKR8OyLBSH",
        "colab_type": "code",
        "colab": {}
      },
      "source": [
        "# Verificando o valor associado à chave \"ES\". \n",
        "# Como essa chave não existe, ela é adicionada pelo método setdefault ao dicionário com o valor None\n",
        "dic_estados.setdefault(\"ES\")"
      ],
      "execution_count": null,
      "outputs": []
    },
    {
      "cell_type": "code",
      "metadata": {
        "id": "cSx0Pr_sLBSI",
        "colab_type": "code",
        "colab": {},
        "outputId": "673979c3-9ba9-43aa-de4e-9b2e2ed6a6f0"
      },
      "source": [
        "# Visualizando o conteúdo de dic_estados\n",
        "dic_estados"
      ],
      "execution_count": null,
      "outputs": [
        {
          "output_type": "execute_result",
          "data": {
            "text/plain": [
              "{'MG': 'Minas Gerais',\n",
              " 'PR': 'Paraná',\n",
              " 'BA': 'Bahia',\n",
              " 'RN': 'Rio Grande do Norte',\n",
              " 'AM': 'Amazonas',\n",
              " 'ES': None}"
            ]
          },
          "metadata": {
            "tags": []
          },
          "execution_count": 41
        }
      ]
    },
    {
      "cell_type": "code",
      "metadata": {
        "id": "4-06YQawLBSJ",
        "colab_type": "code",
        "colab": {},
        "outputId": "8a770d1b-02d2-4c65-e31f-896a66260b55"
      },
      "source": [
        "# Verificando o valor associado à chave \"ES\". \n",
        "# Como essa chave não existe, ela é adicionada pelo método setdefault ao dicionário. \n",
        "# Nesse caso foi passado que o valor \"Santa Catarina\"\n",
        "dic_estados.setdefault(\"SC\", \"Santa Catarina\")"
      ],
      "execution_count": null,
      "outputs": [
        {
          "output_type": "execute_result",
          "data": {
            "text/plain": [
              "'Santa Catarina'"
            ]
          },
          "metadata": {
            "tags": []
          },
          "execution_count": 42
        }
      ]
    },
    {
      "cell_type": "code",
      "metadata": {
        "id": "49FT3EVVLBSJ",
        "colab_type": "code",
        "colab": {},
        "outputId": "3f05d28a-b88f-4ab4-eb91-7a2dc682fd82"
      },
      "source": [
        "# Visualizando o conteúdo de dic_estados\n",
        "dic_estados"
      ],
      "execution_count": null,
      "outputs": [
        {
          "output_type": "execute_result",
          "data": {
            "text/plain": [
              "{'MG': 'Minas Gerais',\n",
              " 'PR': 'Paraná',\n",
              " 'BA': 'Bahia',\n",
              " 'RN': 'Rio Grande do Norte',\n",
              " 'AM': 'Amazonas',\n",
              " 'ES': None,\n",
              " 'SC': 'Santa Catarina'}"
            ]
          },
          "metadata": {
            "tags": []
          },
          "execution_count": 43
        }
      ]
    },
    {
      "cell_type": "markdown",
      "metadata": {
        "id": "aU5aSxcHLBSK",
        "colab_type": "text"
      },
      "source": [
        "#### 4.10 - update()"
      ]
    },
    {
      "cell_type": "code",
      "metadata": {
        "id": "Z8pW4xdWLBSL",
        "colab_type": "code",
        "colab": {},
        "outputId": "f1eef864-ddf4-4765-f74d-cc640adb9d39"
      },
      "source": [
        "# Definindo o dicionário dic_estados_centro_oeste com alguns dos estados da região Centro Oeste\n",
        "dic_estados_centro_oeste = {\"MS\": \"Mato Grosso do Sul\", \"TO\": \"Tocantins\", \"GO\": \"Goiás\"}\n",
        "dic_estados_centro_oeste"
      ],
      "execution_count": null,
      "outputs": [
        {
          "output_type": "execute_result",
          "data": {
            "text/plain": [
              "{'MS': 'Mato Grosso do Sul', 'TO': 'Tocantins', 'GO': 'Goiás'}"
            ]
          },
          "metadata": {
            "tags": []
          },
          "execution_count": 44
        }
      ]
    },
    {
      "cell_type": "code",
      "metadata": {
        "id": "NS6fvfpELBSL",
        "colab_type": "code",
        "colab": {},
        "outputId": "a4681580-2383-47c3-f41f-b16b39e0e9b4"
      },
      "source": [
        "# Adicionando os estados do Centro Oeste ao dicionário dic_estados\n",
        "dic_estados.update(dic_estados_centro_oeste)\n",
        "dic_estados"
      ],
      "execution_count": null,
      "outputs": [
        {
          "output_type": "execute_result",
          "data": {
            "text/plain": [
              "{'MG': 'Minas Gerais',\n",
              " 'PR': 'Paraná',\n",
              " 'BA': 'Bahia',\n",
              " 'RN': 'Rio Grande do Norte',\n",
              " 'AM': 'Amazonas',\n",
              " 'ES': None,\n",
              " 'SC': 'Santa Catarina',\n",
              " 'MS': 'Mato Grosso do Sul',\n",
              " 'TO': 'Tocantins',\n",
              " 'GO': 'Goiás'}"
            ]
          },
          "metadata": {
            "tags": []
          },
          "execution_count": 45
        }
      ]
    },
    {
      "cell_type": "markdown",
      "metadata": {
        "id": "TT6r0-DzLBSM",
        "colab_type": "text"
      },
      "source": [
        "#### 4.11 - values()"
      ]
    },
    {
      "cell_type": "code",
      "metadata": {
        "id": "zZgWVwEsLBSM",
        "colab_type": "code",
        "colab": {},
        "outputId": "d5559100-ffad-47e2-cbd7-c9615fd889a7"
      },
      "source": [
        "# Visualizando os valores de um dicionário\n",
        "dic_estados.values()"
      ],
      "execution_count": null,
      "outputs": [
        {
          "output_type": "execute_result",
          "data": {
            "text/plain": [
              "dict_values(['Minas Gerais', 'Paraná', 'Bahia', 'Rio Grande do Norte', 'Amazonas', None, 'Santa Catarina', 'Mato Grosso do Sul', 'Tocantins', 'Goiás'])"
            ]
          },
          "metadata": {
            "tags": []
          },
          "execution_count": 46
        }
      ]
    },
    {
      "cell_type": "markdown",
      "metadata": {
        "id": "ZUQsRw9XLBSN",
        "colab_type": "text"
      },
      "source": [
        "#### Como remover o estado de Tocantins do dicionário Centro Oeste?"
      ]
    },
    {
      "cell_type": "code",
      "metadata": {
        "id": "7UHBX8sBLBSN",
        "colab_type": "code",
        "colab": {},
        "outputId": "8cf29fe9-3be4-48ff-a30c-c8c5968f9a03"
      },
      "source": [
        "# Numa primeira versão desse Notebook, o exemplo do pop() seria a remoção do estado de Tocantins, \n",
        "# que não faz parte da região Centro-Oeste, mas da região Norte. Para removermos Tocantins do dicionário,\n",
        "# usamos então o método pop(), passando por parâmetro a sigla do estado \"TO\"\n",
        "dic_estados_centro_oeste.pop(\"TO\")"
      ],
      "execution_count": null,
      "outputs": [
        {
          "output_type": "execute_result",
          "data": {
            "text/plain": [
              "'Tocantins'"
            ]
          },
          "metadata": {
            "tags": []
          },
          "execution_count": 47
        }
      ]
    },
    {
      "cell_type": "code",
      "metadata": {
        "id": "Sb7ZkZmNLBSO",
        "colab_type": "code",
        "colab": {}
      },
      "source": [
        ""
      ],
      "execution_count": null,
      "outputs": []
    }
  ]
}