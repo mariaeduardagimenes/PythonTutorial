{
  "nbformat": 4,
  "nbformat_minor": 0,
  "metadata": {
    "kernelspec": {
      "display_name": "Python 3",
      "language": "python",
      "name": "python3"
    },
    "language_info": {
      "codemirror_mode": {
        "name": "ipython",
        "version": 3
      },
      "file_extension": ".py",
      "mimetype": "text/x-python",
      "name": "python",
      "nbconvert_exporter": "python",
      "pygments_lexer": "ipython3",
      "version": "3.8.5"
    },
    "colab": {
      "name": "Tutorial_Python_Listas.ipynb",
      "provenance": [],
      "include_colab_link": true
    }
  },
  "cells": [
    {
      "cell_type": "markdown",
      "metadata": {
        "id": "view-in-github",
        "colab_type": "text"
      },
      "source": [
        "<a href=\"https://colab.research.google.com/github/mariaeduardagimenes/PythonTutorial/blob/master/Tutorial_Python_Listas.ipynb\" target=\"_parent\"><img src=\"https://colab.research.google.com/assets/colab-badge.svg\" alt=\"Open In Colab\"/></a>"
      ]
    },
    {
      "cell_type": "markdown",
      "metadata": {
        "id": "uXdcg0zGXh5C",
        "colab_type": "text"
      },
      "source": [
        "# Listas\n",
        "\n",
        "* Lista é uma coleção de elementos \n",
        "* Cada elemento possui uma posição dentro de uma lista. Essa posição é chamada índice\n",
        "* O primeiro elemento fica armazenado na posição *0*, enquanto o último elemento fica armazenado na posição *n-1* (onde *n* é a quantidade de elementos da lista)\n",
        "\n",
        "O que veremos nessa aula:\n",
        "\n",
        "1. Como criar uma lista\n",
        "2. Como acessar elementos de uma lista\n",
        "3. Como modificar elementos de uma lista\n",
        "4. Principais métodos de um objeto lista\n",
        "5. Funções aplicáveis a uma lista"
      ]
    },
    {
      "cell_type": "markdown",
      "metadata": {
        "id": "6fCE5I84Xh5E",
        "colab_type": "text"
      },
      "source": [
        "### 1. Como criar uma lista"
      ]
    },
    {
      "cell_type": "code",
      "metadata": {
        "id": "YHV0wMBYXh5F",
        "colab_type": "code",
        "colab": {}
      },
      "source": [
        "# Criando uma lista vazia\n",
        "lista_vazia = []\n",
        "lista_vazia2 = list()"
      ],
      "execution_count": null,
      "outputs": []
    },
    {
      "cell_type": "code",
      "metadata": {
        "id": "9NLGXtAQXh5K",
        "colab_type": "code",
        "colab": {},
        "outputId": "29e905c8-778d-437f-ef24-af9629a3a4e3"
      },
      "source": [
        "# Visualizando o tipo\n",
        "type(lista_vazia)"
      ],
      "execution_count": null,
      "outputs": [
        {
          "output_type": "execute_result",
          "data": {
            "text/plain": [
              "list"
            ]
          },
          "metadata": {
            "tags": []
          },
          "execution_count": 2
        }
      ]
    },
    {
      "cell_type": "code",
      "metadata": {
        "id": "d1V0zGI_Xh5P",
        "colab_type": "code",
        "colab": {},
        "outputId": "6e7796e9-5277-4bf1-ce05-24d200a93944"
      },
      "source": [
        "# Visualizando o tipo\n",
        "type(lista_vazia2)"
      ],
      "execution_count": null,
      "outputs": [
        {
          "output_type": "execute_result",
          "data": {
            "text/plain": [
              "list"
            ]
          },
          "metadata": {
            "tags": []
          },
          "execution_count": 3
        }
      ]
    },
    {
      "cell_type": "code",
      "metadata": {
        "id": "w4CRwhLWXh5S",
        "colab_type": "code",
        "colab": {},
        "outputId": "31087d5e-4832-4d70-9cdd-5e37d13b76e6"
      },
      "source": [
        "# Verificando o tamanho da lista\n",
        "len(lista_vazia)"
      ],
      "execution_count": null,
      "outputs": [
        {
          "output_type": "execute_result",
          "data": {
            "text/plain": [
              "0"
            ]
          },
          "metadata": {
            "tags": []
          },
          "execution_count": 4
        }
      ]
    },
    {
      "cell_type": "code",
      "metadata": {
        "id": "Zxzl27VIXh5V",
        "colab_type": "code",
        "colab": {}
      },
      "source": [
        "# Criando listas com elementos\n",
        "lista = [23, 56, 2, -3, 10, 2, 18, 0, 5]\n",
        "lista_reais = [1.5, -2.13, 5.14]\n",
        "lista_strings = [\"Rodrigo\", \"Python\", \"Data Science\", \"Ciência de Dados e Big Data\"]\n",
        "lista_booleanos = [True, True, False, True]\n",
        "lista_misturada = [1, 2, 3.14159, \"teste\"]\n",
        "lista_misturada2 = [1, 2, 3.14159, \"teste\", [1, \"A\", 1.0]]\n",
        "listas_aninhadas = [ [1, 2, 3], [4, 5, 6], [7, 8, 9]]"
      ],
      "execution_count": null,
      "outputs": []
    },
    {
      "cell_type": "code",
      "metadata": {
        "id": "6voMLrv0Xh5Y",
        "colab_type": "code",
        "colab": {},
        "outputId": "a7122bd9-3c67-437d-c054-516897126bf0"
      },
      "source": [
        "# Visualizando a lista\n",
        "lista"
      ],
      "execution_count": null,
      "outputs": [
        {
          "output_type": "execute_result",
          "data": {
            "text/plain": [
              "[23, 56, 2, -3, 10, 2, 18, 0, 5]"
            ]
          },
          "metadata": {
            "tags": []
          },
          "execution_count": 24
        }
      ]
    },
    {
      "cell_type": "code",
      "metadata": {
        "id": "CdSm25dSXh5b",
        "colab_type": "code",
        "colab": {},
        "outputId": "20d90967-c4f0-4a98-c41c-a82244963644"
      },
      "source": [
        "lista_reais"
      ],
      "execution_count": null,
      "outputs": [
        {
          "output_type": "execute_result",
          "data": {
            "text/plain": [
              "[1.5, -2.13, 5.14]"
            ]
          },
          "metadata": {
            "tags": []
          },
          "execution_count": 25
        }
      ]
    },
    {
      "cell_type": "code",
      "metadata": {
        "id": "3XXL0Q6QXh5e",
        "colab_type": "code",
        "colab": {},
        "outputId": "4df38f0f-f5d4-4d8d-b545-fd330d10ef90"
      },
      "source": [
        "lista_strings"
      ],
      "execution_count": null,
      "outputs": [
        {
          "output_type": "execute_result",
          "data": {
            "text/plain": [
              "['Rodrigo', 'Python', 'Data Science', 'Ciência de Dados e Big Data']"
            ]
          },
          "metadata": {
            "tags": []
          },
          "execution_count": 26
        }
      ]
    },
    {
      "cell_type": "code",
      "metadata": {
        "id": "7FWLIbBgXh5h",
        "colab_type": "code",
        "colab": {},
        "outputId": "59f2dadd-ccc7-4dbf-fa62-972727ef2a76"
      },
      "source": [
        "lista_booleanos"
      ],
      "execution_count": null,
      "outputs": [
        {
          "output_type": "execute_result",
          "data": {
            "text/plain": [
              "[True, True, False, True]"
            ]
          },
          "metadata": {
            "tags": []
          },
          "execution_count": 27
        }
      ]
    },
    {
      "cell_type": "code",
      "metadata": {
        "id": "1-5BFTK6Xh5k",
        "colab_type": "code",
        "colab": {},
        "outputId": "4ba3939a-6fb6-458d-de16-75fadeeee0eb"
      },
      "source": [
        "lista_misturada"
      ],
      "execution_count": null,
      "outputs": [
        {
          "output_type": "execute_result",
          "data": {
            "text/plain": [
              "[1, 2, 3.14159, 'teste']"
            ]
          },
          "metadata": {
            "tags": []
          },
          "execution_count": 28
        }
      ]
    },
    {
      "cell_type": "code",
      "metadata": {
        "id": "KoCRUbe2Xh5m",
        "colab_type": "code",
        "colab": {},
        "outputId": "378a5695-13dd-45bc-f132-6ffe6833ac32"
      },
      "source": [
        "lista_misturada2"
      ],
      "execution_count": null,
      "outputs": [
        {
          "output_type": "execute_result",
          "data": {
            "text/plain": [
              "[1, 2, 3.14159, 'teste', [1, 'A', 1.0]]"
            ]
          },
          "metadata": {
            "tags": []
          },
          "execution_count": 29
        }
      ]
    },
    {
      "cell_type": "code",
      "metadata": {
        "id": "h81ofAjLXh5o",
        "colab_type": "code",
        "colab": {},
        "outputId": "d337d421-2369-4854-c8dd-d58b1c6819f0"
      },
      "source": [
        "listas_aninhadas"
      ],
      "execution_count": null,
      "outputs": [
        {
          "output_type": "execute_result",
          "data": {
            "text/plain": [
              "[[1, 2, 3], [4, 5, 6], [7, 8, 9]]"
            ]
          },
          "metadata": {
            "tags": []
          },
          "execution_count": 30
        }
      ]
    },
    {
      "cell_type": "markdown",
      "metadata": {
        "id": "csHQI50HXh5q",
        "colab_type": "text"
      },
      "source": [
        "### 2. Como acessar elementos de uma lista"
      ]
    },
    {
      "cell_type": "code",
      "metadata": {
        "id": "lMHUr0cmXh5r",
        "colab_type": "code",
        "colab": {},
        "outputId": "c3e33897-2dd0-444f-9694-afe7f1df367b"
      },
      "source": [
        "# Acessando o índice 0 (primeira posição)\n",
        "lista[0]"
      ],
      "execution_count": null,
      "outputs": [
        {
          "output_type": "execute_result",
          "data": {
            "text/plain": [
              "23"
            ]
          },
          "metadata": {
            "tags": []
          },
          "execution_count": 31
        }
      ]
    },
    {
      "cell_type": "code",
      "metadata": {
        "id": "Zg-OaeA3Xh5t",
        "colab_type": "code",
        "colab": {},
        "outputId": "df815eed-368d-4685-b202-3e2270885d01"
      },
      "source": [
        "lista"
      ],
      "execution_count": null,
      "outputs": [
        {
          "output_type": "execute_result",
          "data": {
            "text/plain": [
              "[23, 56, 2, -3, 10, 2, 18, 0, 5]"
            ]
          },
          "metadata": {
            "tags": []
          },
          "execution_count": 32
        }
      ]
    },
    {
      "cell_type": "code",
      "metadata": {
        "id": "kjH_PURZXh5v",
        "colab_type": "code",
        "colab": {},
        "outputId": "78fc12db-6c9d-4028-b4f4-cc7488720690"
      },
      "source": [
        "# Acessando o índice 2 (terceira posição)\n",
        "lista[2]"
      ],
      "execution_count": null,
      "outputs": [
        {
          "output_type": "execute_result",
          "data": {
            "text/plain": [
              "2"
            ]
          },
          "metadata": {
            "tags": []
          },
          "execution_count": 33
        }
      ]
    },
    {
      "cell_type": "code",
      "metadata": {
        "id": "1B-SVRkVXh5x",
        "colab_type": "code",
        "colab": {},
        "outputId": "fa231fd9-d82d-4b28-984c-d425b6f7f01c"
      },
      "source": [
        "# Acessando o índice 3 (quarta posição)\n",
        "lista_strings[3]"
      ],
      "execution_count": null,
      "outputs": [
        {
          "output_type": "execute_result",
          "data": {
            "text/plain": [
              "'Ciência de Dados e Big Data'"
            ]
          },
          "metadata": {
            "tags": []
          },
          "execution_count": 34
        }
      ]
    },
    {
      "cell_type": "code",
      "metadata": {
        "id": "7bKYWihTXh5y",
        "colab_type": "code",
        "colab": {},
        "outputId": "5a6721e0-d610-485d-b766-f8a6f536361c"
      },
      "source": [
        "lista_strings"
      ],
      "execution_count": null,
      "outputs": [
        {
          "output_type": "execute_result",
          "data": {
            "text/plain": [
              "['Rodrigo', 'Python', 'Data Science', 'Ciência de Dados e Big Data']"
            ]
          },
          "metadata": {
            "tags": []
          },
          "execution_count": 35
        }
      ]
    },
    {
      "cell_type": "code",
      "metadata": {
        "id": "hT7xg2RpXh50",
        "colab_type": "code",
        "colab": {},
        "outputId": "bd0df469-7e96-462e-cdc2-7e368ca27223"
      },
      "source": [
        "# Acessando o índice 3 (quarta posição)\n",
        "lista_misturada[3]"
      ],
      "execution_count": null,
      "outputs": [
        {
          "output_type": "execute_result",
          "data": {
            "text/plain": [
              "'teste'"
            ]
          },
          "metadata": {
            "tags": []
          },
          "execution_count": 36
        }
      ]
    },
    {
      "cell_type": "code",
      "metadata": {
        "id": "TR4YA8wbXh51",
        "colab_type": "code",
        "colab": {},
        "outputId": "bbcd0c10-5ab9-438e-825a-81b5a65adda6"
      },
      "source": [
        "lista_misturada"
      ],
      "execution_count": null,
      "outputs": [
        {
          "output_type": "execute_result",
          "data": {
            "text/plain": [
              "[1, 2, 3.14159, 'teste']"
            ]
          },
          "metadata": {
            "tags": []
          },
          "execution_count": 37
        }
      ]
    },
    {
      "cell_type": "code",
      "metadata": {
        "id": "RLFzNgoPXh52",
        "colab_type": "code",
        "colab": {},
        "outputId": "a1b78940-42f2-4b9c-c214-b942f5c6f772"
      },
      "source": [
        "# Acessando o índice 4 nos foi retornado uma lista com 3 elementos. Agora queremos acessar o índice 1 dessa lista interna\n",
        "lista_misturada2[4][1]"
      ],
      "execution_count": null,
      "outputs": [
        {
          "output_type": "execute_result",
          "data": {
            "text/plain": [
              "'A'"
            ]
          },
          "metadata": {
            "tags": []
          },
          "execution_count": 38
        }
      ]
    },
    {
      "cell_type": "code",
      "metadata": {
        "id": "mQm6dVGMXh54",
        "colab_type": "code",
        "colab": {},
        "outputId": "f1a1e248-ad95-4ca7-d9c7-9bdc69d5b3b9"
      },
      "source": [
        "lista_misturada2"
      ],
      "execution_count": null,
      "outputs": [
        {
          "output_type": "execute_result",
          "data": {
            "text/plain": [
              "[1, 2, 3.14159, 'teste', [1, 'A', 1.0]]"
            ]
          },
          "metadata": {
            "tags": []
          },
          "execution_count": 39
        }
      ]
    },
    {
      "cell_type": "code",
      "metadata": {
        "id": "l6Jw4nRdXh55",
        "colab_type": "code",
        "colab": {},
        "outputId": "0fc9bbaa-f39a-4464-b8c3-1a802dcbc290"
      },
      "source": [
        "# Acessando um índice inexistente\n",
        "lista[20]"
      ],
      "execution_count": null,
      "outputs": [
        {
          "output_type": "error",
          "ename": "IndexError",
          "evalue": "list index out of range",
          "traceback": [
            "\u001b[0;31m---------------------------------------------------------------------------\u001b[0m",
            "\u001b[0;31mIndexError\u001b[0m                                Traceback (most recent call last)",
            "\u001b[0;32m<ipython-input-40-155ee6d95b61>\u001b[0m in \u001b[0;36m<module>\u001b[0;34m\u001b[0m\n\u001b[1;32m      1\u001b[0m \u001b[0;31m# Acessando um índice inexistente\u001b[0m\u001b[0;34m\u001b[0m\u001b[0;34m\u001b[0m\u001b[0;34m\u001b[0m\u001b[0m\n\u001b[0;32m----> 2\u001b[0;31m \u001b[0mlista\u001b[0m\u001b[0;34m[\u001b[0m\u001b[0;36m20\u001b[0m\u001b[0;34m]\u001b[0m\u001b[0;34m\u001b[0m\u001b[0;34m\u001b[0m\u001b[0m\n\u001b[0m",
            "\u001b[0;31mIndexError\u001b[0m: list index out of range"
          ]
        }
      ]
    },
    {
      "cell_type": "markdown",
      "metadata": {
        "id": "LB_SV7XrXh56",
        "colab_type": "text"
      },
      "source": [
        "### 3. Como modificar elementos de uma lista"
      ]
    },
    {
      "cell_type": "code",
      "metadata": {
        "id": "Gh4kWEAZXh57",
        "colab_type": "code",
        "colab": {},
        "outputId": "6a8a3b16-6730-4a11-d5f6-156123c2a49f"
      },
      "source": [
        "# Visualizando a lista\n",
        "lista"
      ],
      "execution_count": null,
      "outputs": [
        {
          "output_type": "execute_result",
          "data": {
            "text/plain": [
              "[23, 56, 2, -3, 10, 2, 18, 0, 5]"
            ]
          },
          "metadata": {
            "tags": []
          },
          "execution_count": 41
        }
      ]
    },
    {
      "cell_type": "code",
      "metadata": {
        "id": "eGEbT8KaXh58",
        "colab_type": "code",
        "colab": {}
      },
      "source": [
        "# Alterando o elemento do índice 1 de 56 para 18\n",
        "lista[1] = 18"
      ],
      "execution_count": null,
      "outputs": []
    },
    {
      "cell_type": "code",
      "metadata": {
        "id": "mlpmkI-9Xh59",
        "colab_type": "code",
        "colab": {},
        "outputId": "2af78c19-4dad-47d4-9f3a-f4b0bdb63747"
      },
      "source": [
        "# Visualizando a alteração realizada\n",
        "lista"
      ],
      "execution_count": null,
      "outputs": [
        {
          "output_type": "execute_result",
          "data": {
            "text/plain": [
              "[23, 18, 2, -3, 10, 2, 18, 0, 5]"
            ]
          },
          "metadata": {
            "tags": []
          },
          "execution_count": 43
        }
      ]
    },
    {
      "cell_type": "code",
      "metadata": {
        "id": "tOw0nHCPXh5_",
        "colab_type": "code",
        "colab": {}
      },
      "source": [
        "# Modificando o elemento do índice 3 de -3 para 15\n",
        "lista[3] = 15"
      ],
      "execution_count": null,
      "outputs": []
    },
    {
      "cell_type": "code",
      "metadata": {
        "id": "xcIj-XZ1Xh6A",
        "colab_type": "code",
        "colab": {},
        "outputId": "3ede45ad-e826-4d85-c33e-7a817e976ed7"
      },
      "source": [
        "# Visualizando a alteração realizada\n",
        "lista"
      ],
      "execution_count": null,
      "outputs": [
        {
          "output_type": "execute_result",
          "data": {
            "text/plain": [
              "[23, 18, 2, 15, 10, 2, 18, 0, 5]"
            ]
          },
          "metadata": {
            "tags": []
          },
          "execution_count": 45
        }
      ]
    },
    {
      "cell_type": "code",
      "metadata": {
        "id": "CZ6qPXlfXh6B",
        "colab_type": "code",
        "colab": {}
      },
      "source": [
        "# Modificando o elemento do índice 2. Ele recebe a soma dos dois elementos anteriores\n",
        "lista[2] = lista[0] + lista[1]"
      ],
      "execution_count": null,
      "outputs": []
    },
    {
      "cell_type": "code",
      "metadata": {
        "id": "Fwe3cWgCXh6D",
        "colab_type": "code",
        "colab": {},
        "outputId": "ae99b067-9185-478a-ce1f-41a715a17792"
      },
      "source": [
        "# Visualizando a alteração realizada\n",
        "lista"
      ],
      "execution_count": null,
      "outputs": [
        {
          "output_type": "execute_result",
          "data": {
            "text/plain": [
              "[23, 18, 41, 15, 10, 2, 18, 0, 5]"
            ]
          },
          "metadata": {
            "tags": []
          },
          "execution_count": 47
        }
      ]
    },
    {
      "cell_type": "markdown",
      "metadata": {
        "id": "YFYc4c7uXh6E",
        "colab_type": "text"
      },
      "source": [
        "### 4. Principais métodos de um objeto lista\n",
        "\n",
        "Método | Descrição | Exemplo\n",
        ":----- | :-------- | :------\n",
        "append | Adiciona um elemento no final da lista | `lista.append(5)`\n",
        "clear  | Apaga todos os elementos de uma lista | `lista.clear()`\n",
        "copy | Retorna uma cópia dos elementos da lista | `copia = lista.copy()`\n",
        "count | Retorna a quantidade de ocorrências de um elemento na lista | `qt = lista.count(5)`\n",
        "extend | Adiciona os elementos de outra lista passada por parâmetro | `lista.extend(outra_lista)`\n",
        "index | Retorna o índice do elemento passado por parâmetro (primeira posição) | `pos5 = lista.index(5)`\n",
        "insert | Adiciona um elemento em uma posição passada por parâmetro (adiciona no final caso a posição não exista)| `lista.insert(3, \"João\")`\n",
        "pop | Remove o elemento na posição passada por parâmetro (provoca um erro caso a posição não exista)| `elemento = lista.pop(3)`\n",
        "remove | Remove o elemento passado por parâmetro (provoca um erro caso o elemento não exista)| `lista.remove(5)`\n",
        "reverse | Inverte a ordem dos elementos de uma lista | `lista.reverse()`\n",
        "sort | Ordena os objetos de uma lista | `lista.sort()`\n",
        " | | `lista.sort(reverse=True)`"
      ]
    },
    {
      "cell_type": "markdown",
      "metadata": {
        "id": "QYhuBaq2Xh6F",
        "colab_type": "text"
      },
      "source": [
        "#### 4.1 - append()"
      ]
    },
    {
      "cell_type": "code",
      "metadata": {
        "id": "BZVCjOSpXh6F",
        "colab_type": "code",
        "colab": {},
        "outputId": "38d0a519-bea9-4040-af80-3bb7b9c02dfb"
      },
      "source": [
        "# Visualizando a lista antes da chamada ao método append()\n",
        "lista"
      ],
      "execution_count": null,
      "outputs": [
        {
          "output_type": "execute_result",
          "data": {
            "text/plain": [
              "[23, 18, 41, 15, 10, 2, 18, 0, 5]"
            ]
          },
          "metadata": {
            "tags": []
          },
          "execution_count": 48
        }
      ]
    },
    {
      "cell_type": "code",
      "metadata": {
        "id": "MZpJLGWUXh6H",
        "colab_type": "code",
        "colab": {}
      },
      "source": [
        "# Adicionado o 17 no final da lista\n",
        "lista.append(17)"
      ],
      "execution_count": null,
      "outputs": []
    },
    {
      "cell_type": "code",
      "metadata": {
        "id": "6zQ4GAt4Xh6I",
        "colab_type": "code",
        "colab": {},
        "outputId": "036e1369-38b9-4e48-c1ba-bb7dc90cc3f1"
      },
      "source": [
        "# Visualizando a lista após chamada ao método append()\n",
        "lista"
      ],
      "execution_count": null,
      "outputs": [
        {
          "output_type": "execute_result",
          "data": {
            "text/plain": [
              "[23, 18, 41, 15, 10, 2, 18, 0, 5, 17]"
            ]
          },
          "metadata": {
            "tags": []
          },
          "execution_count": 50
        }
      ]
    },
    {
      "cell_type": "markdown",
      "metadata": {
        "id": "Tjo49AQUXh6J",
        "colab_type": "text"
      },
      "source": [
        "#### 4.2 - clear()"
      ]
    },
    {
      "cell_type": "code",
      "metadata": {
        "id": "Dh3MKrdaXh6J",
        "colab_type": "code",
        "colab": {},
        "outputId": "7ce3580e-ca6f-4b5c-d990-f589448035d5"
      },
      "source": [
        "# Visualizando lista_reais antes da chamada ao método clear()\n",
        "lista_reais"
      ],
      "execution_count": null,
      "outputs": [
        {
          "output_type": "execute_result",
          "data": {
            "text/plain": [
              "[1.5, -2.13, 5.14]"
            ]
          },
          "metadata": {
            "tags": []
          },
          "execution_count": 51
        }
      ]
    },
    {
      "cell_type": "code",
      "metadata": {
        "id": "pZ3daaGUXh6K",
        "colab_type": "code",
        "colab": {}
      },
      "source": [
        "# Removendo todos os ementos de lista_reais\n",
        "lista_reais.clear()"
      ],
      "execution_count": null,
      "outputs": []
    },
    {
      "cell_type": "code",
      "metadata": {
        "id": "HKQ1xb8xXh6M",
        "colab_type": "code",
        "colab": {},
        "outputId": "df8a871e-c03d-4346-a8e2-fa507d8b89f4"
      },
      "source": [
        "# Visualizando lista_reais após chamada ao método clear()\n",
        "lista_reais"
      ],
      "execution_count": null,
      "outputs": [
        {
          "output_type": "execute_result",
          "data": {
            "text/plain": [
              "[]"
            ]
          },
          "metadata": {
            "tags": []
          },
          "execution_count": 53
        }
      ]
    },
    {
      "cell_type": "markdown",
      "metadata": {
        "id": "dmAMGfiNXh6N",
        "colab_type": "text"
      },
      "source": [
        "#### 4.3 - copy()"
      ]
    },
    {
      "cell_type": "code",
      "metadata": {
        "id": "wf59DVt3Xh6O",
        "colab_type": "code",
        "colab": {}
      },
      "source": [
        "# Copiando uma lista para outra?\n",
        "copia = lista"
      ],
      "execution_count": null,
      "outputs": []
    },
    {
      "cell_type": "code",
      "metadata": {
        "id": "N6kp1msdXh6P",
        "colab_type": "code",
        "colab": {},
        "outputId": "d5028ae2-1ca8-42e8-fa8c-6a0677accae4"
      },
      "source": [
        "# Visualizando o conteúdo de copia\n",
        "copia"
      ],
      "execution_count": null,
      "outputs": [
        {
          "output_type": "execute_result",
          "data": {
            "text/plain": [
              "[23, 18, 41, 15, 10, 2, 18, 0, 5, 17]"
            ]
          },
          "metadata": {
            "tags": []
          },
          "execution_count": 55
        }
      ]
    },
    {
      "cell_type": "code",
      "metadata": {
        "id": "6_GzOlJ3Xh6Q",
        "colab_type": "code",
        "colab": {}
      },
      "source": [
        "# Alterando o elemento do índice 0 de 23 para 5\n",
        "copia[0] = 5"
      ],
      "execution_count": null,
      "outputs": []
    },
    {
      "cell_type": "code",
      "metadata": {
        "id": "YqE_HK-wXh6R",
        "colab_type": "code",
        "colab": {},
        "outputId": "0832221f-0a1d-425d-dc0e-39cef911a7da"
      },
      "source": [
        "# Visualizando o conteúdo de copia\n",
        "copia"
      ],
      "execution_count": null,
      "outputs": [
        {
          "output_type": "execute_result",
          "data": {
            "text/plain": [
              "[5, 18, 41, 15, 10, 2, 18, 0, 5, 17]"
            ]
          },
          "metadata": {
            "tags": []
          },
          "execution_count": 57
        }
      ]
    },
    {
      "cell_type": "code",
      "metadata": {
        "id": "AGvY5PpsXh6S",
        "colab_type": "code",
        "colab": {},
        "outputId": "bd672fea-d8b3-4360-d049-8aea3d26aeb2"
      },
      "source": [
        "# Visualizando o conteúdo de lista (Perceba que o elemento 23 também foi alterado na lista, e não apenas em copia)\n",
        "lista"
      ],
      "execution_count": null,
      "outputs": [
        {
          "output_type": "execute_result",
          "data": {
            "text/plain": [
              "[5, 18, 41, 15, 10, 2, 18, 0, 5, 17]"
            ]
          },
          "metadata": {
            "tags": []
          },
          "execution_count": 58
        }
      ]
    },
    {
      "cell_type": "code",
      "metadata": {
        "id": "EuW5NSJbXh6T",
        "colab_type": "code",
        "colab": {}
      },
      "source": [
        "# Desfazendo a alteração no índice 0, modificando de 5 para 23\n",
        "lista[0] = 23"
      ],
      "execution_count": null,
      "outputs": []
    },
    {
      "cell_type": "code",
      "metadata": {
        "id": "76KoR01fXh6U",
        "colab_type": "code",
        "colab": {}
      },
      "source": [
        "# A maneira correta de copiar uma lista para outra é através da chamada ao método copy()\n",
        "copia = lista.copy()"
      ],
      "execution_count": null,
      "outputs": []
    },
    {
      "cell_type": "code",
      "metadata": {
        "id": "OmjHyonFXh6V",
        "colab_type": "code",
        "colab": {},
        "outputId": "73dc4289-6b76-4a29-8084-2ffd7bd821a8"
      },
      "source": [
        "# Visualizando o conteúdo de lista\n",
        "lista"
      ],
      "execution_count": null,
      "outputs": [
        {
          "output_type": "execute_result",
          "data": {
            "text/plain": [
              "[23, 18, 41, 15, 10, 2, 18, 0, 5, 17]"
            ]
          },
          "metadata": {
            "tags": []
          },
          "execution_count": 61
        }
      ]
    },
    {
      "cell_type": "code",
      "metadata": {
        "id": "4F0cXWQmXh6W",
        "colab_type": "code",
        "colab": {},
        "outputId": "8f053e31-7c1d-492f-aa51-a8b3b499971a"
      },
      "source": [
        "# Visualizando o conteúdo de copia\n",
        "copia"
      ],
      "execution_count": null,
      "outputs": [
        {
          "output_type": "execute_result",
          "data": {
            "text/plain": [
              "[23, 18, 41, 15, 10, 2, 18, 0, 5, 17]"
            ]
          },
          "metadata": {
            "tags": []
          },
          "execution_count": 62
        }
      ]
    },
    {
      "cell_type": "code",
      "metadata": {
        "id": "SoWv-EhXXh6X",
        "colab_type": "code",
        "colab": {}
      },
      "source": [
        "# Alterando o elemento do índice 0 de 23 para 5\n",
        "copia[0] = 5"
      ],
      "execution_count": null,
      "outputs": []
    },
    {
      "cell_type": "code",
      "metadata": {
        "id": "98bZFz9jXh6Y",
        "colab_type": "code",
        "colab": {},
        "outputId": "338e702e-dd42-4525-aad2-15673bda472c"
      },
      "source": [
        "# Visualizando o conteúdo de lista\n",
        "lista"
      ],
      "execution_count": null,
      "outputs": [
        {
          "output_type": "execute_result",
          "data": {
            "text/plain": [
              "[23, 18, 41, 15, 10, 2, 18, 0, 5, 17]"
            ]
          },
          "metadata": {
            "tags": []
          },
          "execution_count": 64
        }
      ]
    },
    {
      "cell_type": "code",
      "metadata": {
        "id": "B-BPBhtrXh6Z",
        "colab_type": "code",
        "colab": {},
        "outputId": "897fe53f-782b-4a3c-a5e2-7e146062d236"
      },
      "source": [
        "# Visualizando o conteúdo de lista - Agora sim, apenas o índice 0 de copia foi alterado\n",
        "copia"
      ],
      "execution_count": null,
      "outputs": [
        {
          "output_type": "execute_result",
          "data": {
            "text/plain": [
              "[5, 18, 41, 15, 10, 2, 18, 0, 5, 17]"
            ]
          },
          "metadata": {
            "tags": []
          },
          "execution_count": 65
        }
      ]
    },
    {
      "cell_type": "markdown",
      "metadata": {
        "id": "1zUylxmWXh6a",
        "colab_type": "text"
      },
      "source": [
        "#### 4.4 - count()"
      ]
    },
    {
      "cell_type": "code",
      "metadata": {
        "id": "x8VjAMGlXh6a",
        "colab_type": "code",
        "colab": {},
        "outputId": "0830df10-7189-45ef-ec99-e9c6b5aeeb12"
      },
      "source": [
        "# Verificando quantas vezes o número 5 aparece em copia\n",
        "copia.count(5)"
      ],
      "execution_count": null,
      "outputs": [
        {
          "output_type": "execute_result",
          "data": {
            "text/plain": [
              "2"
            ]
          },
          "metadata": {
            "tags": []
          },
          "execution_count": 66
        }
      ]
    },
    {
      "cell_type": "markdown",
      "metadata": {
        "id": "TyMyC2lMXh6b",
        "colab_type": "text"
      },
      "source": [
        "#### 4.5 - extend()"
      ]
    },
    {
      "cell_type": "code",
      "metadata": {
        "id": "c4X_bkx_Xh6b",
        "colab_type": "code",
        "colab": {}
      },
      "source": [
        "# Suponha que temos uma lista chamada numeros que contém os elementos [1, 2, 3]\n",
        "numeros = [1, 2, 3]"
      ],
      "execution_count": null,
      "outputs": []
    },
    {
      "cell_type": "code",
      "metadata": {
        "id": "d0rfom3ZXh6c",
        "colab_type": "code",
        "colab": {}
      },
      "source": [
        "# Queremos adicionar o elementos [4, 5] à lista números e usamos o método append()\n",
        "numeros.append([4,5])"
      ],
      "execution_count": null,
      "outputs": []
    },
    {
      "cell_type": "code",
      "metadata": {
        "id": "ltdYDqfIXh6c",
        "colab_type": "code",
        "colab": {},
        "outputId": "3bae6f58-40b2-442d-c8cf-f54162e6acc7"
      },
      "source": [
        "# Ao invés de adicionarmos os elementos 4 e 5, adicionar uma lista contendo os elementos [4, 5]\n",
        "numeros"
      ],
      "execution_count": null,
      "outputs": [
        {
          "output_type": "execute_result",
          "data": {
            "text/plain": [
              "[1, 2, 3, [4, 5]]"
            ]
          },
          "metadata": {
            "tags": []
          },
          "execution_count": 69
        }
      ]
    },
    {
      "cell_type": "code",
      "metadata": {
        "id": "WWiz8vX1Xh6d",
        "colab_type": "code",
        "colab": {},
        "outputId": "592e97be-c902-4fed-9d76-623714419217"
      },
      "source": [
        "# A maneira correta de adicionar novos elementos de uma lista, a partir de outra lista, é através do método extend()\n",
        "numeros = [1, 2, 3]\n",
        "numeros.extend([4,5])\n",
        "numeros"
      ],
      "execution_count": null,
      "outputs": [
        {
          "output_type": "execute_result",
          "data": {
            "text/plain": [
              "[1, 2, 3, 4, 5]"
            ]
          },
          "metadata": {
            "tags": []
          },
          "execution_count": 70
        }
      ]
    },
    {
      "cell_type": "markdown",
      "metadata": {
        "id": "voGl8G9fXh6e",
        "colab_type": "text"
      },
      "source": [
        "#### 4.6 - index()"
      ]
    },
    {
      "cell_type": "code",
      "metadata": {
        "id": "7-QoZYc0Xh6e",
        "colab_type": "code",
        "colab": {}
      },
      "source": [
        "# Redefinindo os elementos da lista\n",
        "lista = [1, 3, 7, 2, 3, 8, 4]"
      ],
      "execution_count": null,
      "outputs": []
    },
    {
      "cell_type": "code",
      "metadata": {
        "id": "cfiuUZl6Xh6f",
        "colab_type": "code",
        "colab": {},
        "outputId": "d2f211eb-de1d-42b2-d579-e147cc7fe21f"
      },
      "source": [
        "# O método index nos permite saber em que posição determinado elemento está armazenado\n",
        "lista.index(7)"
      ],
      "execution_count": null,
      "outputs": [
        {
          "output_type": "execute_result",
          "data": {
            "text/plain": [
              "2"
            ]
          },
          "metadata": {
            "tags": []
          },
          "execution_count": 72
        }
      ]
    },
    {
      "cell_type": "code",
      "metadata": {
        "id": "INQKWy7PXh6g",
        "colab_type": "code",
        "colab": {}
      },
      "source": [
        "# Podemos guardar esse valor em uma variável\n",
        "posicao8 = lista.index(8)"
      ],
      "execution_count": null,
      "outputs": []
    },
    {
      "cell_type": "code",
      "metadata": {
        "id": "GQ0gAno5Xh6h",
        "colab_type": "code",
        "colab": {},
        "outputId": "cd8497fe-9af0-4802-e7d0-cf91af10f147"
      },
      "source": [
        "posicao8"
      ],
      "execution_count": null,
      "outputs": [
        {
          "output_type": "execute_result",
          "data": {
            "text/plain": [
              "5"
            ]
          },
          "metadata": {
            "tags": []
          },
          "execution_count": 74
        }
      ]
    },
    {
      "cell_type": "code",
      "metadata": {
        "id": "CA461gkUXh6i",
        "colab_type": "code",
        "colab": {}
      },
      "source": [
        "# O método index() retorna a posição da primeira ocorrência do elemento procurado. \n",
        "posicao3 = lista.index(3)"
      ],
      "execution_count": null,
      "outputs": []
    },
    {
      "cell_type": "code",
      "metadata": {
        "id": "Jos6IiCeXh6j",
        "colab_type": "code",
        "colab": {},
        "outputId": "ffa10db7-3d72-4683-8f12-131a23987eba"
      },
      "source": [
        "posicao3"
      ],
      "execution_count": null,
      "outputs": [
        {
          "output_type": "execute_result",
          "data": {
            "text/plain": [
              "1"
            ]
          },
          "metadata": {
            "tags": []
          },
          "execution_count": 76
        }
      ]
    },
    {
      "cell_type": "code",
      "metadata": {
        "id": "5osegRBvXh6j",
        "colab_type": "code",
        "colab": {},
        "outputId": "b3591ffd-dadb-458e-e54f-5558b54b56ac"
      },
      "source": [
        "# Caso o elemento não exista, ocorre um erro\n",
        "lista.index(19)"
      ],
      "execution_count": null,
      "outputs": [
        {
          "output_type": "error",
          "ename": "ValueError",
          "evalue": "19 is not in list",
          "traceback": [
            "\u001b[0;31m---------------------------------------------------------------------------\u001b[0m",
            "\u001b[0;31mValueError\u001b[0m                                Traceback (most recent call last)",
            "\u001b[0;32m<ipython-input-77-74495dc8a4ff>\u001b[0m in \u001b[0;36m<module>\u001b[0;34m\u001b[0m\n\u001b[1;32m      1\u001b[0m \u001b[0;31m# Caso o elemento não exista, ocorre um erro\u001b[0m\u001b[0;34m\u001b[0m\u001b[0;34m\u001b[0m\u001b[0;34m\u001b[0m\u001b[0m\n\u001b[0;32m----> 2\u001b[0;31m \u001b[0mlista\u001b[0m\u001b[0;34m.\u001b[0m\u001b[0mindex\u001b[0m\u001b[0;34m(\u001b[0m\u001b[0;36m19\u001b[0m\u001b[0;34m)\u001b[0m\u001b[0;34m\u001b[0m\u001b[0;34m\u001b[0m\u001b[0m\n\u001b[0m",
            "\u001b[0;31mValueError\u001b[0m: 19 is not in list"
          ]
        }
      ]
    },
    {
      "cell_type": "markdown",
      "metadata": {
        "id": "zPoqd_rpXh6k",
        "colab_type": "text"
      },
      "source": [
        "#### 4.7 - insert()"
      ]
    },
    {
      "cell_type": "code",
      "metadata": {
        "id": "zGRT9U5LXh6l",
        "colab_type": "code",
        "colab": {},
        "outputId": "a5ef0618-4b1f-45e7-c292-8e5eb206f9c9"
      },
      "source": [
        "# O método insert() permite adicionar um elemento em qualquer posição da lista. \n",
        "# Caso a posição não exista, ele insere o elemento desejado na última posição\n",
        "lista.insert(2, \"ABC\")\n",
        "lista"
      ],
      "execution_count": null,
      "outputs": [
        {
          "output_type": "execute_result",
          "data": {
            "text/plain": [
              "[1, 3, 'ABC', 7, 2, 3, 8, 4]"
            ]
          },
          "metadata": {
            "tags": []
          },
          "execution_count": 78
        }
      ]
    },
    {
      "cell_type": "code",
      "metadata": {
        "id": "YUVKtlPbXh6m",
        "colab_type": "code",
        "colab": {},
        "outputId": "7c367852-6e97-4ccd-98f9-5739f068f87f"
      },
      "source": [
        "lista.insert(100, \"XYZ\")\n",
        "lista"
      ],
      "execution_count": null,
      "outputs": [
        {
          "output_type": "execute_result",
          "data": {
            "text/plain": [
              "[1, 3, 'ABC', 7, 2, 3, 8, 4, 'XYZ']"
            ]
          },
          "metadata": {
            "tags": []
          },
          "execution_count": 79
        }
      ]
    },
    {
      "cell_type": "markdown",
      "metadata": {
        "id": "vDseVJBvXh6n",
        "colab_type": "text"
      },
      "source": [
        "#### 4.8 - pop()"
      ]
    },
    {
      "cell_type": "code",
      "metadata": {
        "id": "vtQcrwTMXh6n",
        "colab_type": "code",
        "colab": {},
        "outputId": "8ba76c19-9d3b-43dd-f468-e55522ae238a"
      },
      "source": [
        "# Utilizamos o método pop() quando desejamos apagar uma posição da lista\n",
        "# Removendo o elemento no índice 2\n",
        "valor = lista.pop(2)\n",
        "# Visualizando o valor retornado\n",
        "valor"
      ],
      "execution_count": null,
      "outputs": [
        {
          "output_type": "execute_result",
          "data": {
            "text/plain": [
              "'ABC'"
            ]
          },
          "metadata": {
            "tags": []
          },
          "execution_count": 80
        }
      ]
    },
    {
      "cell_type": "code",
      "metadata": {
        "id": "2frR7bsCXh6o",
        "colab_type": "code",
        "colab": {},
        "outputId": "1cb15f7e-e60a-4742-af96-a559c220bb30"
      },
      "source": [
        "# Visualizando a lista após a remoção \n",
        "lista"
      ],
      "execution_count": null,
      "outputs": [
        {
          "output_type": "execute_result",
          "data": {
            "text/plain": [
              "[1, 3, 7, 2, 3, 8, 4, 'XYZ']"
            ]
          },
          "metadata": {
            "tags": []
          },
          "execution_count": 81
        }
      ]
    },
    {
      "cell_type": "code",
      "metadata": {
        "id": "_J7hvNKRXh6p",
        "colab_type": "code",
        "colab": {},
        "outputId": "4742bb9f-0d6e-4479-d146-ec5188975601"
      },
      "source": [
        "# Removendo o elemento da última posição\n",
        "lista.pop(-1)\n",
        "# Visualizando a lista após a remoção \n",
        "lista"
      ],
      "execution_count": null,
      "outputs": [
        {
          "output_type": "execute_result",
          "data": {
            "text/plain": [
              "[1, 3, 7, 2, 3, 8, 4]"
            ]
          },
          "metadata": {
            "tags": []
          },
          "execution_count": 82
        }
      ]
    },
    {
      "cell_type": "code",
      "metadata": {
        "id": "AbwXk3exXh6q",
        "colab_type": "code",
        "colab": {},
        "outputId": "94a9c98c-082a-4b8c-e03a-6d47cd0a9c11"
      },
      "source": [
        "# O método pop() provoca um erro caso a posição não exista\n",
        "lista.pop(45)"
      ],
      "execution_count": null,
      "outputs": [
        {
          "output_type": "error",
          "ename": "IndexError",
          "evalue": "pop index out of range",
          "traceback": [
            "\u001b[0;31m---------------------------------------------------------------------------\u001b[0m",
            "\u001b[0;31mIndexError\u001b[0m                                Traceback (most recent call last)",
            "\u001b[0;32m<ipython-input-83-09636612bf93>\u001b[0m in \u001b[0;36m<module>\u001b[0;34m\u001b[0m\n\u001b[1;32m      1\u001b[0m \u001b[0;31m# O método pop() provoca um erro caso a posição não exista\u001b[0m\u001b[0;34m\u001b[0m\u001b[0;34m\u001b[0m\u001b[0;34m\u001b[0m\u001b[0m\n\u001b[0;32m----> 2\u001b[0;31m \u001b[0mlista\u001b[0m\u001b[0;34m.\u001b[0m\u001b[0mpop\u001b[0m\u001b[0;34m(\u001b[0m\u001b[0;36m45\u001b[0m\u001b[0;34m)\u001b[0m\u001b[0;34m\u001b[0m\u001b[0;34m\u001b[0m\u001b[0m\n\u001b[0m",
            "\u001b[0;31mIndexError\u001b[0m: pop index out of range"
          ]
        }
      ]
    },
    {
      "cell_type": "markdown",
      "metadata": {
        "id": "D_ItEhvPXh6q",
        "colab_type": "text"
      },
      "source": [
        "#### 4.9 - remove()"
      ]
    },
    {
      "cell_type": "code",
      "metadata": {
        "id": "bcc1xEpwXh6r",
        "colab_type": "code",
        "colab": {},
        "outputId": "a82837a1-8e28-4408-aad3-0a63c9b04613"
      },
      "source": [
        "# Utilizamos o método remove() quando desejamos apagar um elemento específico da lista\n",
        "# Visualizando lista_strings antes da remoção\n",
        "lista_strings"
      ],
      "execution_count": null,
      "outputs": [
        {
          "output_type": "execute_result",
          "data": {
            "text/plain": [
              "['Rodrigo', 'Python', 'Data Science', 'Ciência de Dados e Big Data']"
            ]
          },
          "metadata": {
            "tags": []
          },
          "execution_count": 84
        }
      ]
    },
    {
      "cell_type": "code",
      "metadata": {
        "id": "KUF7xZbGXh6s",
        "colab_type": "code",
        "colab": {}
      },
      "source": [
        "# Removendo \"Rodrigo\"\n",
        "lista_strings.remove(\"Rodrigo\")"
      ],
      "execution_count": null,
      "outputs": []
    },
    {
      "cell_type": "code",
      "metadata": {
        "id": "aCfY4dNfXh6t",
        "colab_type": "code",
        "colab": {},
        "outputId": "f3531695-9a0f-4dee-a517-1f40f8e22f12"
      },
      "source": [
        "# Visualizando lista_strings após a remoção\n",
        "lista_strings"
      ],
      "execution_count": null,
      "outputs": [
        {
          "output_type": "execute_result",
          "data": {
            "text/plain": [
              "['Python', 'Data Science', 'Ciência de Dados e Big Data']"
            ]
          },
          "metadata": {
            "tags": []
          },
          "execution_count": 86
        }
      ]
    },
    {
      "cell_type": "code",
      "metadata": {
        "id": "ZLd7jd4AXh6u",
        "colab_type": "code",
        "colab": {},
        "outputId": "e7a835ef-bfdd-41d3-a04c-2f77dcdccf12"
      },
      "source": [
        "# O método remove() provoca um erro caso o elemento não exista\n",
        "lista_strings.remove(\"Java\")"
      ],
      "execution_count": null,
      "outputs": [
        {
          "output_type": "error",
          "ename": "ValueError",
          "evalue": "list.remove(x): x not in list",
          "traceback": [
            "\u001b[0;31m---------------------------------------------------------------------------\u001b[0m",
            "\u001b[0;31mValueError\u001b[0m                                Traceback (most recent call last)",
            "\u001b[0;32m<ipython-input-87-b982b4330746>\u001b[0m in \u001b[0;36m<module>\u001b[0;34m\u001b[0m\n\u001b[1;32m      1\u001b[0m \u001b[0;31m# O método remove() provoca um erro caso o elemento não exista\u001b[0m\u001b[0;34m\u001b[0m\u001b[0;34m\u001b[0m\u001b[0;34m\u001b[0m\u001b[0m\n\u001b[0;32m----> 2\u001b[0;31m \u001b[0mlista_strings\u001b[0m\u001b[0;34m.\u001b[0m\u001b[0mremove\u001b[0m\u001b[0;34m(\u001b[0m\u001b[0;34m\"Java\"\u001b[0m\u001b[0;34m)\u001b[0m\u001b[0;34m\u001b[0m\u001b[0;34m\u001b[0m\u001b[0m\n\u001b[0m",
            "\u001b[0;31mValueError\u001b[0m: list.remove(x): x not in list"
          ]
        }
      ]
    },
    {
      "cell_type": "markdown",
      "metadata": {
        "id": "6PBl0POHXh6v",
        "colab_type": "text"
      },
      "source": [
        "#### 4.10 - reverse()"
      ]
    },
    {
      "cell_type": "code",
      "metadata": {
        "id": "U0-mpPUHXh6v",
        "colab_type": "code",
        "colab": {},
        "outputId": "499023a8-49e3-438c-a7c9-1fd597a2c5c4"
      },
      "source": [
        "# Redefinindo os elementos de lista\n",
        "lista = [1, 2, 3, 4, 5, 6]\n",
        "# Visualizando a lista antes da chamada ao método reverse()\n",
        "lista"
      ],
      "execution_count": null,
      "outputs": [
        {
          "output_type": "execute_result",
          "data": {
            "text/plain": [
              "[1, 2, 3, 4, 5, 6]"
            ]
          },
          "metadata": {
            "tags": []
          },
          "execution_count": 88
        }
      ]
    },
    {
      "cell_type": "code",
      "metadata": {
        "id": "MnEeeFWOXh6w",
        "colab_type": "code",
        "colab": {}
      },
      "source": [
        "# Invertendo os elementos da lista\n",
        "lista.reverse()"
      ],
      "execution_count": null,
      "outputs": []
    },
    {
      "cell_type": "code",
      "metadata": {
        "id": "1XF2Srq6Xh6w",
        "colab_type": "code",
        "colab": {},
        "outputId": "38690aef-dd7d-4d34-caec-9a1cbb87cb9c"
      },
      "source": [
        "# Visualizando a lista após chamada ao método reverse()\n",
        "lista"
      ],
      "execution_count": null,
      "outputs": [
        {
          "output_type": "execute_result",
          "data": {
            "text/plain": [
              "[6, 5, 4, 3, 2, 1]"
            ]
          },
          "metadata": {
            "tags": []
          },
          "execution_count": 90
        }
      ]
    },
    {
      "cell_type": "markdown",
      "metadata": {
        "id": "7CpLvPQyXh6x",
        "colab_type": "text"
      },
      "source": [
        "#### 4.11 - sort()"
      ]
    },
    {
      "cell_type": "code",
      "metadata": {
        "id": "jeKzjZEGXh6x",
        "colab_type": "code",
        "colab": {},
        "outputId": "6a16e527-697e-4500-c900-cff73458e79d"
      },
      "source": [
        "# Redefinindo os elementos de lista\n",
        "lista = [6, 3, 1, 4, 2, 5]\n",
        "# Visualizando a lista antes da chamada ao método sort()\n",
        "lista"
      ],
      "execution_count": null,
      "outputs": [
        {
          "output_type": "execute_result",
          "data": {
            "text/plain": [
              "[6, 3, 1, 4, 2, 5]"
            ]
          },
          "metadata": {
            "tags": []
          },
          "execution_count": 91
        }
      ]
    },
    {
      "cell_type": "code",
      "metadata": {
        "id": "CVlx6vJFXh6y",
        "colab_type": "code",
        "colab": {}
      },
      "source": [
        "# Ordenando os elementos em ordem crescente\n",
        "lista.sort()"
      ],
      "execution_count": null,
      "outputs": []
    },
    {
      "cell_type": "code",
      "metadata": {
        "id": "6J-ex8XpXh6z",
        "colab_type": "code",
        "colab": {},
        "outputId": "e11ce602-f2f5-4b4d-ffde-c5a8e40da584"
      },
      "source": [
        "# Visualizando a lista após chamada ao método sort()\n",
        "lista"
      ],
      "execution_count": null,
      "outputs": [
        {
          "output_type": "execute_result",
          "data": {
            "text/plain": [
              "[1, 2, 3, 4, 5, 6]"
            ]
          },
          "metadata": {
            "tags": []
          },
          "execution_count": 93
        }
      ]
    },
    {
      "cell_type": "code",
      "metadata": {
        "id": "9PboPyucXh60",
        "colab_type": "code",
        "colab": {},
        "outputId": "a53e4aa1-5eed-44de-a6d5-a916e6d221d3"
      },
      "source": [
        "# Redefinindo os elementos de lista\n",
        "lista = [6, 3, 1, 4, 2, 5]\n",
        "# Visualizando a lista antes da chamada ao método sort()\n",
        "lista"
      ],
      "execution_count": null,
      "outputs": [
        {
          "output_type": "execute_result",
          "data": {
            "text/plain": [
              "[6, 3, 1, 4, 2, 5]"
            ]
          },
          "metadata": {
            "tags": []
          },
          "execution_count": 94
        }
      ]
    },
    {
      "cell_type": "code",
      "metadata": {
        "id": "-y1bEx76Xh61",
        "colab_type": "code",
        "colab": {}
      },
      "source": [
        "# Ordenando os elementos em ordem decrescente\n",
        "lista.sort(reverse=True)"
      ],
      "execution_count": null,
      "outputs": []
    },
    {
      "cell_type": "code",
      "metadata": {
        "id": "Eg4SniRlXh62",
        "colab_type": "code",
        "colab": {},
        "outputId": "435e02e0-aba4-4ac9-e212-a8fe604b4895"
      },
      "source": [
        "# Visualizando a lista após chamada ao método sort()\n",
        "lista"
      ],
      "execution_count": null,
      "outputs": [
        {
          "output_type": "execute_result",
          "data": {
            "text/plain": [
              "[6, 5, 4, 3, 2, 1]"
            ]
          },
          "metadata": {
            "tags": []
          },
          "execution_count": 96
        }
      ]
    },
    {
      "cell_type": "code",
      "metadata": {
        "id": "FXLJu13cXh63",
        "colab_type": "code",
        "colab": {},
        "outputId": "f8e164b1-6c52-4d22-d9c8-0bdbb0a1abd9"
      },
      "source": [
        "# Ordenando lista de caracteres\n",
        "lista_letras = [\"Q\", \"W\", \"E\", \"R\", \"T\", \"Y\", \"A\", \"S\", \"D\"]\n",
        "lista_letras.sort()\n",
        "lista_letras"
      ],
      "execution_count": null,
      "outputs": [
        {
          "output_type": "execute_result",
          "data": {
            "text/plain": [
              "['A', 'D', 'E', 'Q', 'R', 'S', 'T', 'W', 'Y']"
            ]
          },
          "metadata": {
            "tags": []
          },
          "execution_count": 97
        }
      ]
    },
    {
      "cell_type": "code",
      "metadata": {
        "id": "7fHAL-IPXh63",
        "colab_type": "code",
        "colab": {},
        "outputId": "d5a758b4-45d3-4202-81d0-d1e7219f54f5"
      },
      "source": [
        "# Ordenando lista de strings\n",
        "lista_strings = [\"GHI\", \"XYZ\", \"DEF\", \"ABC\", \"KLM\"]\n",
        "lista_strings.sort()\n",
        "lista_strings"
      ],
      "execution_count": null,
      "outputs": [
        {
          "output_type": "execute_result",
          "data": {
            "text/plain": [
              "['ABC', 'DEF', 'GHI', 'KLM', 'XYZ']"
            ]
          },
          "metadata": {
            "tags": []
          },
          "execution_count": 100
        }
      ]
    },
    {
      "cell_type": "code",
      "metadata": {
        "id": "kCu8WO3MXh64",
        "colab_type": "code",
        "colab": {},
        "outputId": "6152345c-e70b-4ba2-97c4-9531f5e39c63"
      },
      "source": [
        "# Não é possível ordenar uma lista com elementos de diferentes tipos\n",
        "lista_misturada = [2, \"ABC\", 3.14]\n",
        "lista_misturada.sort()\n",
        "lista_misturada"
      ],
      "execution_count": null,
      "outputs": [
        {
          "output_type": "error",
          "ename": "TypeError",
          "evalue": "'<' not supported between instances of 'str' and 'int'",
          "traceback": [
            "\u001b[0;31m---------------------------------------------------------------------------\u001b[0m",
            "\u001b[0;31mTypeError\u001b[0m                                 Traceback (most recent call last)",
            "\u001b[0;32m<ipython-input-101-c4f4a7adef59>\u001b[0m in \u001b[0;36m<module>\u001b[0;34m\u001b[0m\n\u001b[1;32m      1\u001b[0m \u001b[0;31m# Não é possível ordenar uma lista com elementos de diferentes tipos\u001b[0m\u001b[0;34m\u001b[0m\u001b[0;34m\u001b[0m\u001b[0;34m\u001b[0m\u001b[0m\n\u001b[1;32m      2\u001b[0m \u001b[0mlista_misturada\u001b[0m \u001b[0;34m=\u001b[0m \u001b[0;34m[\u001b[0m\u001b[0;36m2\u001b[0m\u001b[0;34m,\u001b[0m \u001b[0;34m\"ABC\"\u001b[0m\u001b[0;34m,\u001b[0m \u001b[0;36m3.14\u001b[0m\u001b[0;34m]\u001b[0m\u001b[0;34m\u001b[0m\u001b[0;34m\u001b[0m\u001b[0m\n\u001b[0;32m----> 3\u001b[0;31m \u001b[0mlista_misturada\u001b[0m\u001b[0;34m.\u001b[0m\u001b[0msort\u001b[0m\u001b[0;34m(\u001b[0m\u001b[0;34m)\u001b[0m\u001b[0;34m\u001b[0m\u001b[0;34m\u001b[0m\u001b[0m\n\u001b[0m\u001b[1;32m      4\u001b[0m \u001b[0mlista_misturada\u001b[0m\u001b[0;34m\u001b[0m\u001b[0;34m\u001b[0m\u001b[0m\n",
            "\u001b[0;31mTypeError\u001b[0m: '<' not supported between instances of 'str' and 'int'"
          ]
        }
      ]
    },
    {
      "cell_type": "markdown",
      "metadata": {
        "id": "w6NPJsLkXh65",
        "colab_type": "text"
      },
      "source": [
        "### 5. Funções aplicáveis a uma lista\n",
        "\n",
        "Função | Descrição | Exemplo\n",
        ":----- | :-------- | :------\n",
        "len | Retorna a quantidade de elementos de uma lista | `print(len(lista))`\n",
        "max  | Retorna o maior elemento de uma lista | `maior = max(lista)`\n",
        "min | Retorna o menor elemento de uma lista | `menor = min(lista)`\n",
        "sum | Retorna o somatório dos elementos de uma lista | `soma = sum(lista)`"
      ]
    },
    {
      "cell_type": "code",
      "metadata": {
        "id": "kiPCeNoVXh65",
        "colab_type": "code",
        "colab": {}
      },
      "source": [
        "# Redefinindo os elementos de lista e lista_letras\n",
        "lista = [8, 3, 21, 14, 2, 45]\n",
        "lista_letras = [\"Q\", \"W\", \"E\", \"R\", \"T\", \"Y\", \"A\", \"S\", \"D\"]"
      ],
      "execution_count": null,
      "outputs": []
    },
    {
      "cell_type": "code",
      "metadata": {
        "id": "rMZyQzeSXh66",
        "colab_type": "code",
        "colab": {},
        "outputId": "c1113a9a-ba35-4c3c-c7ec-81fff331fd5f"
      },
      "source": [
        "# A função len() retorna a quantidade de elementos de uma lista\n",
        "len(lista)"
      ],
      "execution_count": null,
      "outputs": [
        {
          "output_type": "execute_result",
          "data": {
            "text/plain": [
              "6"
            ]
          },
          "metadata": {
            "tags": []
          },
          "execution_count": 103
        }
      ]
    },
    {
      "cell_type": "code",
      "metadata": {
        "id": "C8zGPAaLXh67",
        "colab_type": "code",
        "colab": {},
        "outputId": "e39f542c-251a-4830-87e8-2a73017ac212"
      },
      "source": [
        "# A função max() retorna o maior elemento de uma lista\n",
        "max(lista)"
      ],
      "execution_count": null,
      "outputs": [
        {
          "output_type": "execute_result",
          "data": {
            "text/plain": [
              "45"
            ]
          },
          "metadata": {
            "tags": []
          },
          "execution_count": 104
        }
      ]
    },
    {
      "cell_type": "code",
      "metadata": {
        "id": "CPikzMzWXh68",
        "colab_type": "code",
        "colab": {},
        "outputId": "7a793f85-59ab-4c38-8d30-ce7d668a6a3f"
      },
      "source": [
        "max(lista_letras)"
      ],
      "execution_count": null,
      "outputs": [
        {
          "output_type": "execute_result",
          "data": {
            "text/plain": [
              "'Y'"
            ]
          },
          "metadata": {
            "tags": []
          },
          "execution_count": 105
        }
      ]
    },
    {
      "cell_type": "code",
      "metadata": {
        "id": "EVnLytMlXh69",
        "colab_type": "code",
        "colab": {},
        "outputId": "19b82997-f610-4260-f721-884145717b53"
      },
      "source": [
        "# A função min() retorna o menor elemento de uma lista\n",
        "min(lista)"
      ],
      "execution_count": null,
      "outputs": [
        {
          "output_type": "execute_result",
          "data": {
            "text/plain": [
              "2"
            ]
          },
          "metadata": {
            "tags": []
          },
          "execution_count": 106
        }
      ]
    },
    {
      "cell_type": "code",
      "metadata": {
        "id": "bstNkUAvXh6-",
        "colab_type": "code",
        "colab": {},
        "outputId": "7a5aae00-9c26-417f-8038-208276e655bc"
      },
      "source": [
        "min(lista_letras)"
      ],
      "execution_count": null,
      "outputs": [
        {
          "output_type": "execute_result",
          "data": {
            "text/plain": [
              "'A'"
            ]
          },
          "metadata": {
            "tags": []
          },
          "execution_count": 107
        }
      ]
    },
    {
      "cell_type": "code",
      "metadata": {
        "id": "X99hq8QgXh6_",
        "colab_type": "code",
        "colab": {},
        "outputId": "c1e4e057-4765-40b1-ee83-e54e07fce8d5"
      },
      "source": [
        "# A função sum() retorna a soma dos elementos de uma lista numérica\n",
        "sum(lista)"
      ],
      "execution_count": null,
      "outputs": [
        {
          "output_type": "execute_result",
          "data": {
            "text/plain": [
              "93"
            ]
          },
          "metadata": {
            "tags": []
          },
          "execution_count": 108
        }
      ]
    },
    {
      "cell_type": "code",
      "metadata": {
        "id": "FeIKgib3Xh7A",
        "colab_type": "code",
        "colab": {}
      },
      "source": [
        ""
      ],
      "execution_count": null,
      "outputs": []
    }
  ]
}