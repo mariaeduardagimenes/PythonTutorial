{
  "nbformat": 4,
  "nbformat_minor": 0,
  "metadata": {
    "kernelspec": {
      "display_name": "Python 3",
      "language": "python",
      "name": "python3"
    },
    "language_info": {
      "codemirror_mode": {
        "name": "ipython",
        "version": 3
      },
      "file_extension": ".py",
      "mimetype": "text/x-python",
      "name": "python",
      "nbconvert_exporter": "python",
      "pygments_lexer": "ipython3",
      "version": "3.8.5"
    },
    "colab": {
      "name": "Tutorial_Python_Tuplas.ipynb",
      "provenance": [],
      "include_colab_link": true
    }
  },
  "cells": [
    {
      "cell_type": "markdown",
      "metadata": {
        "id": "view-in-github",
        "colab_type": "text"
      },
      "source": [
        "<a href=\"https://colab.research.google.com/github/mariaeduardagimenes/PythonTutorial/blob/master/Tutorial_Python_Tuplas.ipynb\" target=\"_parent\"><img src=\"https://colab.research.google.com/assets/colab-badge.svg\" alt=\"Open In Colab\"/></a>"
      ]
    },
    {
      "cell_type": "markdown",
      "metadata": {
        "id": "KRYMeoI2X83n",
        "colab_type": "text"
      },
      "source": [
        "# Tuplas\n",
        "\n",
        "* Assim com uma lista, uma tupla também é uma coleção de elementos. A diferença entre elas, é que a tupla é imutável. Ou seja, uma vez definidos os seus elementos, a tupla não pode mais ser alterada\n",
        "* Cada elemento possui uma posição dentro de uma lista. Essa posição é chamada índice\n",
        "* O primeiro elemento fica armazenado na posição *0*, enquanto o último elemento fica armazenado na posição *n-1* (onde *n* é a quantidade de elementos da lista)\n",
        "\n",
        "O que veremos nessa aula:\n",
        "\n",
        "1. Como criar uma tupla\n",
        "2. Como acessar elementos de uma tupla\n",
        "3. A imutabilidade de uma tupla\n",
        "4. Principais métodos de um objeto tupla\n",
        "5. Funções aplicáveis a uma tupla\n",
        "6. Convertendo uma tupla em lista"
      ]
    },
    {
      "cell_type": "markdown",
      "metadata": {
        "id": "704KztRRX83o",
        "colab_type": "text"
      },
      "source": [
        "### 1. Como criar uma tupla"
      ]
    },
    {
      "cell_type": "code",
      "metadata": {
        "id": "zApekmwWX83p",
        "colab_type": "code",
        "colab": {}
      },
      "source": [
        "# Criando tuplas vazias\n",
        "tupla_vazia = ()\n",
        "tupla_vazia2 = tuple()"
      ],
      "execution_count": null,
      "outputs": []
    },
    {
      "cell_type": "code",
      "metadata": {
        "id": "oJnPGVecX83w",
        "colab_type": "code",
        "colab": {},
        "outputId": "2eda0c1e-da4f-475b-e876-0e7b7b939a0a"
      },
      "source": [
        "# Verificando o tipo de tupla_vazia\n",
        "type(tupla_vazia)"
      ],
      "execution_count": null,
      "outputs": [
        {
          "output_type": "execute_result",
          "data": {
            "text/plain": [
              "tuple"
            ]
          },
          "metadata": {
            "tags": []
          },
          "execution_count": 4
        }
      ]
    },
    {
      "cell_type": "code",
      "metadata": {
        "id": "3uFsmWlhX831",
        "colab_type": "code",
        "colab": {},
        "outputId": "9d20345f-88b6-4510-9118-cc518a07f15e"
      },
      "source": [
        "# Verificando se tupla_vazia2 é uma instância de tuple\n",
        "isinstance(tupla_vazia2, tuple)"
      ],
      "execution_count": null,
      "outputs": [
        {
          "output_type": "execute_result",
          "data": {
            "text/plain": [
              "True"
            ]
          },
          "metadata": {
            "tags": []
          },
          "execution_count": 5
        }
      ]
    },
    {
      "cell_type": "code",
      "metadata": {
        "id": "RaACV7SgX835",
        "colab_type": "code",
        "colab": {},
        "outputId": "df425ac1-474a-4c89-fd47-a01e91925f7b"
      },
      "source": [
        "len(tupla_vazia)"
      ],
      "execution_count": null,
      "outputs": [
        {
          "output_type": "execute_result",
          "data": {
            "text/plain": [
              "0"
            ]
          },
          "metadata": {
            "tags": []
          },
          "execution_count": 6
        }
      ]
    },
    {
      "cell_type": "code",
      "metadata": {
        "id": "7dm7pz1JX838",
        "colab_type": "code",
        "colab": {}
      },
      "source": [
        "# Criando tuplas com elementos\n",
        "tupla1 = (3, 19, 4, 21, 3, 5, 13)\n",
        "tupla2 = (3, 19, 4, 21, 3, 5, 13, \"tupla\", (1, 2, 3))\n",
        "tupla3 = (3, 19, 4, 21, 3, 5, 13, \"tupla\", [1, 2, 3])"
      ],
      "execution_count": null,
      "outputs": []
    },
    {
      "cell_type": "code",
      "metadata": {
        "id": "rTHq_i2TX83-",
        "colab_type": "code",
        "colab": {},
        "outputId": "c2fc6473-d769-473b-efb1-326381decf2d"
      },
      "source": [
        "# Visualizando os elementos de tupla1\n",
        "tupla1"
      ],
      "execution_count": null,
      "outputs": [
        {
          "output_type": "execute_result",
          "data": {
            "text/plain": [
              "(3, 19, 4, 21, 3, 5, 13)"
            ]
          },
          "metadata": {
            "tags": []
          },
          "execution_count": 8
        }
      ]
    },
    {
      "cell_type": "code",
      "metadata": {
        "id": "CNo11hv1X84A",
        "colab_type": "code",
        "colab": {},
        "outputId": "8e98f578-ec21-40ee-ce16-461b12a17a7f"
      },
      "source": [
        "# Visualizando os elementos de tupla2\n",
        "tupla2"
      ],
      "execution_count": null,
      "outputs": [
        {
          "output_type": "execute_result",
          "data": {
            "text/plain": [
              "(3, 19, 4, 21, 3, 5, 13, 'tupla', (1, 2, 3))"
            ]
          },
          "metadata": {
            "tags": []
          },
          "execution_count": 9
        }
      ]
    },
    {
      "cell_type": "code",
      "metadata": {
        "id": "-CxHUjiRX84C",
        "colab_type": "code",
        "colab": {},
        "outputId": "09c4ac12-70a8-4760-a1da-6325f20389a5"
      },
      "source": [
        "# Visualizando os elementos de tupla3\n",
        "tupla3"
      ],
      "execution_count": null,
      "outputs": [
        {
          "output_type": "execute_result",
          "data": {
            "text/plain": [
              "(3, 19, 4, 21, 3, 5, 13, 'tupla', [1, 2, 3])"
            ]
          },
          "metadata": {
            "tags": []
          },
          "execution_count": 10
        }
      ]
    },
    {
      "cell_type": "markdown",
      "metadata": {
        "id": "uKdavxuGX84E",
        "colab_type": "text"
      },
      "source": [
        "### 2. Como acessar elementos de uma tupla"
      ]
    },
    {
      "cell_type": "code",
      "metadata": {
        "id": "RQf4xnNMX84E",
        "colab_type": "code",
        "colab": {},
        "outputId": "58bff6b1-19ab-43ba-89b3-682fde1140ae"
      },
      "source": [
        "# Acessando o índice 0 (primeira posição) de tupla1\n",
        "tupla1[0]"
      ],
      "execution_count": null,
      "outputs": [
        {
          "output_type": "execute_result",
          "data": {
            "text/plain": [
              "3"
            ]
          },
          "metadata": {
            "tags": []
          },
          "execution_count": 11
        }
      ]
    },
    {
      "cell_type": "code",
      "metadata": {
        "id": "x6jNgohbX84G",
        "colab_type": "code",
        "colab": {},
        "outputId": "a9a9142a-1502-403f-ef2f-45d3e57e6ca8"
      },
      "source": [
        "# Visualizando os elementos de tupla1\n",
        "tupla1"
      ],
      "execution_count": null,
      "outputs": [
        {
          "output_type": "execute_result",
          "data": {
            "text/plain": [
              "(3, 19, 4, 21, 3, 5, 13)"
            ]
          },
          "metadata": {
            "tags": []
          },
          "execution_count": 12
        }
      ]
    },
    {
      "cell_type": "code",
      "metadata": {
        "id": "BSiFbkwRX84I",
        "colab_type": "code",
        "colab": {},
        "outputId": "d412986b-18dc-42d7-dad5-338e2c50d856"
      },
      "source": [
        "# Acessando o índice 5 (sexta posição) de tupla2\n",
        "tupla2[5]"
      ],
      "execution_count": null,
      "outputs": [
        {
          "output_type": "execute_result",
          "data": {
            "text/plain": [
              "5"
            ]
          },
          "metadata": {
            "tags": []
          },
          "execution_count": 13
        }
      ]
    },
    {
      "cell_type": "code",
      "metadata": {
        "id": "T7E_I2rjX84K",
        "colab_type": "code",
        "colab": {},
        "outputId": "61bfc305-f6f3-4fb3-f061-79da5eb5e8f6"
      },
      "source": [
        "# Visualizando os elementos de tupla2\n",
        "tupla2"
      ],
      "execution_count": null,
      "outputs": [
        {
          "output_type": "execute_result",
          "data": {
            "text/plain": [
              "(3, 19, 4, 21, 3, 5, 13, 'tupla', (1, 2, 3))"
            ]
          },
          "metadata": {
            "tags": []
          },
          "execution_count": 14
        }
      ]
    },
    {
      "cell_type": "code",
      "metadata": {
        "id": "OOwin7KiX84M",
        "colab_type": "code",
        "colab": {},
        "outputId": "8a928cc5-30eb-4528-d705-21ea7e6cdcff"
      },
      "source": [
        "# Acessando o índice 8 (nona posição) de tupla3\n",
        "tupla3[8]"
      ],
      "execution_count": null,
      "outputs": [
        {
          "output_type": "execute_result",
          "data": {
            "text/plain": [
              "[1, 2, 3]"
            ]
          },
          "metadata": {
            "tags": []
          },
          "execution_count": 15
        }
      ]
    },
    {
      "cell_type": "code",
      "metadata": {
        "id": "8gPBbWtMX84O",
        "colab_type": "code",
        "colab": {},
        "outputId": "ffcb0f69-8e97-4114-921f-e9d4c5e2e8fb"
      },
      "source": [
        "# Visualizando os elementos de tupla3\n",
        "tupla3"
      ],
      "execution_count": null,
      "outputs": [
        {
          "output_type": "execute_result",
          "data": {
            "text/plain": [
              "(3, 19, 4, 21, 3, 5, 13, 'tupla', [1, 2, 3])"
            ]
          },
          "metadata": {
            "tags": []
          },
          "execution_count": 16
        }
      ]
    },
    {
      "cell_type": "code",
      "metadata": {
        "id": "26CRQjVpX84R",
        "colab_type": "code",
        "colab": {},
        "outputId": "212aee55-eb83-4d72-b825-d99614b38e26"
      },
      "source": [
        "# Tentando acesso a um índice inexistente\n",
        "tupla3[20]"
      ],
      "execution_count": null,
      "outputs": [
        {
          "output_type": "error",
          "ename": "IndexError",
          "evalue": "tuple index out of range",
          "traceback": [
            "\u001b[0;31m---------------------------------------------------------------------------\u001b[0m",
            "\u001b[0;31mIndexError\u001b[0m                                Traceback (most recent call last)",
            "\u001b[0;32m<ipython-input-17-ce7ed362983a>\u001b[0m in \u001b[0;36m<module>\u001b[0;34m\u001b[0m\n\u001b[1;32m      1\u001b[0m \u001b[0;31m# Tentando acesso a um índice inexistente\u001b[0m\u001b[0;34m\u001b[0m\u001b[0;34m\u001b[0m\u001b[0;34m\u001b[0m\u001b[0m\n\u001b[0;32m----> 2\u001b[0;31m \u001b[0mtupla3\u001b[0m\u001b[0;34m[\u001b[0m\u001b[0;36m20\u001b[0m\u001b[0;34m]\u001b[0m\u001b[0;34m\u001b[0m\u001b[0;34m\u001b[0m\u001b[0m\n\u001b[0m",
            "\u001b[0;31mIndexError\u001b[0m: tuple index out of range"
          ]
        }
      ]
    },
    {
      "cell_type": "markdown",
      "metadata": {
        "id": "yfM_RHkpX84S",
        "colab_type": "text"
      },
      "source": [
        "### 3. A imutabilidade de uma tupla"
      ]
    },
    {
      "cell_type": "code",
      "metadata": {
        "id": "88GwS-ZzX84S",
        "colab_type": "code",
        "colab": {},
        "outputId": "b68d4e83-6e6a-4c85-a70d-bfef03da76f8"
      },
      "source": [
        "# Atribuindo o valor 5 ao índice 0 de tupla1 provocará um erro\n",
        "tupla1[0] = 5"
      ],
      "execution_count": null,
      "outputs": [
        {
          "output_type": "error",
          "ename": "TypeError",
          "evalue": "'tuple' object does not support item assignment",
          "traceback": [
            "\u001b[0;31m---------------------------------------------------------------------------\u001b[0m",
            "\u001b[0;31mTypeError\u001b[0m                                 Traceback (most recent call last)",
            "\u001b[0;32m<ipython-input-18-13b65ddb3b53>\u001b[0m in \u001b[0;36m<module>\u001b[0;34m\u001b[0m\n\u001b[1;32m      1\u001b[0m \u001b[0;31m# Atribuindo o valor 5 ao índice 0 de tupla1 provocará um erro\u001b[0m\u001b[0;34m\u001b[0m\u001b[0;34m\u001b[0m\u001b[0;34m\u001b[0m\u001b[0m\n\u001b[0;32m----> 2\u001b[0;31m \u001b[0mtupla1\u001b[0m\u001b[0;34m[\u001b[0m\u001b[0;36m0\u001b[0m\u001b[0;34m]\u001b[0m \u001b[0;34m=\u001b[0m \u001b[0;36m5\u001b[0m\u001b[0;34m\u001b[0m\u001b[0;34m\u001b[0m\u001b[0m\n\u001b[0m",
            "\u001b[0;31mTypeError\u001b[0m: 'tuple' object does not support item assignment"
          ]
        }
      ]
    },
    {
      "cell_type": "code",
      "metadata": {
        "id": "1lznO7WGX84U",
        "colab_type": "code",
        "colab": {},
        "outputId": "63321305-8fd2-49ac-f3fd-865bedc58ec0"
      },
      "source": [
        "# O mesmo ocorre se tentarmos atribuir o string \"imutável\" para o índice 1 de tupla2 \n",
        "tupla2[1] = \"imutável\""
      ],
      "execution_count": null,
      "outputs": [
        {
          "output_type": "error",
          "ename": "TypeError",
          "evalue": "'tuple' object does not support item assignment",
          "traceback": [
            "\u001b[0;31m---------------------------------------------------------------------------\u001b[0m",
            "\u001b[0;31mTypeError\u001b[0m                                 Traceback (most recent call last)",
            "\u001b[0;32m<ipython-input-20-c245a0a4de0b>\u001b[0m in \u001b[0;36m<module>\u001b[0;34m\u001b[0m\n\u001b[1;32m      1\u001b[0m \u001b[0;31m# O mesmo ocorre se tentarmos atribuir o string \"imutável\" para o índice 1 de tupla2\u001b[0m\u001b[0;34m\u001b[0m\u001b[0;34m\u001b[0m\u001b[0;34m\u001b[0m\u001b[0m\n\u001b[0;32m----> 2\u001b[0;31m \u001b[0mtupla2\u001b[0m\u001b[0;34m[\u001b[0m\u001b[0;36m1\u001b[0m\u001b[0;34m]\u001b[0m \u001b[0;34m=\u001b[0m \u001b[0;34m\"imutável\"\u001b[0m\u001b[0;34m\u001b[0m\u001b[0;34m\u001b[0m\u001b[0m\n\u001b[0m",
            "\u001b[0;31mTypeError\u001b[0m: 'tuple' object does not support item assignment"
          ]
        }
      ]
    },
    {
      "cell_type": "code",
      "metadata": {
        "id": "iSaEgRwcX84W",
        "colab_type": "code",
        "colab": {},
        "outputId": "e24529da-77d6-4eef-af88-d617e748b031"
      },
      "source": [
        "# O índice 8 de tupla2 contém uma outra tupla contendo 3 valores (1, 2, 3).\n",
        "# Tentar atribuir 5 ao índice 1 dessa tupla interna, provocará um erro de execução\n",
        "tupla2[8][1] = 5"
      ],
      "execution_count": null,
      "outputs": [
        {
          "output_type": "error",
          "ename": "TypeError",
          "evalue": "'tuple' object does not support item assignment",
          "traceback": [
            "\u001b[0;31m---------------------------------------------------------------------------\u001b[0m",
            "\u001b[0;31mTypeError\u001b[0m                                 Traceback (most recent call last)",
            "\u001b[0;32m<ipython-input-21-260f3cf026b3>\u001b[0m in \u001b[0;36m<module>\u001b[0;34m\u001b[0m\n\u001b[1;32m      1\u001b[0m \u001b[0;31m# O índice 8 de tupla2 contém uma outra tupla contendo 3 valores (1, 2, 3).\u001b[0m\u001b[0;34m\u001b[0m\u001b[0;34m\u001b[0m\u001b[0;34m\u001b[0m\u001b[0m\n\u001b[1;32m      2\u001b[0m \u001b[0;31m# Tentar atribuir 5 ao índice 1 dessa tupla interna, provocará um erro de execução\u001b[0m\u001b[0;34m\u001b[0m\u001b[0;34m\u001b[0m\u001b[0;34m\u001b[0m\u001b[0m\n\u001b[0;32m----> 3\u001b[0;31m \u001b[0mtupla2\u001b[0m\u001b[0;34m[\u001b[0m\u001b[0;36m8\u001b[0m\u001b[0;34m]\u001b[0m\u001b[0;34m[\u001b[0m\u001b[0;36m1\u001b[0m\u001b[0;34m]\u001b[0m \u001b[0;34m=\u001b[0m \u001b[0;36m5\u001b[0m\u001b[0;34m\u001b[0m\u001b[0;34m\u001b[0m\u001b[0m\n\u001b[0m",
            "\u001b[0;31mTypeError\u001b[0m: 'tuple' object does not support item assignment"
          ]
        }
      ]
    },
    {
      "cell_type": "code",
      "metadata": {
        "id": "JNvbY96oX84Y",
        "colab_type": "code",
        "colab": {}
      },
      "source": [
        "# O mesmo não ocorre ao tentar atribuir 5 ao índice 1, da lista armazenada no índice 8. \n",
        "# O motivo é que a tupla não está sendo alterada. O índice 8 continua contendo uma lista. \n",
        "# Essa lista, por sua vez, é que teve um de seus valores alterados\n",
        "tupla3[8][1] = 5"
      ],
      "execution_count": null,
      "outputs": []
    },
    {
      "cell_type": "code",
      "metadata": {
        "id": "yBeP7cjTX84Z",
        "colab_type": "code",
        "colab": {}
      },
      "source": [
        "# Podemos adicionar elementos à lista armazenada no índice 8 da tupla\n",
        "tupla3[8].extend([4, 5, 6])"
      ],
      "execution_count": null,
      "outputs": []
    },
    {
      "cell_type": "code",
      "metadata": {
        "id": "MfAAhDZdX84b",
        "colab_type": "code",
        "colab": {},
        "outputId": "4fe6adda-b73d-48d3-bdfb-3528c53c0df8"
      },
      "source": [
        "tupla3"
      ],
      "execution_count": null,
      "outputs": [
        {
          "output_type": "execute_result",
          "data": {
            "text/plain": [
              "(3, 19, 4, 21, 3, 5, 13, 'tupla', [1, 5, 3, 4, 5, 6, 4, 5, 6])"
            ]
          },
          "metadata": {
            "tags": []
          },
          "execution_count": 27
        }
      ]
    },
    {
      "cell_type": "code",
      "metadata": {
        "id": "9qKo0fEwX84c",
        "colab_type": "code",
        "colab": {},
        "outputId": "ecaf3063-59ae-4007-fd70-3675cc3b37dd"
      },
      "source": [
        "# Entretanto, matendo a característica de imutabilidade, não podemos substituir a lista do índice 8 por outra\n",
        "tupla3[8] = [-1, -2, -3]"
      ],
      "execution_count": null,
      "outputs": [
        {
          "output_type": "error",
          "ename": "TypeError",
          "evalue": "'tuple' object does not support item assignment",
          "traceback": [
            "\u001b[0;31m---------------------------------------------------------------------------\u001b[0m",
            "\u001b[0;31mTypeError\u001b[0m                                 Traceback (most recent call last)",
            "\u001b[0;32m<ipython-input-28-089d9033cbd3>\u001b[0m in \u001b[0;36m<module>\u001b[0;34m\u001b[0m\n\u001b[1;32m      1\u001b[0m \u001b[0;31m# Entretanto, matendo a característica de imutabilidade, não podemos substituir a lista do índice 8 por outra\u001b[0m\u001b[0;34m\u001b[0m\u001b[0;34m\u001b[0m\u001b[0;34m\u001b[0m\u001b[0m\n\u001b[0;32m----> 2\u001b[0;31m \u001b[0mtupla3\u001b[0m\u001b[0;34m[\u001b[0m\u001b[0;36m8\u001b[0m\u001b[0;34m]\u001b[0m \u001b[0;34m=\u001b[0m \u001b[0;34m[\u001b[0m\u001b[0;34m-\u001b[0m\u001b[0;36m1\u001b[0m\u001b[0;34m,\u001b[0m \u001b[0;34m-\u001b[0m\u001b[0;36m2\u001b[0m\u001b[0;34m,\u001b[0m \u001b[0;34m-\u001b[0m\u001b[0;36m3\u001b[0m\u001b[0;34m]\u001b[0m\u001b[0;34m\u001b[0m\u001b[0;34m\u001b[0m\u001b[0m\n\u001b[0m",
            "\u001b[0;31mTypeError\u001b[0m: 'tuple' object does not support item assignment"
          ]
        }
      ]
    },
    {
      "cell_type": "markdown",
      "metadata": {
        "id": "7_4FTavgX84e",
        "colab_type": "text"
      },
      "source": [
        "### 4. Principais métodos de um objeto tupla"
      ]
    },
    {
      "cell_type": "code",
      "metadata": {
        "id": "1zTDRCewX84e",
        "colab_type": "code",
        "colab": {},
        "outputId": "0dd025b5-d9f8-48c1-e716-70898eb4fc44"
      },
      "source": [
        "# Verificando quantas vezes o número 3 aparece em tupla1\n",
        "tupla1.count(3)"
      ],
      "execution_count": null,
      "outputs": [
        {
          "output_type": "execute_result",
          "data": {
            "text/plain": [
              "2"
            ]
          },
          "metadata": {
            "tags": []
          },
          "execution_count": 29
        }
      ]
    },
    {
      "cell_type": "code",
      "metadata": {
        "id": "5XMfOHvFX84f",
        "colab_type": "code",
        "colab": {},
        "outputId": "02a44a5c-4bbe-46a0-a14e-94b42ec4ccd0"
      },
      "source": [
        "tupla1"
      ],
      "execution_count": null,
      "outputs": [
        {
          "output_type": "execute_result",
          "data": {
            "text/plain": [
              "(3, 19, 4, 21, 3, 5, 13)"
            ]
          },
          "metadata": {
            "tags": []
          },
          "execution_count": 30
        }
      ]
    },
    {
      "cell_type": "code",
      "metadata": {
        "id": "Bhz56l-ZX84g",
        "colab_type": "code",
        "colab": {},
        "outputId": "1b2bef7b-20c5-4ca4-88b8-a13c4187d744"
      },
      "source": [
        "# Verificando em que posição está armazenado o elemento 21\n",
        "tupla1.index(21)"
      ],
      "execution_count": null,
      "outputs": [
        {
          "output_type": "execute_result",
          "data": {
            "text/plain": [
              "3"
            ]
          },
          "metadata": {
            "tags": []
          },
          "execution_count": 31
        }
      ]
    },
    {
      "cell_type": "markdown",
      "metadata": {
        "id": "w37WzoNkX84h",
        "colab_type": "text"
      },
      "source": [
        "### 5. Funções aplicáveis a uma tupla"
      ]
    },
    {
      "cell_type": "code",
      "metadata": {
        "id": "AQPgNWRzX84h",
        "colab_type": "code",
        "colab": {},
        "outputId": "17a36fa2-aede-4e2a-8187-a6dbe8348b60"
      },
      "source": [
        "len(tupla1)"
      ],
      "execution_count": null,
      "outputs": [
        {
          "output_type": "execute_result",
          "data": {
            "text/plain": [
              "7"
            ]
          },
          "metadata": {
            "tags": []
          },
          "execution_count": 32
        }
      ]
    },
    {
      "cell_type": "code",
      "metadata": {
        "id": "NePWudFaX84j",
        "colab_type": "code",
        "colab": {},
        "outputId": "887ba59c-2811-4924-c296-a2622fc52209"
      },
      "source": [
        "max(tupla1)"
      ],
      "execution_count": null,
      "outputs": [
        {
          "output_type": "execute_result",
          "data": {
            "text/plain": [
              "21"
            ]
          },
          "metadata": {
            "tags": []
          },
          "execution_count": 33
        }
      ]
    },
    {
      "cell_type": "code",
      "metadata": {
        "id": "bAurjhGcX84k",
        "colab_type": "code",
        "colab": {},
        "outputId": "b9285bcd-7fe4-4154-e747-4d5688850fa8"
      },
      "source": [
        "min(tupla1)"
      ],
      "execution_count": null,
      "outputs": [
        {
          "output_type": "execute_result",
          "data": {
            "text/plain": [
              "3"
            ]
          },
          "metadata": {
            "tags": []
          },
          "execution_count": 34
        }
      ]
    },
    {
      "cell_type": "code",
      "metadata": {
        "id": "ZNZAdXnmX84l",
        "colab_type": "code",
        "colab": {},
        "outputId": "54a58f5a-426f-45a5-a7e7-78696d1319a8"
      },
      "source": [
        "sum(tupla1)"
      ],
      "execution_count": null,
      "outputs": [
        {
          "output_type": "execute_result",
          "data": {
            "text/plain": [
              "68"
            ]
          },
          "metadata": {
            "tags": []
          },
          "execution_count": 35
        }
      ]
    },
    {
      "cell_type": "markdown",
      "metadata": {
        "id": "6TARcp1cX84n",
        "colab_type": "text"
      },
      "source": [
        "### 6. Convertendo uma tupla em lista"
      ]
    },
    {
      "cell_type": "code",
      "metadata": {
        "id": "0H-j2CVoX84n",
        "colab_type": "code",
        "colab": {}
      },
      "source": [
        "lista = list(tupla1)"
      ],
      "execution_count": null,
      "outputs": []
    },
    {
      "cell_type": "code",
      "metadata": {
        "id": "_Ug_S6UeX84o",
        "colab_type": "code",
        "colab": {},
        "outputId": "3e7cff21-4a32-452f-88d0-b5691323e17d"
      },
      "source": [
        "lista"
      ],
      "execution_count": null,
      "outputs": [
        {
          "output_type": "execute_result",
          "data": {
            "text/plain": [
              "[3, 19, 4, 21, 3, 5, 13]"
            ]
          },
          "metadata": {
            "tags": []
          },
          "execution_count": 37
        }
      ]
    },
    {
      "cell_type": "code",
      "metadata": {
        "id": "x84Irj9rX84p",
        "colab_type": "code",
        "colab": {},
        "outputId": "320f6e12-7208-4daf-b178-dddbdcc80785"
      },
      "source": [
        "tupla1[6] = -1 # A imutabilidade da tupla não permite a alteração de um valor"
      ],
      "execution_count": null,
      "outputs": [
        {
          "output_type": "error",
          "ename": "TypeError",
          "evalue": "'tuple' object does not support item assignment",
          "traceback": [
            "\u001b[0;31m---------------------------------------------------------------------------\u001b[0m",
            "\u001b[0;31mTypeError\u001b[0m                                 Traceback (most recent call last)",
            "\u001b[0;32m<ipython-input-38-7aa5fc7c84f1>\u001b[0m in \u001b[0;36m<module>\u001b[0;34m\u001b[0m\n\u001b[0;32m----> 1\u001b[0;31m \u001b[0mtupla1\u001b[0m\u001b[0;34m[\u001b[0m\u001b[0;36m6\u001b[0m\u001b[0;34m]\u001b[0m \u001b[0;34m=\u001b[0m \u001b[0;34m-\u001b[0m\u001b[0;36m1\u001b[0m \u001b[0;31m# A imutabilidade da tupla não permite a alteração de um valor\u001b[0m\u001b[0;34m\u001b[0m\u001b[0;34m\u001b[0m\u001b[0m\n\u001b[0m",
            "\u001b[0;31mTypeError\u001b[0m: 'tuple' object does not support item assignment"
          ]
        }
      ]
    },
    {
      "cell_type": "code",
      "metadata": {
        "id": "84nzrOBYX84q",
        "colab_type": "code",
        "colab": {}
      },
      "source": [
        "lista[6] = -1 # A lista resultante da conversão da lista permite a alteração"
      ],
      "execution_count": null,
      "outputs": []
    },
    {
      "cell_type": "code",
      "metadata": {
        "id": "UL4fLE2iX84s",
        "colab_type": "code",
        "colab": {},
        "outputId": "ed201e76-8abc-4db9-d3b7-1a0518017727"
      },
      "source": [
        "lista"
      ],
      "execution_count": null,
      "outputs": [
        {
          "output_type": "execute_result",
          "data": {
            "text/plain": [
              "[3, 19, 4, 21, 3, 5, -1]"
            ]
          },
          "metadata": {
            "tags": []
          },
          "execution_count": 40
        }
      ]
    },
    {
      "cell_type": "code",
      "metadata": {
        "id": "AP_asTaIX84t",
        "colab_type": "code",
        "colab": {}
      },
      "source": [
        ""
      ],
      "execution_count": null,
      "outputs": []
    }
  ]
}